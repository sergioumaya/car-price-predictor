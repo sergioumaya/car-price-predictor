{
 "cells": [
  {
   "cell_type": "code",
   "execution_count": 1,
   "metadata": {},
   "outputs": [],
   "source": [
    "import numpy as np\n",
    "import pandas as pd\n",
    "import seaborn as sns\n",
    "import matplotlib.pyplot as plt\n",
    "\n",
    "plt.figure(figsize=(14, 10))\n",
    "%matplotlib inline"
   ]
  },
  {
   "cell_type": "markdown",
   "metadata": {},
   "source": [
    "### Reading the data"
   ]
  },
  {
   "cell_type": "code",
   "execution_count": 2,
   "metadata": {},
   "outputs": [],
   "source": [
    "cars_dataset_df = pd.read_csv(\"raw_car_price_dataset.csv\",index_col=0)"
   ]
  },
  {
   "cell_type": "code",
   "execution_count": 3,
   "metadata": {},
   "outputs": [
    {
     "data": {
      "text/html": [
       "<div>\n",
       "<style scoped>\n",
       "    .dataframe tbody tr th:only-of-type {\n",
       "        vertical-align: middle;\n",
       "    }\n",
       "\n",
       "    .dataframe tbody tr th {\n",
       "        vertical-align: top;\n",
       "    }\n",
       "\n",
       "    .dataframe thead th {\n",
       "        text-align: right;\n",
       "    }\n",
       "</style>\n",
       "<table border=\"1\" class=\"dataframe\">\n",
       "  <thead>\n",
       "    <tr style=\"text-align: right;\">\n",
       "      <th></th>\n",
       "      <th>Condition</th>\n",
       "      <th>State</th>\n",
       "      <th>City</th>\n",
       "      <th>Price</th>\n",
       "      <th>Currency</th>\n",
       "      <th>ITEM_CONDITION</th>\n",
       "      <th>LENGTH</th>\n",
       "      <th>PASSENGER_CAPACITY</th>\n",
       "      <th>POWER</th>\n",
       "      <th>TRACTION_CONTROL</th>\n",
       "      <th>...</th>\n",
       "      <th>FORKLIFT_TYPE</th>\n",
       "      <th>HAS_POWER_TRIM</th>\n",
       "      <th>ENGINE_QUANTITY</th>\n",
       "      <th>BEAM</th>\n",
       "      <th>OPERATING_WEIGHT</th>\n",
       "      <th>LINE</th>\n",
       "      <th>WEIGHT</th>\n",
       "      <th>DRAFT</th>\n",
       "      <th>INTERNAL_DIAMETER</th>\n",
       "      <th>MAX_POWER</th>\n",
       "    </tr>\n",
       "  </thead>\n",
       "  <tbody>\n",
       "    <tr>\n",
       "      <th>MLM805152052</th>\n",
       "      <td>used</td>\n",
       "      <td>Hidalgo</td>\n",
       "      <td>Pachuca De Soto</td>\n",
       "      <td>329000.0</td>\n",
       "      <td>MXN</td>\n",
       "      <td>Usado</td>\n",
       "      <td>4923 mm</td>\n",
       "      <td>5.0</td>\n",
       "      <td>185 hp</td>\n",
       "      <td>Trasera</td>\n",
       "      <td>...</td>\n",
       "      <td>NaN</td>\n",
       "      <td>NaN</td>\n",
       "      <td>NaN</td>\n",
       "      <td>NaN</td>\n",
       "      <td>NaN</td>\n",
       "      <td>NaN</td>\n",
       "      <td>NaN</td>\n",
       "      <td>NaN</td>\n",
       "      <td>NaN</td>\n",
       "      <td>NaN</td>\n",
       "    </tr>\n",
       "    <tr>\n",
       "      <th>MLM804194237</th>\n",
       "      <td>used</td>\n",
       "      <td>Hidalgo</td>\n",
       "      <td>Pachuca De Soto</td>\n",
       "      <td>295000.0</td>\n",
       "      <td>MXN</td>\n",
       "      <td>Usado</td>\n",
       "      <td>4432 mm</td>\n",
       "      <td>2.0</td>\n",
       "      <td>184 hp</td>\n",
       "      <td>Trasera</td>\n",
       "      <td>...</td>\n",
       "      <td>NaN</td>\n",
       "      <td>NaN</td>\n",
       "      <td>NaN</td>\n",
       "      <td>NaN</td>\n",
       "      <td>NaN</td>\n",
       "      <td>NaN</td>\n",
       "      <td>NaN</td>\n",
       "      <td>NaN</td>\n",
       "      <td>NaN</td>\n",
       "      <td>NaN</td>\n",
       "    </tr>\n",
       "    <tr>\n",
       "      <th>MLM810635258</th>\n",
       "      <td>used</td>\n",
       "      <td>Hidalgo</td>\n",
       "      <td>Pachuca De Soto</td>\n",
       "      <td>189000.0</td>\n",
       "      <td>MXN</td>\n",
       "      <td>Usado</td>\n",
       "      <td>NaN</td>\n",
       "      <td>NaN</td>\n",
       "      <td>NaN</td>\n",
       "      <td>NaN</td>\n",
       "      <td>...</td>\n",
       "      <td>NaN</td>\n",
       "      <td>NaN</td>\n",
       "      <td>NaN</td>\n",
       "      <td>NaN</td>\n",
       "      <td>NaN</td>\n",
       "      <td>NaN</td>\n",
       "      <td>NaN</td>\n",
       "      <td>NaN</td>\n",
       "      <td>NaN</td>\n",
       "      <td>NaN</td>\n",
       "    </tr>\n",
       "    <tr>\n",
       "      <th>MLM805511847</th>\n",
       "      <td>used</td>\n",
       "      <td>Hidalgo</td>\n",
       "      <td>Pachuca De Soto</td>\n",
       "      <td>259000.0</td>\n",
       "      <td>MXN</td>\n",
       "      <td>Usado</td>\n",
       "      <td>NaN</td>\n",
       "      <td>5.0</td>\n",
       "      <td>NaN</td>\n",
       "      <td>4x4</td>\n",
       "      <td>...</td>\n",
       "      <td>NaN</td>\n",
       "      <td>NaN</td>\n",
       "      <td>NaN</td>\n",
       "      <td>NaN</td>\n",
       "      <td>NaN</td>\n",
       "      <td>NaN</td>\n",
       "      <td>NaN</td>\n",
       "      <td>NaN</td>\n",
       "      <td>NaN</td>\n",
       "      <td>NaN</td>\n",
       "    </tr>\n",
       "    <tr>\n",
       "      <th>MLM796882323</th>\n",
       "      <td>used</td>\n",
       "      <td>Puebla</td>\n",
       "      <td>Puebla</td>\n",
       "      <td>349900.0</td>\n",
       "      <td>MXN</td>\n",
       "      <td>Usado</td>\n",
       "      <td>4834 mm</td>\n",
       "      <td>5.0</td>\n",
       "      <td>NaN</td>\n",
       "      <td>4x4</td>\n",
       "      <td>...</td>\n",
       "      <td>NaN</td>\n",
       "      <td>NaN</td>\n",
       "      <td>NaN</td>\n",
       "      <td>NaN</td>\n",
       "      <td>NaN</td>\n",
       "      <td>NaN</td>\n",
       "      <td>NaN</td>\n",
       "      <td>NaN</td>\n",
       "      <td>NaN</td>\n",
       "      <td>NaN</td>\n",
       "    </tr>\n",
       "  </tbody>\n",
       "</table>\n",
       "<p>5 rows × 37 columns</p>\n",
       "</div>"
      ],
      "text/plain": [
       "             Condition    State             City     Price Currency  \\\n",
       "MLM805152052      used  Hidalgo  Pachuca De Soto  329000.0      MXN   \n",
       "MLM804194237      used  Hidalgo  Pachuca De Soto  295000.0      MXN   \n",
       "MLM810635258      used  Hidalgo  Pachuca De Soto  189000.0      MXN   \n",
       "MLM805511847      used  Hidalgo  Pachuca De Soto  259000.0      MXN   \n",
       "MLM796882323      used   Puebla           Puebla  349900.0      MXN   \n",
       "\n",
       "             ITEM_CONDITION   LENGTH  PASSENGER_CAPACITY   POWER  \\\n",
       "MLM805152052          Usado  4923 mm                 5.0  185 hp   \n",
       "MLM804194237          Usado  4432 mm                 2.0  184 hp   \n",
       "MLM810635258          Usado      NaN                 NaN     NaN   \n",
       "MLM805511847          Usado      NaN                 5.0     NaN   \n",
       "MLM796882323          Usado  4834 mm                 5.0     NaN   \n",
       "\n",
       "             TRACTION_CONTROL  ... FORKLIFT_TYPE HAS_POWER_TRIM  \\\n",
       "MLM805152052          Trasera  ...           NaN            NaN   \n",
       "MLM804194237          Trasera  ...           NaN            NaN   \n",
       "MLM810635258              NaN  ...           NaN            NaN   \n",
       "MLM805511847              4x4  ...           NaN            NaN   \n",
       "MLM796882323              4x4  ...           NaN            NaN   \n",
       "\n",
       "             ENGINE_QUANTITY  BEAM OPERATING_WEIGHT LINE WEIGHT DRAFT  \\\n",
       "MLM805152052             NaN   NaN              NaN  NaN    NaN   NaN   \n",
       "MLM804194237             NaN   NaN              NaN  NaN    NaN   NaN   \n",
       "MLM810635258             NaN   NaN              NaN  NaN    NaN   NaN   \n",
       "MLM805511847             NaN   NaN              NaN  NaN    NaN   NaN   \n",
       "MLM796882323             NaN   NaN              NaN  NaN    NaN   NaN   \n",
       "\n",
       "             INTERNAL_DIAMETER MAX_POWER  \n",
       "MLM805152052               NaN       NaN  \n",
       "MLM804194237               NaN       NaN  \n",
       "MLM810635258               NaN       NaN  \n",
       "MLM805511847               NaN       NaN  \n",
       "MLM796882323               NaN       NaN  \n",
       "\n",
       "[5 rows x 37 columns]"
      ]
     },
     "execution_count": 3,
     "metadata": {},
     "output_type": "execute_result"
    }
   ],
   "source": [
    "cars_dataset_df.head()"
   ]
  },
  {
   "cell_type": "markdown",
   "metadata": {},
   "source": [
    "## Preprocessing the price column"
   ]
  },
  {
   "cell_type": "code",
   "execution_count": 4,
   "metadata": {},
   "outputs": [],
   "source": [
    "from forex_python.converter import CurrencyRates\n",
    "from datetime import datetime\n",
    "c = CurrencyRates()\n",
    "date = datetime(2020,9,5)"
   ]
  },
  {
   "cell_type": "code",
   "execution_count": 5,
   "metadata": {},
   "outputs": [
    {
     "name": "stdout",
     "output_type": "stream",
     "text": [
      "Different currencies in the dataset ['MXN' 'USD']\n"
     ]
    }
   ],
   "source": [
    "print(\"Different currencies in the dataset\",(cars_dataset_df.Currency.unique()))"
   ]
  },
  {
   "cell_type": "code",
   "execution_count": 6,
   "metadata": {},
   "outputs": [],
   "source": [
    "cars_dataset_df['Price_MXN']= cars_dataset_df.apply(lambda x: x.Price if x.Currency == 'MXN' else \n",
    "                                                       c.convert('USD', 'MXN', x.Price, date), axis=1)"
   ]
  },
  {
   "cell_type": "code",
   "execution_count": 7,
   "metadata": {},
   "outputs": [],
   "source": [
    "cars_dataset_df.drop([\"Price\",\"Currency\"],axis=1,inplace=True)"
   ]
  },
  {
   "cell_type": "markdown",
   "metadata": {},
   "source": [
    "Drop outliers"
   ]
  },
  {
   "cell_type": "code",
   "execution_count": 8,
   "metadata": {},
   "outputs": [],
   "source": [
    "from scipy import stats\n",
    "\n",
    "z_scores = stats.zscore(cars_dataset_df.Price_MXN)\n",
    "\n",
    "abs_z_scores = np.abs(z_scores)\n",
    "filtered_entries = (abs_z_scores < 3)#.all(axis=1)\n",
    "cars_dataset_df = cars_dataset_df[filtered_entries]"
   ]
  },
  {
   "cell_type": "code",
   "execution_count": 9,
   "metadata": {},
   "outputs": [
    {
     "data": {
      "text/plain": [
       "<AxesSubplot:xlabel='Price_MXN'>"
      ]
     },
     "execution_count": 9,
     "metadata": {},
     "output_type": "execute_result"
    },
    {
     "data": {
      "image/png": "[encoded data removed]",
      "text/plain": [
       "<Figure size 720x576 with 1 Axes>"
      ]
     },
     "metadata": {
      "needs_background": "light"
     },
     "output_type": "display_data"
    }
   ],
   "source": [
    "plt.figure(figsize=(10, 8))\n",
    "sns.distplot(cars_dataset_df.Price_MXN,hist=True)"
   ]
  },
  {
   "cell_type": "markdown",
   "metadata": {},
   "source": [
    "## \"Condition\" feature"
   ]
  },
  {
   "cell_type": "code",
   "execution_count": 10,
   "metadata": {},
   "outputs": [
    {
     "data": {
      "text/html": [
       "<div>\n",
       "<style scoped>\n",
       "    .dataframe tbody tr th:only-of-type {\n",
       "        vertical-align: middle;\n",
       "    }\n",
       "\n",
       "    .dataframe tbody tr th {\n",
       "        vertical-align: top;\n",
       "    }\n",
       "\n",
       "    .dataframe thead th {\n",
       "        text-align: right;\n",
       "    }\n",
       "</style>\n",
       "<table border=\"1\" class=\"dataframe\">\n",
       "  <thead>\n",
       "    <tr style=\"text-align: right;\">\n",
       "      <th></th>\n",
       "      <th>Condition</th>\n",
       "      <th>State</th>\n",
       "      <th>City</th>\n",
       "      <th>LENGTH</th>\n",
       "      <th>PASSENGER_CAPACITY</th>\n",
       "      <th>POWER</th>\n",
       "      <th>TRACTION_CONTROL</th>\n",
       "      <th>HAS_AIR_CONDITIONING</th>\n",
       "      <th>ENGINE_DISPLACEMENT</th>\n",
       "      <th>BRAND</th>\n",
       "      <th>...</th>\n",
       "      <th>HAS_POWER_TRIM</th>\n",
       "      <th>ENGINE_QUANTITY</th>\n",
       "      <th>BEAM</th>\n",
       "      <th>OPERATING_WEIGHT</th>\n",
       "      <th>LINE</th>\n",
       "      <th>WEIGHT</th>\n",
       "      <th>DRAFT</th>\n",
       "      <th>INTERNAL_DIAMETER</th>\n",
       "      <th>MAX_POWER</th>\n",
       "      <th>Price_MXN</th>\n",
       "    </tr>\n",
       "  </thead>\n",
       "  <tbody>\n",
       "    <tr>\n",
       "      <th>MLM805152052</th>\n",
       "      <td>used</td>\n",
       "      <td>Hidalgo</td>\n",
       "      <td>Pachuca De Soto</td>\n",
       "      <td>4923 mm</td>\n",
       "      <td>5.0</td>\n",
       "      <td>185 hp</td>\n",
       "      <td>Trasera</td>\n",
       "      <td>Sí</td>\n",
       "      <td>1991 cc</td>\n",
       "      <td>Mercedes-Benz</td>\n",
       "      <td>...</td>\n",
       "      <td>NaN</td>\n",
       "      <td>NaN</td>\n",
       "      <td>NaN</td>\n",
       "      <td>NaN</td>\n",
       "      <td>NaN</td>\n",
       "      <td>NaN</td>\n",
       "      <td>NaN</td>\n",
       "      <td>NaN</td>\n",
       "      <td>NaN</td>\n",
       "      <td>329000.0</td>\n",
       "    </tr>\n",
       "    <tr>\n",
       "      <th>MLM804194237</th>\n",
       "      <td>used</td>\n",
       "      <td>Hidalgo</td>\n",
       "      <td>Pachuca De Soto</td>\n",
       "      <td>4432 mm</td>\n",
       "      <td>2.0</td>\n",
       "      <td>184 hp</td>\n",
       "      <td>Trasera</td>\n",
       "      <td>Sí</td>\n",
       "      <td>1997 cc</td>\n",
       "      <td>BMW</td>\n",
       "      <td>...</td>\n",
       "      <td>NaN</td>\n",
       "      <td>NaN</td>\n",
       "      <td>NaN</td>\n",
       "      <td>NaN</td>\n",
       "      <td>NaN</td>\n",
       "      <td>NaN</td>\n",
       "      <td>NaN</td>\n",
       "      <td>NaN</td>\n",
       "      <td>NaN</td>\n",
       "      <td>295000.0</td>\n",
       "    </tr>\n",
       "    <tr>\n",
       "      <th>MLM810635258</th>\n",
       "      <td>used</td>\n",
       "      <td>Hidalgo</td>\n",
       "      <td>Pachuca De Soto</td>\n",
       "      <td>NaN</td>\n",
       "      <td>NaN</td>\n",
       "      <td>NaN</td>\n",
       "      <td>NaN</td>\n",
       "      <td>NaN</td>\n",
       "      <td>650 cc</td>\n",
       "      <td>Can-Am</td>\n",
       "      <td>...</td>\n",
       "      <td>NaN</td>\n",
       "      <td>NaN</td>\n",
       "      <td>NaN</td>\n",
       "      <td>NaN</td>\n",
       "      <td>NaN</td>\n",
       "      <td>NaN</td>\n",
       "      <td>NaN</td>\n",
       "      <td>NaN</td>\n",
       "      <td>NaN</td>\n",
       "      <td>189000.0</td>\n",
       "    </tr>\n",
       "    <tr>\n",
       "      <th>MLM805511847</th>\n",
       "      <td>used</td>\n",
       "      <td>Hidalgo</td>\n",
       "      <td>Pachuca De Soto</td>\n",
       "      <td>NaN</td>\n",
       "      <td>5.0</td>\n",
       "      <td>NaN</td>\n",
       "      <td>4x4</td>\n",
       "      <td>Sí</td>\n",
       "      <td>3.6 L</td>\n",
       "      <td>Porsche</td>\n",
       "      <td>...</td>\n",
       "      <td>NaN</td>\n",
       "      <td>NaN</td>\n",
       "      <td>NaN</td>\n",
       "      <td>NaN</td>\n",
       "      <td>NaN</td>\n",
       "      <td>NaN</td>\n",
       "      <td>NaN</td>\n",
       "      <td>NaN</td>\n",
       "      <td>NaN</td>\n",
       "      <td>259000.0</td>\n",
       "    </tr>\n",
       "    <tr>\n",
       "      <th>MLM796882323</th>\n",
       "      <td>used</td>\n",
       "      <td>Puebla</td>\n",
       "      <td>Puebla</td>\n",
       "      <td>4834 mm</td>\n",
       "      <td>5.0</td>\n",
       "      <td>NaN</td>\n",
       "      <td>4x4</td>\n",
       "      <td>Sí</td>\n",
       "      <td>3.6 L</td>\n",
       "      <td>Cadillac</td>\n",
       "      <td>...</td>\n",
       "      <td>NaN</td>\n",
       "      <td>NaN</td>\n",
       "      <td>NaN</td>\n",
       "      <td>NaN</td>\n",
       "      <td>NaN</td>\n",
       "      <td>NaN</td>\n",
       "      <td>NaN</td>\n",
       "      <td>NaN</td>\n",
       "      <td>NaN</td>\n",
       "      <td>349900.0</td>\n",
       "    </tr>\n",
       "    <tr>\n",
       "      <th>...</th>\n",
       "      <td>...</td>\n",
       "      <td>...</td>\n",
       "      <td>...</td>\n",
       "      <td>...</td>\n",
       "      <td>...</td>\n",
       "      <td>...</td>\n",
       "      <td>...</td>\n",
       "      <td>...</td>\n",
       "      <td>...</td>\n",
       "      <td>...</td>\n",
       "      <td>...</td>\n",
       "      <td>...</td>\n",
       "      <td>...</td>\n",
       "      <td>...</td>\n",
       "      <td>...</td>\n",
       "      <td>...</td>\n",
       "      <td>...</td>\n",
       "      <td>...</td>\n",
       "      <td>...</td>\n",
       "      <td>...</td>\n",
       "      <td>...</td>\n",
       "    </tr>\n",
       "    <tr>\n",
       "      <th>MLM812412908</th>\n",
       "      <td>used</td>\n",
       "      <td>Jalisco</td>\n",
       "      <td>Zapopan</td>\n",
       "      <td>NaN</td>\n",
       "      <td>NaN</td>\n",
       "      <td>NaN</td>\n",
       "      <td>Delantera</td>\n",
       "      <td>Sí</td>\n",
       "      <td>NaN</td>\n",
       "      <td>Audi</td>\n",
       "      <td>...</td>\n",
       "      <td>NaN</td>\n",
       "      <td>NaN</td>\n",
       "      <td>NaN</td>\n",
       "      <td>NaN</td>\n",
       "      <td>NaN</td>\n",
       "      <td>NaN</td>\n",
       "      <td>NaN</td>\n",
       "      <td>NaN</td>\n",
       "      <td>NaN</td>\n",
       "      <td>239000.0</td>\n",
       "    </tr>\n",
       "    <tr>\n",
       "      <th>MLM812404163</th>\n",
       "      <td>used</td>\n",
       "      <td>Jalisco</td>\n",
       "      <td>Zapopan</td>\n",
       "      <td>NaN</td>\n",
       "      <td>NaN</td>\n",
       "      <td>NaN</td>\n",
       "      <td>Delantera</td>\n",
       "      <td>Sí</td>\n",
       "      <td>NaN</td>\n",
       "      <td>Audi</td>\n",
       "      <td>...</td>\n",
       "      <td>NaN</td>\n",
       "      <td>NaN</td>\n",
       "      <td>NaN</td>\n",
       "      <td>NaN</td>\n",
       "      <td>NaN</td>\n",
       "      <td>NaN</td>\n",
       "      <td>NaN</td>\n",
       "      <td>NaN</td>\n",
       "      <td>NaN</td>\n",
       "      <td>290000.0</td>\n",
       "    </tr>\n",
       "    <tr>\n",
       "      <th>MLM812399606</th>\n",
       "      <td>used</td>\n",
       "      <td>Distrito Federal</td>\n",
       "      <td>Benito Juárez</td>\n",
       "      <td>NaN</td>\n",
       "      <td>NaN</td>\n",
       "      <td>NaN</td>\n",
       "      <td>Delantera</td>\n",
       "      <td>Sí</td>\n",
       "      <td>NaN</td>\n",
       "      <td>Chevrolet</td>\n",
       "      <td>...</td>\n",
       "      <td>NaN</td>\n",
       "      <td>NaN</td>\n",
       "      <td>NaN</td>\n",
       "      <td>NaN</td>\n",
       "      <td>NaN</td>\n",
       "      <td>NaN</td>\n",
       "      <td>NaN</td>\n",
       "      <td>NaN</td>\n",
       "      <td>NaN</td>\n",
       "      <td>240000.0</td>\n",
       "    </tr>\n",
       "    <tr>\n",
       "      <th>MLM812395158</th>\n",
       "      <td>used</td>\n",
       "      <td>Estado De México</td>\n",
       "      <td>Naucalpan</td>\n",
       "      <td>NaN</td>\n",
       "      <td>NaN</td>\n",
       "      <td>NaN</td>\n",
       "      <td>4x4</td>\n",
       "      <td>Sí</td>\n",
       "      <td>NaN</td>\n",
       "      <td>Acura</td>\n",
       "      <td>...</td>\n",
       "      <td>NaN</td>\n",
       "      <td>NaN</td>\n",
       "      <td>NaN</td>\n",
       "      <td>NaN</td>\n",
       "      <td>NaN</td>\n",
       "      <td>NaN</td>\n",
       "      <td>NaN</td>\n",
       "      <td>NaN</td>\n",
       "      <td>NaN</td>\n",
       "      <td>208900.0</td>\n",
       "    </tr>\n",
       "    <tr>\n",
       "      <th>MLM812354996</th>\n",
       "      <td>used</td>\n",
       "      <td>Distrito Federal</td>\n",
       "      <td>Azcapotzalco</td>\n",
       "      <td>NaN</td>\n",
       "      <td>NaN</td>\n",
       "      <td>NaN</td>\n",
       "      <td>4x4</td>\n",
       "      <td>Sí</td>\n",
       "      <td>NaN</td>\n",
       "      <td>BMW</td>\n",
       "      <td>...</td>\n",
       "      <td>NaN</td>\n",
       "      <td>NaN</td>\n",
       "      <td>NaN</td>\n",
       "      <td>NaN</td>\n",
       "      <td>NaN</td>\n",
       "      <td>NaN</td>\n",
       "      <td>NaN</td>\n",
       "      <td>NaN</td>\n",
       "      <td>NaN</td>\n",
       "      <td>325000.0</td>\n",
       "    </tr>\n",
       "  </tbody>\n",
       "</table>\n",
       "<p>9964 rows × 35 columns</p>\n",
       "</div>"
      ],
      "text/plain": [
       "             Condition             State             City   LENGTH  \\\n",
       "MLM805152052      used           Hidalgo  Pachuca De Soto  4923 mm   \n",
       "MLM804194237      used           Hidalgo  Pachuca De Soto  4432 mm   \n",
       "MLM810635258      used           Hidalgo  Pachuca De Soto      NaN   \n",
       "MLM805511847      used           Hidalgo  Pachuca De Soto      NaN   \n",
       "MLM796882323      used            Puebla           Puebla  4834 mm   \n",
       "...                ...               ...              ...      ...   \n",
       "MLM812412908      used           Jalisco          Zapopan      NaN   \n",
       "MLM812404163      used           Jalisco          Zapopan      NaN   \n",
       "MLM812399606      used  Distrito Federal    Benito Juárez      NaN   \n",
       "MLM812395158      used  Estado De México        Naucalpan      NaN   \n",
       "MLM812354996      used  Distrito Federal     Azcapotzalco      NaN   \n",
       "\n",
       "              PASSENGER_CAPACITY   POWER TRACTION_CONTROL  \\\n",
       "MLM805152052                 5.0  185 hp          Trasera   \n",
       "MLM804194237                 2.0  184 hp          Trasera   \n",
       "MLM810635258                 NaN     NaN              NaN   \n",
       "MLM805511847                 5.0     NaN              4x4   \n",
       "MLM796882323                 5.0     NaN              4x4   \n",
       "...                          ...     ...              ...   \n",
       "MLM812412908                 NaN     NaN        Delantera   \n",
       "MLM812404163                 NaN     NaN        Delantera   \n",
       "MLM812399606                 NaN     NaN        Delantera   \n",
       "MLM812395158                 NaN     NaN              4x4   \n",
       "MLM812354996                 NaN     NaN              4x4   \n",
       "\n",
       "             HAS_AIR_CONDITIONING ENGINE_DISPLACEMENT          BRAND  ...  \\\n",
       "MLM805152052                   Sí             1991 cc  Mercedes-Benz  ...   \n",
       "MLM804194237                   Sí             1997 cc            BMW  ...   \n",
       "MLM810635258                  NaN              650 cc         Can-Am  ...   \n",
       "MLM805511847                   Sí               3.6 L        Porsche  ...   \n",
       "MLM796882323                   Sí               3.6 L       Cadillac  ...   \n",
       "...                           ...                 ...            ...  ...   \n",
       "MLM812412908                   Sí                 NaN           Audi  ...   \n",
       "MLM812404163                   Sí                 NaN           Audi  ...   \n",
       "MLM812399606                   Sí                 NaN      Chevrolet  ...   \n",
       "MLM812395158                   Sí                 NaN          Acura  ...   \n",
       "MLM812354996                   Sí                 NaN            BMW  ...   \n",
       "\n",
       "              HAS_POWER_TRIM ENGINE_QUANTITY BEAM OPERATING_WEIGHT LINE  \\\n",
       "MLM805152052             NaN             NaN  NaN              NaN  NaN   \n",
       "MLM804194237             NaN             NaN  NaN              NaN  NaN   \n",
       "MLM810635258             NaN             NaN  NaN              NaN  NaN   \n",
       "MLM805511847             NaN             NaN  NaN              NaN  NaN   \n",
       "MLM796882323             NaN             NaN  NaN              NaN  NaN   \n",
       "...                      ...             ...  ...              ...  ...   \n",
       "MLM812412908             NaN             NaN  NaN              NaN  NaN   \n",
       "MLM812404163             NaN             NaN  NaN              NaN  NaN   \n",
       "MLM812399606             NaN             NaN  NaN              NaN  NaN   \n",
       "MLM812395158             NaN             NaN  NaN              NaN  NaN   \n",
       "MLM812354996             NaN             NaN  NaN              NaN  NaN   \n",
       "\n",
       "             WEIGHT DRAFT  INTERNAL_DIAMETER MAX_POWER Price_MXN  \n",
       "MLM805152052    NaN   NaN                NaN       NaN  329000.0  \n",
       "MLM804194237    NaN   NaN                NaN       NaN  295000.0  \n",
       "MLM810635258    NaN   NaN                NaN       NaN  189000.0  \n",
       "MLM805511847    NaN   NaN                NaN       NaN  259000.0  \n",
       "MLM796882323    NaN   NaN                NaN       NaN  349900.0  \n",
       "...             ...   ...                ...       ...       ...  \n",
       "MLM812412908    NaN   NaN                NaN       NaN  239000.0  \n",
       "MLM812404163    NaN   NaN                NaN       NaN  290000.0  \n",
       "MLM812399606    NaN   NaN                NaN       NaN  240000.0  \n",
       "MLM812395158    NaN   NaN                NaN       NaN  208900.0  \n",
       "MLM812354996    NaN   NaN                NaN       NaN  325000.0  \n",
       "\n",
       "[9964 rows x 35 columns]"
      ]
     },
     "execution_count": 10,
     "metadata": {},
     "output_type": "execute_result"
    }
   ],
   "source": [
    "cars_dataset_df[\"Condition\"] = cars_dataset_df[\"Condition\"].astype(\"str\")\n",
    "cars_dataset_df.drop([\"ITEM_CONDITION\"],axis=1)"
   ]
  },
  {
   "cell_type": "code",
   "execution_count": 11,
   "metadata": {},
   "outputs": [
    {
     "name": "stdout",
     "output_type": "stream",
     "text": [
      "Unique 'condition' values ['used' 'new' 'not_specified']\n"
     ]
    }
   ],
   "source": [
    "print(\"Unique 'condition' values\",cars_dataset_df.Condition.unique())"
   ]
  },
  {
   "cell_type": "code",
   "execution_count": 12,
   "metadata": {},
   "outputs": [
    {
     "name": "stderr",
     "output_type": "stream",
     "text": [
      "/home/sergio/miniconda3/envs/carpricepred/lib/python3.7/site-packages/pandas/core/reshape/merge.py:643: UserWarning: merging between different levels can give an unintended result (2 levels on the left,1 on the right)\n",
      "  warnings.warn(msg, UserWarning)\n"
     ]
    },
    {
     "data": {
      "text/html": [
       "<div>\n",
       "<style scoped>\n",
       "    .dataframe tbody tr th:only-of-type {\n",
       "        vertical-align: middle;\n",
       "    }\n",
       "\n",
       "    .dataframe tbody tr th {\n",
       "        vertical-align: top;\n",
       "    }\n",
       "\n",
       "    .dataframe thead th {\n",
       "        text-align: right;\n",
       "    }\n",
       "</style>\n",
       "<table border=\"1\" class=\"dataframe\">\n",
       "  <thead>\n",
       "    <tr style=\"text-align: right;\">\n",
       "      <th></th>\n",
       "      <th>(Price_MXN, mean)</th>\n",
       "      <th>(Price_MXN, count)</th>\n",
       "      <th>Condition</th>\n",
       "    </tr>\n",
       "    <tr>\n",
       "      <th>Condition</th>\n",
       "      <th></th>\n",
       "      <th></th>\n",
       "      <th></th>\n",
       "    </tr>\n",
       "  </thead>\n",
       "  <tbody>\n",
       "    <tr>\n",
       "      <th>new</th>\n",
       "      <td>380826.507557</td>\n",
       "      <td>506</td>\n",
       "      <td>5.078282</td>\n",
       "    </tr>\n",
       "    <tr>\n",
       "      <th>not_specified</th>\n",
       "      <td>362803.493071</td>\n",
       "      <td>351</td>\n",
       "      <td>3.522682</td>\n",
       "    </tr>\n",
       "    <tr>\n",
       "      <th>used</th>\n",
       "      <td>340107.210051</td>\n",
       "      <td>9107</td>\n",
       "      <td>91.399037</td>\n",
       "    </tr>\n",
       "  </tbody>\n",
       "</table>\n",
       "</div>"
      ],
      "text/plain": [
       "               (Price_MXN, mean)  (Price_MXN, count)  Condition\n",
       "Condition                                                      \n",
       "new                380826.507557                 506   5.078282\n",
       "not_specified      362803.493071                 351   3.522682\n",
       "used               340107.210051                9107  91.399037"
      ]
     },
     "metadata": {},
     "output_type": "display_data"
    }
   ],
   "source": [
    "condition_info = cars_dataset_df.groupby(\"Condition\").agg({\"Price_MXN\":[\"mean\",\"count\"]})\n",
    "norm_counts = cars_dataset_df['Condition'].value_counts(normalize=True) * 100\n",
    "condition_info =condition_info.join(norm_counts)\n",
    "display(condition_info)"
   ]
  },
  {
   "cell_type": "markdown",
   "metadata": {},
   "source": [
    "## \"State\" feature"
   ]
  },
  {
   "cell_type": "code",
   "execution_count": 13,
   "metadata": {},
   "outputs": [],
   "source": [
    "cars_dataset_df[\"State\"] = cars_dataset_df[\"State\"].astype(\"str\")"
   ]
  },
  {
   "cell_type": "code",
   "execution_count": 14,
   "metadata": {},
   "outputs": [
    {
     "name": "stdout",
     "output_type": "stream",
     "text": [
      "Unique 'State' values ['Hidalgo' 'Puebla' 'Jalisco' 'Distrito Federal' 'Morelos' 'Querétaro'\n",
      " 'Estado De México' 'Nuevo León' 'Michoacán' 'Guanajuato' 'Aguascalientes'\n",
      " 'Yucatán' 'Quintana Roo' 'San Luis Potosí' 'Tabasco' 'Veracruz'\n",
      " 'Tlaxcala' 'Tamaulipas' 'Chihuahua' 'Colima' 'Sonora' 'Sinaloa'\n",
      " 'Baja California' 'Zacatecas' 'Guerrero' 'Durango' 'Coahuila' 'Nayarit'\n",
      " 'Oaxaca' 'Chiapas' 'Campeche' 'Baja California Sur']\n"
     ]
    }
   ],
   "source": [
    "print(\"Unique 'State' values\",cars_dataset_df.State.unique())"
   ]
  },
  {
   "cell_type": "code",
   "execution_count": 15,
   "metadata": {},
   "outputs": [
    {
     "name": "stderr",
     "output_type": "stream",
     "text": [
      "/home/sergio/miniconda3/envs/carpricepred/lib/python3.7/site-packages/pandas/core/reshape/merge.py:643: UserWarning: merging between different levels can give an unintended result (2 levels on the left,1 on the right)\n",
      "  warnings.warn(msg, UserWarning)\n"
     ]
    },
    {
     "data": {
      "text/html": [
       "<div>\n",
       "<style scoped>\n",
       "    .dataframe tbody tr th:only-of-type {\n",
       "        vertical-align: middle;\n",
       "    }\n",
       "\n",
       "    .dataframe tbody tr th {\n",
       "        vertical-align: top;\n",
       "    }\n",
       "\n",
       "    .dataframe thead th {\n",
       "        text-align: right;\n",
       "    }\n",
       "</style>\n",
       "<table border=\"1\" class=\"dataframe\">\n",
       "  <thead>\n",
       "    <tr style=\"text-align: right;\">\n",
       "      <th></th>\n",
       "      <th>(Price_MXN, mean)</th>\n",
       "      <th>(Price_MXN, count)</th>\n",
       "      <th>State</th>\n",
       "    </tr>\n",
       "    <tr>\n",
       "      <th>State</th>\n",
       "      <th></th>\n",
       "      <th></th>\n",
       "      <th></th>\n",
       "    </tr>\n",
       "  </thead>\n",
       "  <tbody>\n",
       "    <tr>\n",
       "      <th>Aguascalientes</th>\n",
       "      <td>295944.673038</td>\n",
       "      <td>127</td>\n",
       "      <td>1.274589</td>\n",
       "    </tr>\n",
       "    <tr>\n",
       "      <th>Baja California</th>\n",
       "      <td>240195.574640</td>\n",
       "      <td>43</td>\n",
       "      <td>0.431554</td>\n",
       "    </tr>\n",
       "    <tr>\n",
       "      <th>Baja California Sur</th>\n",
       "      <td>253028.571429</td>\n",
       "      <td>7</td>\n",
       "      <td>0.070253</td>\n",
       "    </tr>\n",
       "    <tr>\n",
       "      <th>Campeche</th>\n",
       "      <td>227500.000000</td>\n",
       "      <td>2</td>\n",
       "      <td>0.020072</td>\n",
       "    </tr>\n",
       "    <tr>\n",
       "      <th>Chiapas</th>\n",
       "      <td>485046.153846</td>\n",
       "      <td>13</td>\n",
       "      <td>0.130470</td>\n",
       "    </tr>\n",
       "    <tr>\n",
       "      <th>Chihuahua</th>\n",
       "      <td>324996.006134</td>\n",
       "      <td>50</td>\n",
       "      <td>0.501807</td>\n",
       "    </tr>\n",
       "    <tr>\n",
       "      <th>Coahuila</th>\n",
       "      <td>775847.877489</td>\n",
       "      <td>46</td>\n",
       "      <td>0.461662</td>\n",
       "    </tr>\n",
       "    <tr>\n",
       "      <th>Colima</th>\n",
       "      <td>364634.615385</td>\n",
       "      <td>13</td>\n",
       "      <td>0.130470</td>\n",
       "    </tr>\n",
       "    <tr>\n",
       "      <th>Distrito Federal</th>\n",
       "      <td>334000.472781</td>\n",
       "      <td>3236</td>\n",
       "      <td>32.476917</td>\n",
       "    </tr>\n",
       "    <tr>\n",
       "      <th>Durango</th>\n",
       "      <td>186000.000000</td>\n",
       "      <td>3</td>\n",
       "      <td>0.030108</td>\n",
       "    </tr>\n",
       "    <tr>\n",
       "      <th>Estado De México</th>\n",
       "      <td>348177.256481</td>\n",
       "      <td>1606</td>\n",
       "      <td>16.118025</td>\n",
       "    </tr>\n",
       "    <tr>\n",
       "      <th>Guanajuato</th>\n",
       "      <td>363440.947913</td>\n",
       "      <td>458</td>\n",
       "      <td>4.596548</td>\n",
       "    </tr>\n",
       "    <tr>\n",
       "      <th>Guerrero</th>\n",
       "      <td>769444.862918</td>\n",
       "      <td>15</td>\n",
       "      <td>0.150542</td>\n",
       "    </tr>\n",
       "    <tr>\n",
       "      <th>Hidalgo</th>\n",
       "      <td>394322.610738</td>\n",
       "      <td>149</td>\n",
       "      <td>1.495383</td>\n",
       "    </tr>\n",
       "    <tr>\n",
       "      <th>Jalisco</th>\n",
       "      <td>323065.924486</td>\n",
       "      <td>990</td>\n",
       "      <td>9.935769</td>\n",
       "    </tr>\n",
       "    <tr>\n",
       "      <th>Michoacán</th>\n",
       "      <td>336854.346774</td>\n",
       "      <td>124</td>\n",
       "      <td>1.244480</td>\n",
       "    </tr>\n",
       "    <tr>\n",
       "      <th>Morelos</th>\n",
       "      <td>366045.714997</td>\n",
       "      <td>184</td>\n",
       "      <td>1.846648</td>\n",
       "    </tr>\n",
       "    <tr>\n",
       "      <th>Nayarit</th>\n",
       "      <td>279556.250000</td>\n",
       "      <td>16</td>\n",
       "      <td>0.160578</td>\n",
       "    </tr>\n",
       "    <tr>\n",
       "      <th>Nuevo León</th>\n",
       "      <td>348768.989759</td>\n",
       "      <td>955</td>\n",
       "      <td>9.584504</td>\n",
       "    </tr>\n",
       "    <tr>\n",
       "      <th>Oaxaca</th>\n",
       "      <td>242626.666667</td>\n",
       "      <td>6</td>\n",
       "      <td>0.060217</td>\n",
       "    </tr>\n",
       "    <tr>\n",
       "      <th>Puebla</th>\n",
       "      <td>302439.000000</td>\n",
       "      <td>774</td>\n",
       "      <td>7.767965</td>\n",
       "    </tr>\n",
       "    <tr>\n",
       "      <th>Querétaro</th>\n",
       "      <td>350468.493594</td>\n",
       "      <td>592</td>\n",
       "      <td>5.941389</td>\n",
       "    </tr>\n",
       "    <tr>\n",
       "      <th>Quintana Roo</th>\n",
       "      <td>388870.196376</td>\n",
       "      <td>77</td>\n",
       "      <td>0.772782</td>\n",
       "    </tr>\n",
       "    <tr>\n",
       "      <th>San Luis Potosí</th>\n",
       "      <td>309216.071429</td>\n",
       "      <td>56</td>\n",
       "      <td>0.562023</td>\n",
       "    </tr>\n",
       "    <tr>\n",
       "      <th>Sinaloa</th>\n",
       "      <td>406904.173871</td>\n",
       "      <td>44</td>\n",
       "      <td>0.441590</td>\n",
       "    </tr>\n",
       "    <tr>\n",
       "      <th>Sonora</th>\n",
       "      <td>433948.423942</td>\n",
       "      <td>53</td>\n",
       "      <td>0.531915</td>\n",
       "    </tr>\n",
       "    <tr>\n",
       "      <th>Tabasco</th>\n",
       "      <td>372000.023333</td>\n",
       "      <td>21</td>\n",
       "      <td>0.210759</td>\n",
       "    </tr>\n",
       "    <tr>\n",
       "      <th>Tamaulipas</th>\n",
       "      <td>649666.620344</td>\n",
       "      <td>34</td>\n",
       "      <td>0.341228</td>\n",
       "    </tr>\n",
       "    <tr>\n",
       "      <th>Tlaxcala</th>\n",
       "      <td>216630.357143</td>\n",
       "      <td>56</td>\n",
       "      <td>0.562023</td>\n",
       "    </tr>\n",
       "    <tr>\n",
       "      <th>Veracruz</th>\n",
       "      <td>365757.054348</td>\n",
       "      <td>92</td>\n",
       "      <td>0.923324</td>\n",
       "    </tr>\n",
       "    <tr>\n",
       "      <th>Yucatán</th>\n",
       "      <td>486239.000000</td>\n",
       "      <td>100</td>\n",
       "      <td>1.003613</td>\n",
       "    </tr>\n",
       "    <tr>\n",
       "      <th>Zacatecas</th>\n",
       "      <td>226045.454545</td>\n",
       "      <td>22</td>\n",
       "      <td>0.220795</td>\n",
       "    </tr>\n",
       "  </tbody>\n",
       "</table>\n",
       "</div>"
      ],
      "text/plain": [
       "                     (Price_MXN, mean)  (Price_MXN, count)      State\n",
       "State                                                                \n",
       "Aguascalientes           295944.673038                 127   1.274589\n",
       "Baja California          240195.574640                  43   0.431554\n",
       "Baja California Sur      253028.571429                   7   0.070253\n",
       "Campeche                 227500.000000                   2   0.020072\n",
       "Chiapas                  485046.153846                  13   0.130470\n",
       "Chihuahua                324996.006134                  50   0.501807\n",
       "Coahuila                 775847.877489                  46   0.461662\n",
       "Colima                   364634.615385                  13   0.130470\n",
       "Distrito Federal         334000.472781                3236  32.476917\n",
       "Durango                  186000.000000                   3   0.030108\n",
       "Estado De México         348177.256481                1606  16.118025\n",
       "Guanajuato               363440.947913                 458   4.596548\n",
       "Guerrero                 769444.862918                  15   0.150542\n",
       "Hidalgo                  394322.610738                 149   1.495383\n",
       "Jalisco                  323065.924486                 990   9.935769\n",
       "Michoacán                336854.346774                 124   1.244480\n",
       "Morelos                  366045.714997                 184   1.846648\n",
       "Nayarit                  279556.250000                  16   0.160578\n",
       "Nuevo León               348768.989759                 955   9.584504\n",
       "Oaxaca                   242626.666667                   6   0.060217\n",
       "Puebla                   302439.000000                 774   7.767965\n",
       "Querétaro                350468.493594                 592   5.941389\n",
       "Quintana Roo             388870.196376                  77   0.772782\n",
       "San Luis Potosí          309216.071429                  56   0.562023\n",
       "Sinaloa                  406904.173871                  44   0.441590\n",
       "Sonora                   433948.423942                  53   0.531915\n",
       "Tabasco                  372000.023333                  21   0.210759\n",
       "Tamaulipas               649666.620344                  34   0.341228\n",
       "Tlaxcala                 216630.357143                  56   0.562023\n",
       "Veracruz                 365757.054348                  92   0.923324\n",
       "Yucatán                  486239.000000                 100   1.003613\n",
       "Zacatecas                226045.454545                  22   0.220795"
      ]
     },
     "metadata": {},
     "output_type": "display_data"
    }
   ],
   "source": [
    "feature_name = \"State\"\n",
    "\n",
    "feature_info = cars_dataset_df.groupby(feature_name).agg({\"Price_MXN\":[\"mean\",\"count\"]})\n",
    "norm_counts = cars_dataset_df[feature_name].value_counts(normalize=True) * 100\n",
    "feature_info =feature_info.join(norm_counts)\n",
    "display(feature_info)"
   ]
  },
  {
   "cell_type": "markdown",
   "metadata": {},
   "source": [
    "## \"City\" feature"
   ]
  },
  {
   "cell_type": "code",
   "execution_count": 16,
   "metadata": {},
   "outputs": [],
   "source": [
    "cars_dataset_df[\"City\"] = cars_dataset_df[\"City\"].astype(\"str\")"
   ]
  },
  {
   "cell_type": "code",
   "execution_count": 17,
   "metadata": {},
   "outputs": [
    {
     "name": "stdout",
     "output_type": "stream",
     "text": [
      "Unique 'City' values ['Pachuca De Soto' 'Puebla' 'Zapopan' 'Coyoacán' 'Tlalpan' 'Benito Juárez'\n",
      " 'Cuernavaca' 'Venustiano Carranza' 'Cuajimalpa De Morelos' 'Querétaro'\n",
      " 'Huixquilucan' 'Monterrey' 'Iztacalco' 'San Pedro Garza García'\n",
      " 'Cuauhtémoc' 'Atlacomulco' 'Mineral De La Reforma' 'Texcoco' 'Guadalupe'\n",
      " 'Ixtapaluca' 'Miguel Hidalgo' 'Ecatepec de Morelos' 'Morelia'\n",
      " 'Xochimilco' 'Cuautla' 'Gustavo A. Madero' 'Celaya' 'Azcapotzalco'\n",
      " 'Iztapalapa' 'San Juan Del Río' 'Zinacantepec' 'Naucalpan'\n",
      " 'San Miguel El Alto' 'Aguascalientes' 'Tlalnepantla de Baz'\n",
      " 'General Escobedo' 'Guadalajara' 'Tláhuac' 'Mérida' 'Nezahualcoyotl'\n",
      " 'Amozoc' 'Cancún/Benito Juárez' 'San Luis Potosí' 'Tlaquepaque'\n",
      " 'Alvaro Obregón' 'Tecámac' 'Centro' 'Irapuato' 'Boca Del Río'\n",
      " 'San Juan De Los Lagos' 'León' 'Atizapán De Zaragoza' 'Apizaco'\n",
      " 'Coacalco de Berriozabal' 'Cuautitlán Izcalli' 'Tampico' 'Apodaca'\n",
      " 'Metepec' 'Colima' 'Xochitepec' 'Tizayuca' 'Chiconcuac' 'Tlaxcala'\n",
      " 'Toluca' 'Veracruz' 'Chalco' 'San Gregorio Atzompa' 'San Mateo Atenco'\n",
      " 'San Andrés Cholula' 'El Marqués' 'Valle De Bravo' 'Ixtapan De La Sal'\n",
      " 'Soledad De Graciano Sánchez' 'Acambay' 'Santa Catarina' 'Tulum'\n",
      " 'Coatzacoalcos' 'Hermosillo' 'Minatitlan' 'García' 'La Paz' 'Silao'\n",
      " 'Tezoyuca' 'Mazatlán' 'Corregidora' 'Teziutlan' 'Apaseo El Alto'\n",
      " 'Tijuana' 'Tepatitlán de Morelos' 'Fresnillo' 'Acapulco' 'Nuevo Laredo'\n",
      " 'Mexicali' 'Tequisquiapan' 'Atotonilco El Alto' 'Culiacán'\n",
      " 'San Nicolás De Los Garza' 'Durango' 'Nicolás Romero' 'Santiago'\n",
      " 'La Barca' 'Tepeapulco' 'Tarandacuao' 'Torreón' 'Amecameca' 'Arandas'\n",
      " 'Tepic' 'San Pedro Cholula' 'Yautepec' 'Oaxaca De Juárez' 'Huamantla'\n",
      " 'Tecozautla' 'Yauhquemehcan' 'Lagos De Moreno' 'Tehuacan'\n",
      " 'Solidaridad/Riviera Maya' 'Tepotzotlan' 'Malinalco' 'Tequesquitengo'\n",
      " 'Tultitlán' 'Tlajomulco De Zúñiga' 'Obregon' 'Polotitlan' 'Jilotepec'\n",
      " 'Calimaya' 'Chicoloapan' 'Xalapa' 'Cuautitlán' 'Saltillo' 'Ocoyoacac'\n",
      " 'Piedras Negras' 'Ramos Arizpe' 'Moroleón' 'Tuxtla Gutiérrez' 'Acolman'\n",
      " 'General Bravo' 'Cajeme' 'Atlatlahucan' 'Salamanca' 'Lerma' 'Allende'\n",
      " 'Nava' 'Tepoztlan' 'Tulancingo De Bravo' 'Apaseo El Grande'\n",
      " 'La Magdalena Contreras' 'El Salto' 'Juárez' 'Chihuahua' 'Zamora'\n",
      " 'Juchitan De Zaragoza' 'Salvador Escalante' 'Altamira' 'El Mante'\n",
      " 'Reynosa' 'Atlautla' 'Ahuazotepec' 'Chapantongo' 'Ciudad Guzmán'\n",
      " 'Atizapán' 'Bahía De Banderas' 'Temixco' 'Villahermosa' 'Manzanillo'\n",
      " 'Charo' 'Uruapan' 'Teoloyucan' 'Cosoleacaque' 'Chilpancingo De Los Bravo'\n",
      " 'Atenco' 'Campeche' 'Córdoba' 'Victoria' 'Tonala' 'Ezequiel Montes'\n",
      " 'Tula De Allende' 'Zumpango' 'San Francisco Del Rincón' 'Amatepec'\n",
      " 'Poza Rica De Hidalgo' 'Carmen' 'San Luis De La Paz' 'Ensenada' 'Orizaba'\n",
      " 'Chiautzingo' 'San Jose Iturbide' 'Melchor Ocampo' 'Puerto Vallarta'\n",
      " 'Zihuatanejo de Azueta' 'San Miguel De Allende' 'guadalajara' 'Papalotla'\n",
      " 'Totolapan' 'Santa Isabel Cholula' 'Ocotlan' 'Ciénega De Flores'\n",
      " 'Zacatecas' 'San Luis Río Colorado' 'Chimalhuacán' 'Francisco I Madero'\n",
      " 'Los Cabos' 'Miguel Auza' 'Cadereyta De Montes' 'San José del Rincón'\n",
      " 'Guanajuato' 'Quiroga' 'Atotonilco El Grande' 'Cuautlancingo'\n",
      " 'Valle De Chalco Solidaridad' 'Milpa Alta' 'Jojutla' 'Zacatepec'\n",
      " 'Chalchicomula De Sesma' 'Actopan' 'Caborca' 'Manuel Doblado' 'Río Verde'\n",
      " 'Santiago Pinotepa Nacional' 'Lázaro Cárdenas'\n",
      " 'San Cristóbal De Las Casas' 'Ahome' 'Progreso' 'Ciudad Madero'\n",
      " 'Los Reyes' 'Zapotlanejo' 'Mineral Del Chico'\n",
      " 'Tlaltenango De Sánchez Román' 'Huauchinango' 'Ixtaczoquitlan'\n",
      " 'Juan Aldama' 'Zacatelco' 'Juan C Bonilla' 'Miacatlan' 'Uman' 'Coronango'\n",
      " 'Escobedo' 'Maravatio' 'Tapachula' 'Chapa De Mota']\n"
     ]
    }
   ],
   "source": [
    "print(\"Unique 'City' values\",cars_dataset_df.City.unique())"
   ]
  },
  {
   "cell_type": "code",
   "execution_count": 18,
   "metadata": {},
   "outputs": [
    {
     "name": "stderr",
     "output_type": "stream",
     "text": [
      "/home/sergio/miniconda3/envs/carpricepred/lib/python3.7/site-packages/pandas/core/reshape/merge.py:643: UserWarning: merging between different levels can give an unintended result (2 levels on the left,1 on the right)\n",
      "  warnings.warn(msg, UserWarning)\n"
     ]
    },
    {
     "data": {
      "text/html": [
       "<div>\n",
       "<style scoped>\n",
       "    .dataframe tbody tr th:only-of-type {\n",
       "        vertical-align: middle;\n",
       "    }\n",
       "\n",
       "    .dataframe tbody tr th {\n",
       "        vertical-align: top;\n",
       "    }\n",
       "\n",
       "    .dataframe thead th {\n",
       "        text-align: right;\n",
       "    }\n",
       "</style>\n",
       "<table border=\"1\" class=\"dataframe\">\n",
       "  <thead>\n",
       "    <tr style=\"text-align: right;\">\n",
       "      <th></th>\n",
       "      <th>(Price_MXN, mean)</th>\n",
       "      <th>(Price_MXN, count)</th>\n",
       "      <th>City</th>\n",
       "    </tr>\n",
       "    <tr>\n",
       "      <th>City</th>\n",
       "      <th></th>\n",
       "      <th></th>\n",
       "      <th></th>\n",
       "    </tr>\n",
       "  </thead>\n",
       "  <tbody>\n",
       "    <tr>\n",
       "      <th>Acambay</th>\n",
       "      <td>5.316670e+05</td>\n",
       "      <td>6</td>\n",
       "      <td>0.060217</td>\n",
       "    </tr>\n",
       "    <tr>\n",
       "      <th>Acapulco</th>\n",
       "      <td>3.724167e+05</td>\n",
       "      <td>12</td>\n",
       "      <td>0.120434</td>\n",
       "    </tr>\n",
       "    <tr>\n",
       "      <th>Acolman</th>\n",
       "      <td>4.800000e+05</td>\n",
       "      <td>4</td>\n",
       "      <td>0.040145</td>\n",
       "    </tr>\n",
       "    <tr>\n",
       "      <th>Actopan</th>\n",
       "      <td>3.040000e+05</td>\n",
       "      <td>1</td>\n",
       "      <td>0.010036</td>\n",
       "    </tr>\n",
       "    <tr>\n",
       "      <th>Aguascalientes</th>\n",
       "      <td>2.959447e+05</td>\n",
       "      <td>127</td>\n",
       "      <td>1.274589</td>\n",
       "    </tr>\n",
       "    <tr>\n",
       "      <th>...</th>\n",
       "      <td>...</td>\n",
       "      <td>...</td>\n",
       "      <td>...</td>\n",
       "    </tr>\n",
       "    <tr>\n",
       "      <th>Zapotlanejo</th>\n",
       "      <td>3.090000e+05</td>\n",
       "      <td>1</td>\n",
       "      <td>0.010036</td>\n",
       "    </tr>\n",
       "    <tr>\n",
       "      <th>Zihuatanejo de Azueta</th>\n",
       "      <td>3.371336e+06</td>\n",
       "      <td>2</td>\n",
       "      <td>0.020072</td>\n",
       "    </tr>\n",
       "    <tr>\n",
       "      <th>Zinacantepec</th>\n",
       "      <td>9.945000e+04</td>\n",
       "      <td>6</td>\n",
       "      <td>0.060217</td>\n",
       "    </tr>\n",
       "    <tr>\n",
       "      <th>Zumpango</th>\n",
       "      <td>4.269598e+05</td>\n",
       "      <td>5</td>\n",
       "      <td>0.050181</td>\n",
       "    </tr>\n",
       "    <tr>\n",
       "      <th>guadalajara</th>\n",
       "      <td>2.190000e+05</td>\n",
       "      <td>1</td>\n",
       "      <td>0.010036</td>\n",
       "    </tr>\n",
       "  </tbody>\n",
       "</table>\n",
       "<p>239 rows × 3 columns</p>\n",
       "</div>"
      ],
      "text/plain": [
       "                       (Price_MXN, mean)  (Price_MXN, count)      City\n",
       "City                                                                  \n",
       "Acambay                     5.316670e+05                   6  0.060217\n",
       "Acapulco                    3.724167e+05                  12  0.120434\n",
       "Acolman                     4.800000e+05                   4  0.040145\n",
       "Actopan                     3.040000e+05                   1  0.010036\n",
       "Aguascalientes              2.959447e+05                 127  1.274589\n",
       "...                                  ...                 ...       ...\n",
       "Zapotlanejo                 3.090000e+05                   1  0.010036\n",
       "Zihuatanejo de Azueta       3.371336e+06                   2  0.020072\n",
       "Zinacantepec                9.945000e+04                   6  0.060217\n",
       "Zumpango                    4.269598e+05                   5  0.050181\n",
       "guadalajara                 2.190000e+05                   1  0.010036\n",
       "\n",
       "[239 rows x 3 columns]"
      ]
     },
     "metadata": {},
     "output_type": "display_data"
    }
   ],
   "source": [
    "feature_name = \"City\"\n",
    "\n",
    "feature_info = cars_dataset_df.groupby(feature_name).agg({\"Price_MXN\":[\"mean\",\"count\"]})\n",
    "norm_counts = cars_dataset_df[feature_name].value_counts(normalize=True) * 100\n",
    "feature_info =feature_info.join(norm_counts)\n",
    "display(feature_info)"
   ]
  },
  {
   "cell_type": "markdown",
   "metadata": {},
   "source": [
    "## \"length\" feature "
   ]
  },
  {
   "cell_type": "code",
   "execution_count": 19,
   "metadata": {},
   "outputs": [],
   "source": [
    "cars_dataset_df[\"LENGTH\"] = cars_dataset_df[\"LENGTH\"].astype(\"str\").apply(lambda x: x.split()[0]).astype(\"float\")\n",
    "#cars_dataset_df[\"LENGTH_metric\"] = cars_dataset_df[\"LENGTH\"].apply(lambda x: x.split()[])"
   ]
  },
  {
   "cell_type": "code",
   "execution_count": 20,
   "metadata": {},
   "outputs": [
    {
     "name": "stdout",
     "output_type": "stream",
     "text": [
      "Número de ejemplos con 'LENGTH' 2449\n",
      "Número de ejemplos con 'NaN' 7515\n"
     ]
    }
   ],
   "source": [
    "feature_name = \"LENGTH\"\n",
    "norm_counts = cars_dataset_df[feature_name].value_counts(normalize=True) * 100\n",
    "print(\"Número de ejemplos con 'LENGTH'\",sum(~np.isnan(cars_dataset_df[feature_name])))\n",
    "print(\"Número de ejemplos con 'NaN'\",sum(np.isnan(cars_dataset_df[feature_name])))\n",
    "#feature_info =feature_info.join(norm_counts)\n",
    "#display(norm_counts)"
   ]
  },
  {
   "cell_type": "code",
   "execution_count": 21,
   "metadata": {},
   "outputs": [
    {
     "data": {
      "text/plain": [
       "<AxesSubplot:xlabel='LENGTH'>"
      ]
     },
     "execution_count": 21,
     "metadata": {},
     "output_type": "execute_result"
    },
    {
     "data": {
      "image/png": "[encoded data removed]",
      "text/plain": [
       "<Figure size 432x288 with 1 Axes>"
      ]
     },
     "metadata": {
      "needs_background": "light"
     },
     "output_type": "display_data"
    }
   ],
   "source": [
    "sns.distplot(cars_dataset_df[\"LENGTH\"])"
   ]
  },
  {
   "cell_type": "code",
   "execution_count": 22,
   "metadata": {},
   "outputs": [
    {
     "data": {
      "image/png": "[encoded data removed]",
      "text/plain": [
       "<Figure size 360x360 with 1 Axes>"
      ]
     },
     "metadata": {
      "needs_background": "light"
     },
     "output_type": "display_data"
    }
   ],
   "source": [
    "sns.relplot(x=\"Price_MXN\", y=\"LENGTH\", data=cars_dataset_df);"
   ]
  },
  {
   "cell_type": "markdown",
   "metadata": {},
   "source": [
    "## Passenger capacity"
   ]
  },
  {
   "cell_type": "code",
   "execution_count": 23,
   "metadata": {},
   "outputs": [],
   "source": [
    "cars_dataset_df[\"PASSENGER_CAPACITY\"] =cars_dataset_df[\"PASSENGER_CAPACITY\"].astype(\"float\")"
   ]
  },
  {
   "cell_type": "code",
   "execution_count": 24,
   "metadata": {},
   "outputs": [
    {
     "name": "stdout",
     "output_type": "stream",
     "text": [
      "Unique 'PASSENGER_CAPACITY' values [ 5.  2. nan  4.  3. 32. 45. 35.  7. 66.  9. 19. 28. 44.]\n"
     ]
    }
   ],
   "source": [
    "print(\"Unique 'PASSENGER_CAPACITY' values\",cars_dataset_df.PASSENGER_CAPACITY.unique())"
   ]
  },
  {
   "cell_type": "code",
   "execution_count": 25,
   "metadata": {},
   "outputs": [
    {
     "name": "stderr",
     "output_type": "stream",
     "text": [
      "/home/sergio/miniconda3/envs/carpricepred/lib/python3.7/site-packages/pandas/core/reshape/merge.py:643: UserWarning: merging between different levels can give an unintended result (2 levels on the left,1 on the right)\n",
      "  warnings.warn(msg, UserWarning)\n"
     ]
    },
    {
     "data": {
      "text/html": [
       "<div>\n",
       "<style scoped>\n",
       "    .dataframe tbody tr th:only-of-type {\n",
       "        vertical-align: middle;\n",
       "    }\n",
       "\n",
       "    .dataframe tbody tr th {\n",
       "        vertical-align: top;\n",
       "    }\n",
       "\n",
       "    .dataframe thead th {\n",
       "        text-align: right;\n",
       "    }\n",
       "</style>\n",
       "<table border=\"1\" class=\"dataframe\">\n",
       "  <thead>\n",
       "    <tr style=\"text-align: right;\">\n",
       "      <th></th>\n",
       "      <th>(Price_MXN, mean)</th>\n",
       "      <th>(Price_MXN, count)</th>\n",
       "      <th>PASSENGER_CAPACITY</th>\n",
       "    </tr>\n",
       "    <tr>\n",
       "      <th>PASSENGER_CAPACITY</th>\n",
       "      <th></th>\n",
       "      <th></th>\n",
       "      <th></th>\n",
       "    </tr>\n",
       "  </thead>\n",
       "  <tbody>\n",
       "    <tr>\n",
       "      <th>2.0</th>\n",
       "      <td>564494.883721</td>\n",
       "      <td>215</td>\n",
       "      <td>2.157768</td>\n",
       "    </tr>\n",
       "    <tr>\n",
       "      <th>3.0</th>\n",
       "      <td>240325.641026</td>\n",
       "      <td>39</td>\n",
       "      <td>0.391409</td>\n",
       "    </tr>\n",
       "    <tr>\n",
       "      <th>4.0</th>\n",
       "      <td>271967.198853</td>\n",
       "      <td>523</td>\n",
       "      <td>5.248896</td>\n",
       "    </tr>\n",
       "    <tr>\n",
       "      <th>5.0</th>\n",
       "      <td>301912.678658</td>\n",
       "      <td>1900</td>\n",
       "      <td>19.068647</td>\n",
       "    </tr>\n",
       "    <tr>\n",
       "      <th>7.0</th>\n",
       "      <td>399900.000000</td>\n",
       "      <td>1</td>\n",
       "      <td>0.010036</td>\n",
       "    </tr>\n",
       "    <tr>\n",
       "      <th>9.0</th>\n",
       "      <td>690000.000000</td>\n",
       "      <td>1</td>\n",
       "      <td>0.010036</td>\n",
       "    </tr>\n",
       "    <tr>\n",
       "      <th>19.0</th>\n",
       "      <td>560000.000000</td>\n",
       "      <td>1</td>\n",
       "      <td>0.010036</td>\n",
       "    </tr>\n",
       "    <tr>\n",
       "      <th>28.0</th>\n",
       "      <td>190000.000000</td>\n",
       "      <td>1</td>\n",
       "      <td>0.010036</td>\n",
       "    </tr>\n",
       "    <tr>\n",
       "      <th>32.0</th>\n",
       "      <td>693020.000000</td>\n",
       "      <td>5</td>\n",
       "      <td>0.050181</td>\n",
       "    </tr>\n",
       "    <tr>\n",
       "      <th>35.0</th>\n",
       "      <td>390000.000000</td>\n",
       "      <td>1</td>\n",
       "      <td>0.010036</td>\n",
       "    </tr>\n",
       "    <tr>\n",
       "      <th>44.0</th>\n",
       "      <td>875000.000000</td>\n",
       "      <td>2</td>\n",
       "      <td>0.020072</td>\n",
       "    </tr>\n",
       "    <tr>\n",
       "      <th>45.0</th>\n",
       "      <td>750000.000000</td>\n",
       "      <td>2</td>\n",
       "      <td>0.020072</td>\n",
       "    </tr>\n",
       "    <tr>\n",
       "      <th>66.0</th>\n",
       "      <td>150000.000000</td>\n",
       "      <td>1</td>\n",
       "      <td>0.010036</td>\n",
       "    </tr>\n",
       "    <tr>\n",
       "      <th>NaN</th>\n",
       "      <td>352267.817158</td>\n",
       "      <td>7272</td>\n",
       "      <td>72.982738</td>\n",
       "    </tr>\n",
       "  </tbody>\n",
       "</table>\n",
       "</div>"
      ],
      "text/plain": [
       "                    (Price_MXN, mean)  (Price_MXN, count)  PASSENGER_CAPACITY\n",
       "PASSENGER_CAPACITY                                                           \n",
       "2.0                     564494.883721                 215            2.157768\n",
       "3.0                     240325.641026                  39            0.391409\n",
       "4.0                     271967.198853                 523            5.248896\n",
       "5.0                     301912.678658                1900           19.068647\n",
       "7.0                     399900.000000                   1            0.010036\n",
       "9.0                     690000.000000                   1            0.010036\n",
       "19.0                    560000.000000                   1            0.010036\n",
       "28.0                    190000.000000                   1            0.010036\n",
       "32.0                    693020.000000                   5            0.050181\n",
       "35.0                    390000.000000                   1            0.010036\n",
       "44.0                    875000.000000                   2            0.020072\n",
       "45.0                    750000.000000                   2            0.020072\n",
       "66.0                    150000.000000                   1            0.010036\n",
       "NaN                     352267.817158                7272           72.982738"
      ]
     },
     "metadata": {},
     "output_type": "display_data"
    }
   ],
   "source": [
    "condition_info = cars_dataset_df.groupby(\"PASSENGER_CAPACITY\",dropna=False).agg({\"Price_MXN\":[\"mean\",\"count\"]})\n",
    "norm_counts = cars_dataset_df['PASSENGER_CAPACITY'].value_counts(normalize=True,dropna=False) * 100\n",
    "condition_info =condition_info.join(norm_counts)\n",
    "display(condition_info)"
   ]
  },
  {
   "cell_type": "code",
   "execution_count": 26,
   "metadata": {},
   "outputs": [
    {
     "data": {
      "image/png": "[encoded data removed]",
      "text/plain": [
       "<Figure size 360x360 with 1 Axes>"
      ]
     },
     "metadata": {
      "needs_background": "light"
     },
     "output_type": "display_data"
    }
   ],
   "source": [
    "sns.relplot(y=\"Price_MXN\", x=\"PASSENGER_CAPACITY\", data=cars_dataset_df);"
   ]
  },
  {
   "cell_type": "code",
   "execution_count": 27,
   "metadata": {},
   "outputs": [
    {
     "data": {
      "text/html": [
       "<div>\n",
       "<style scoped>\n",
       "    .dataframe tbody tr th:only-of-type {\n",
       "        vertical-align: middle;\n",
       "    }\n",
       "\n",
       "    .dataframe tbody tr th {\n",
       "        vertical-align: top;\n",
       "    }\n",
       "\n",
       "    .dataframe thead th {\n",
       "        text-align: right;\n",
       "    }\n",
       "</style>\n",
       "<table border=\"1\" class=\"dataframe\">\n",
       "  <thead>\n",
       "    <tr style=\"text-align: right;\">\n",
       "      <th></th>\n",
       "      <th>Condition</th>\n",
       "      <th>State</th>\n",
       "      <th>City</th>\n",
       "      <th>ITEM_CONDITION</th>\n",
       "      <th>LENGTH</th>\n",
       "      <th>PASSENGER_CAPACITY</th>\n",
       "      <th>POWER</th>\n",
       "      <th>TRACTION_CONTROL</th>\n",
       "      <th>HAS_AIR_CONDITIONING</th>\n",
       "      <th>ENGINE_DISPLACEMENT</th>\n",
       "      <th>...</th>\n",
       "      <th>HAS_POWER_TRIM</th>\n",
       "      <th>ENGINE_QUANTITY</th>\n",
       "      <th>BEAM</th>\n",
       "      <th>OPERATING_WEIGHT</th>\n",
       "      <th>LINE</th>\n",
       "      <th>WEIGHT</th>\n",
       "      <th>DRAFT</th>\n",
       "      <th>INTERNAL_DIAMETER</th>\n",
       "      <th>MAX_POWER</th>\n",
       "      <th>Price_MXN</th>\n",
       "    </tr>\n",
       "  </thead>\n",
       "  <tbody>\n",
       "    <tr>\n",
       "      <th>MLM805152052</th>\n",
       "      <td>used</td>\n",
       "      <td>Hidalgo</td>\n",
       "      <td>Pachuca De Soto</td>\n",
       "      <td>Usado</td>\n",
       "      <td>4923.0</td>\n",
       "      <td>5.0</td>\n",
       "      <td>185 hp</td>\n",
       "      <td>Trasera</td>\n",
       "      <td>Sí</td>\n",
       "      <td>1991 cc</td>\n",
       "      <td>...</td>\n",
       "      <td>NaN</td>\n",
       "      <td>NaN</td>\n",
       "      <td>NaN</td>\n",
       "      <td>NaN</td>\n",
       "      <td>NaN</td>\n",
       "      <td>NaN</td>\n",
       "      <td>NaN</td>\n",
       "      <td>NaN</td>\n",
       "      <td>NaN</td>\n",
       "      <td>329000.0</td>\n",
       "    </tr>\n",
       "    <tr>\n",
       "      <th>MLM804194237</th>\n",
       "      <td>used</td>\n",
       "      <td>Hidalgo</td>\n",
       "      <td>Pachuca De Soto</td>\n",
       "      <td>Usado</td>\n",
       "      <td>4432.0</td>\n",
       "      <td>2.0</td>\n",
       "      <td>184 hp</td>\n",
       "      <td>Trasera</td>\n",
       "      <td>Sí</td>\n",
       "      <td>1997 cc</td>\n",
       "      <td>...</td>\n",
       "      <td>NaN</td>\n",
       "      <td>NaN</td>\n",
       "      <td>NaN</td>\n",
       "      <td>NaN</td>\n",
       "      <td>NaN</td>\n",
       "      <td>NaN</td>\n",
       "      <td>NaN</td>\n",
       "      <td>NaN</td>\n",
       "      <td>NaN</td>\n",
       "      <td>295000.0</td>\n",
       "    </tr>\n",
       "    <tr>\n",
       "      <th>MLM810635258</th>\n",
       "      <td>used</td>\n",
       "      <td>Hidalgo</td>\n",
       "      <td>Pachuca De Soto</td>\n",
       "      <td>Usado</td>\n",
       "      <td>NaN</td>\n",
       "      <td>NaN</td>\n",
       "      <td>NaN</td>\n",
       "      <td>NaN</td>\n",
       "      <td>NaN</td>\n",
       "      <td>650 cc</td>\n",
       "      <td>...</td>\n",
       "      <td>NaN</td>\n",
       "      <td>NaN</td>\n",
       "      <td>NaN</td>\n",
       "      <td>NaN</td>\n",
       "      <td>NaN</td>\n",
       "      <td>NaN</td>\n",
       "      <td>NaN</td>\n",
       "      <td>NaN</td>\n",
       "      <td>NaN</td>\n",
       "      <td>189000.0</td>\n",
       "    </tr>\n",
       "    <tr>\n",
       "      <th>MLM805511847</th>\n",
       "      <td>used</td>\n",
       "      <td>Hidalgo</td>\n",
       "      <td>Pachuca De Soto</td>\n",
       "      <td>Usado</td>\n",
       "      <td>NaN</td>\n",
       "      <td>5.0</td>\n",
       "      <td>NaN</td>\n",
       "      <td>4x4</td>\n",
       "      <td>Sí</td>\n",
       "      <td>3.6 L</td>\n",
       "      <td>...</td>\n",
       "      <td>NaN</td>\n",
       "      <td>NaN</td>\n",
       "      <td>NaN</td>\n",
       "      <td>NaN</td>\n",
       "      <td>NaN</td>\n",
       "      <td>NaN</td>\n",
       "      <td>NaN</td>\n",
       "      <td>NaN</td>\n",
       "      <td>NaN</td>\n",
       "      <td>259000.0</td>\n",
       "    </tr>\n",
       "    <tr>\n",
       "      <th>MLM796882323</th>\n",
       "      <td>used</td>\n",
       "      <td>Puebla</td>\n",
       "      <td>Puebla</td>\n",
       "      <td>Usado</td>\n",
       "      <td>4834.0</td>\n",
       "      <td>5.0</td>\n",
       "      <td>NaN</td>\n",
       "      <td>4x4</td>\n",
       "      <td>Sí</td>\n",
       "      <td>3.6 L</td>\n",
       "      <td>...</td>\n",
       "      <td>NaN</td>\n",
       "      <td>NaN</td>\n",
       "      <td>NaN</td>\n",
       "      <td>NaN</td>\n",
       "      <td>NaN</td>\n",
       "      <td>NaN</td>\n",
       "      <td>NaN</td>\n",
       "      <td>NaN</td>\n",
       "      <td>NaN</td>\n",
       "      <td>349900.0</td>\n",
       "    </tr>\n",
       "  </tbody>\n",
       "</table>\n",
       "<p>5 rows × 36 columns</p>\n",
       "</div>"
      ],
      "text/plain": [
       "             Condition    State             City ITEM_CONDITION  LENGTH  \\\n",
       "MLM805152052      used  Hidalgo  Pachuca De Soto          Usado  4923.0   \n",
       "MLM804194237      used  Hidalgo  Pachuca De Soto          Usado  4432.0   \n",
       "MLM810635258      used  Hidalgo  Pachuca De Soto          Usado     NaN   \n",
       "MLM805511847      used  Hidalgo  Pachuca De Soto          Usado     NaN   \n",
       "MLM796882323      used   Puebla           Puebla          Usado  4834.0   \n",
       "\n",
       "              PASSENGER_CAPACITY   POWER TRACTION_CONTROL  \\\n",
       "MLM805152052                 5.0  185 hp          Trasera   \n",
       "MLM804194237                 2.0  184 hp          Trasera   \n",
       "MLM810635258                 NaN     NaN              NaN   \n",
       "MLM805511847                 5.0     NaN              4x4   \n",
       "MLM796882323                 5.0     NaN              4x4   \n",
       "\n",
       "             HAS_AIR_CONDITIONING ENGINE_DISPLACEMENT  ... HAS_POWER_TRIM  \\\n",
       "MLM805152052                   Sí             1991 cc  ...            NaN   \n",
       "MLM804194237                   Sí             1997 cc  ...            NaN   \n",
       "MLM810635258                  NaN              650 cc  ...            NaN   \n",
       "MLM805511847                   Sí               3.6 L  ...            NaN   \n",
       "MLM796882323                   Sí               3.6 L  ...            NaN   \n",
       "\n",
       "              ENGINE_QUANTITY BEAM OPERATING_WEIGHT LINE WEIGHT DRAFT  \\\n",
       "MLM805152052              NaN  NaN              NaN  NaN    NaN   NaN   \n",
       "MLM804194237              NaN  NaN              NaN  NaN    NaN   NaN   \n",
       "MLM810635258              NaN  NaN              NaN  NaN    NaN   NaN   \n",
       "MLM805511847              NaN  NaN              NaN  NaN    NaN   NaN   \n",
       "MLM796882323              NaN  NaN              NaN  NaN    NaN   NaN   \n",
       "\n",
       "             INTERNAL_DIAMETER  MAX_POWER Price_MXN  \n",
       "MLM805152052               NaN        NaN  329000.0  \n",
       "MLM804194237               NaN        NaN  295000.0  \n",
       "MLM810635258               NaN        NaN  189000.0  \n",
       "MLM805511847               NaN        NaN  259000.0  \n",
       "MLM796882323               NaN        NaN  349900.0  \n",
       "\n",
       "[5 rows x 36 columns]"
      ]
     },
     "execution_count": 27,
     "metadata": {},
     "output_type": "execute_result"
    }
   ],
   "source": [
    "cars_dataset_df.head()"
   ]
  },
  {
   "cell_type": "markdown",
   "metadata": {},
   "source": [
    "## 'POWER' FEATURE "
   ]
  },
  {
   "cell_type": "code",
   "execution_count": 28,
   "metadata": {},
   "outputs": [],
   "source": [
    "feature_name = \"POWER\""
   ]
  },
  {
   "cell_type": "code",
   "execution_count": 29,
   "metadata": {},
   "outputs": [],
   "source": [
    "cars_dataset_df[feature_name] =cars_dataset_df[feature_name].astype(\"str\")"
   ]
  },
  {
   "cell_type": "code",
   "execution_count": 30,
   "metadata": {},
   "outputs": [],
   "source": [
    "def power_preprocessing(raw_power,conversion_dict):\n",
    "    try:\n",
    "        value,metric = raw_power.split()\n",
    "    except:\n",
    "        return float(raw_power)\n",
    "    factor = conversion_dict[metric]\n",
    "    return float(value)*factor"
   ]
  },
  {
   "cell_type": "code",
   "execution_count": 31,
   "metadata": {},
   "outputs": [],
   "source": [
    "conversion_dict={\"hp\":1,\"W\":1/784,\"mW\":1/784000,\"kW\":1/0.784,\"TR\":0.212036}\n",
    "cars_dataset_df[feature_name]= cars_dataset_df[feature_name].map(lambda x: power_preprocessing(x, conversion_dict))"
   ]
  },
  {
   "cell_type": "code",
   "execution_count": 32,
   "metadata": {},
   "outputs": [
    {
     "name": "stdout",
     "output_type": "stream",
     "text": [
      "Número de ejemplos con 'LENGTH' 2134\n",
      "Número de ejemplos con 'NaN' 7830\n"
     ]
    }
   ],
   "source": [
    "print(\"Número de ejemplos con 'LENGTH'\",sum(~np.isnan(cars_dataset_df[feature_name])))\n",
    "print(\"Número de ejemplos con 'NaN'\",sum(np.isnan(cars_dataset_df[feature_name])))"
   ]
  },
  {
   "cell_type": "code",
   "execution_count": 33,
   "metadata": {},
   "outputs": [
    {
     "data": {
      "text/plain": [
       "<AxesSubplot:xlabel='POWER'>"
      ]
     },
     "execution_count": 33,
     "metadata": {},
     "output_type": "execute_result"
    },
    {
     "data": {
      "image/png": "[encoded data removed]",
      "text/plain": [
       "<Figure size 432x288 with 1 Axes>"
      ]
     },
     "metadata": {
      "needs_background": "light"
     },
     "output_type": "display_data"
    }
   ],
   "source": [
    "sns.distplot(cars_dataset_df[\"POWER\"])"
   ]
  },
  {
   "cell_type": "code",
   "execution_count": 34,
   "metadata": {},
   "outputs": [
    {
     "data": {
      "image/png": "[encoded data removed]",
      "text/plain": [
       "<Figure size 360x360 with 1 Axes>"
      ]
     },
     "metadata": {
      "needs_background": "light"
     },
     "output_type": "display_data"
    }
   ],
   "source": [
    "sns.relplot(y=\"Price_MXN\", x=\"POWER\", data=cars_dataset_df);"
   ]
  },
  {
   "cell_type": "markdown",
   "metadata": {},
   "source": [
    "## Feature \"TRACTION_CONTROL\""
   ]
  },
  {
   "cell_type": "code",
   "execution_count": 35,
   "metadata": {},
   "outputs": [],
   "source": [
    "feature_name = \"TRACTION_CONTROL\"\n",
    "#cars_dataset_df[feature_name]"
   ]
  },
  {
   "cell_type": "code",
   "execution_count": 36,
   "metadata": {},
   "outputs": [],
   "source": [
    "cars_dataset_df[feature_name] =cars_dataset_df[feature_name].astype(\"str\")"
   ]
  },
  {
   "cell_type": "code",
   "execution_count": 37,
   "metadata": {},
   "outputs": [
    {
     "name": "stdout",
     "output_type": "stream",
     "text": [
      "Unique 'TRACTION_CONTROL' values ['Trasera' 'nan' '4x4' '4x2' 'Delantera' 'Integral' '6x2' '6x4']\n"
     ]
    }
   ],
   "source": [
    "print(\"Unique 'TRACTION_CONTROL' values\",cars_dataset_df[feature_name].unique())"
   ]
  },
  {
   "cell_type": "code",
   "execution_count": 38,
   "metadata": {},
   "outputs": [
    {
     "name": "stderr",
     "output_type": "stream",
     "text": [
      "/home/sergio/miniconda3/envs/carpricepred/lib/python3.7/site-packages/pandas/core/reshape/merge.py:643: UserWarning: merging between different levels can give an unintended result (2 levels on the left,1 on the right)\n",
      "  warnings.warn(msg, UserWarning)\n"
     ]
    },
    {
     "data": {
      "text/html": [
       "<div>\n",
       "<style scoped>\n",
       "    .dataframe tbody tr th:only-of-type {\n",
       "        vertical-align: middle;\n",
       "    }\n",
       "\n",
       "    .dataframe tbody tr th {\n",
       "        vertical-align: top;\n",
       "    }\n",
       "\n",
       "    .dataframe thead th {\n",
       "        text-align: right;\n",
       "    }\n",
       "</style>\n",
       "<table border=\"1\" class=\"dataframe\">\n",
       "  <thead>\n",
       "    <tr style=\"text-align: right;\">\n",
       "      <th></th>\n",
       "      <th>(Price_MXN, mean)</th>\n",
       "      <th>(Price_MXN, count)</th>\n",
       "      <th>TRACTION_CONTROL</th>\n",
       "    </tr>\n",
       "    <tr>\n",
       "      <th>TRACTION_CONTROL</th>\n",
       "      <th></th>\n",
       "      <th></th>\n",
       "      <th></th>\n",
       "    </tr>\n",
       "  </thead>\n",
       "  <tbody>\n",
       "    <tr>\n",
       "      <th>4x2</th>\n",
       "      <td>338334.103807</td>\n",
       "      <td>502</td>\n",
       "      <td>5.038137</td>\n",
       "    </tr>\n",
       "    <tr>\n",
       "      <th>4x4</th>\n",
       "      <td>534413.380680</td>\n",
       "      <td>1449</td>\n",
       "      <td>14.542352</td>\n",
       "    </tr>\n",
       "    <tr>\n",
       "      <th>6x2</th>\n",
       "      <td>627885.437500</td>\n",
       "      <td>16</td>\n",
       "      <td>0.160578</td>\n",
       "    </tr>\n",
       "    <tr>\n",
       "      <th>6x4</th>\n",
       "      <td>868619.226358</td>\n",
       "      <td>35</td>\n",
       "      <td>0.351265</td>\n",
       "    </tr>\n",
       "    <tr>\n",
       "      <th>Delantera</th>\n",
       "      <td>245541.294593</td>\n",
       "      <td>4472</td>\n",
       "      <td>44.881574</td>\n",
       "    </tr>\n",
       "    <tr>\n",
       "      <th>Integral</th>\n",
       "      <td>898845.432922</td>\n",
       "      <td>36</td>\n",
       "      <td>0.361301</td>\n",
       "    </tr>\n",
       "    <tr>\n",
       "      <th>Trasera</th>\n",
       "      <td>481823.782828</td>\n",
       "      <td>990</td>\n",
       "      <td>9.935769</td>\n",
       "    </tr>\n",
       "    <tr>\n",
       "      <th>nan</th>\n",
       "      <td>334950.244391</td>\n",
       "      <td>2464</td>\n",
       "      <td>24.729024</td>\n",
       "    </tr>\n",
       "  </tbody>\n",
       "</table>\n",
       "</div>"
      ],
      "text/plain": [
       "                  (Price_MXN, mean)  (Price_MXN, count)  TRACTION_CONTROL\n",
       "TRACTION_CONTROL                                                         \n",
       "4x2                   338334.103807                 502          5.038137\n",
       "4x4                   534413.380680                1449         14.542352\n",
       "6x2                   627885.437500                  16          0.160578\n",
       "6x4                   868619.226358                  35          0.351265\n",
       "Delantera             245541.294593                4472         44.881574\n",
       "Integral              898845.432922                  36          0.361301\n",
       "Trasera               481823.782828                 990          9.935769\n",
       "nan                   334950.244391                2464         24.729024"
      ]
     },
     "metadata": {},
     "output_type": "display_data"
    }
   ],
   "source": [
    "condition_info = cars_dataset_df.groupby(feature_name,dropna=False).agg({\"Price_MXN\":[\"mean\",\"count\"]})\n",
    "norm_counts = cars_dataset_df[feature_name].value_counts(normalize=True,dropna=False) * 100\n",
    "condition_info =condition_info.join(norm_counts)\n",
    "display(condition_info)"
   ]
  },
  {
   "cell_type": "code",
   "execution_count": 39,
   "metadata": {},
   "outputs": [
    {
     "data": {
      "text/plain": [
       "Index(['Condition', 'State', 'City', 'ITEM_CONDITION', 'LENGTH',\n",
       "       'PASSENGER_CAPACITY', 'POWER', 'TRACTION_CONTROL',\n",
       "       'HAS_AIR_CONDITIONING', 'ENGINE_DISPLACEMENT', 'BRAND', 'DOORS',\n",
       "       'ENGINE', 'FUEL_TYPE', 'KILOMETERS', 'MODEL', 'TRANSMISSION', 'TRIM',\n",
       "       'VEHICLE_YEAR', 'SINGLE_OWNER', 'ENGINE_MANUFACTURER', 'MOTO_TYPE',\n",
       "       'CYLINDERS', 'LOADING_CAPACITY', 'HOURS_OF_USE', 'FORKLIFT_TYPE',\n",
       "       'HAS_POWER_TRIM', 'ENGINE_QUANTITY', 'BEAM', 'OPERATING_WEIGHT', 'LINE',\n",
       "       'WEIGHT', 'DRAFT', 'INTERNAL_DIAMETER', 'MAX_POWER', 'Price_MXN'],\n",
       "      dtype='object')"
      ]
     },
     "execution_count": 39,
     "metadata": {},
     "output_type": "execute_result"
    }
   ],
   "source": [
    "cars_dataset_df.columns"
   ]
  },
  {
   "cell_type": "markdown",
   "metadata": {},
   "source": [
    "## HAS_AIR_CONDITIONING"
   ]
  },
  {
   "cell_type": "code",
   "execution_count": 40,
   "metadata": {},
   "outputs": [],
   "source": [
    "feature_name = \"HAS_AIR_CONDITIONING\"\n",
    "#cars_dataset_df[feature_name]"
   ]
  },
  {
   "cell_type": "code",
   "execution_count": 41,
   "metadata": {},
   "outputs": [],
   "source": [
    "cars_dataset_df[feature_name] =cars_dataset_df[feature_name].astype(\"str\")"
   ]
  },
  {
   "cell_type": "code",
   "execution_count": 42,
   "metadata": {},
   "outputs": [
    {
     "name": "stdout",
     "output_type": "stream",
     "text": [
      "Unique 'HAS_AIR_CONDITIONING' values ['Sí' 'nan' 'No']\n"
     ]
    }
   ],
   "source": [
    "print(\"Unique 'HAS_AIR_CONDITIONING' values\",cars_dataset_df[feature_name].unique())"
   ]
  },
  {
   "cell_type": "code",
   "execution_count": 43,
   "metadata": {},
   "outputs": [
    {
     "name": "stderr",
     "output_type": "stream",
     "text": [
      "/home/sergio/miniconda3/envs/carpricepred/lib/python3.7/site-packages/pandas/core/reshape/merge.py:643: UserWarning: merging between different levels can give an unintended result (2 levels on the left,1 on the right)\n",
      "  warnings.warn(msg, UserWarning)\n"
     ]
    },
    {
     "data": {
      "text/html": [
       "<div>\n",
       "<style scoped>\n",
       "    .dataframe tbody tr th:only-of-type {\n",
       "        vertical-align: middle;\n",
       "    }\n",
       "\n",
       "    .dataframe tbody tr th {\n",
       "        vertical-align: top;\n",
       "    }\n",
       "\n",
       "    .dataframe thead th {\n",
       "        text-align: right;\n",
       "    }\n",
       "</style>\n",
       "<table border=\"1\" class=\"dataframe\">\n",
       "  <thead>\n",
       "    <tr style=\"text-align: right;\">\n",
       "      <th></th>\n",
       "      <th>(Price_MXN, mean)</th>\n",
       "      <th>(Price_MXN, count)</th>\n",
       "      <th>HAS_AIR_CONDITIONING</th>\n",
       "    </tr>\n",
       "    <tr>\n",
       "      <th>HAS_AIR_CONDITIONING</th>\n",
       "      <th></th>\n",
       "      <th></th>\n",
       "      <th></th>\n",
       "    </tr>\n",
       "  </thead>\n",
       "  <tbody>\n",
       "    <tr>\n",
       "      <th>No</th>\n",
       "      <td>404811.444271</td>\n",
       "      <td>247</td>\n",
       "      <td>2.478924</td>\n",
       "    </tr>\n",
       "    <tr>\n",
       "      <th>Sí</th>\n",
       "      <td>335305.937663</td>\n",
       "      <td>3872</td>\n",
       "      <td>38.859896</td>\n",
       "    </tr>\n",
       "    <tr>\n",
       "      <th>nan</th>\n",
       "      <td>345441.502730</td>\n",
       "      <td>5845</td>\n",
       "      <td>58.661180</td>\n",
       "    </tr>\n",
       "  </tbody>\n",
       "</table>\n",
       "</div>"
      ],
      "text/plain": [
       "                      (Price_MXN, mean)  (Price_MXN, count)  \\\n",
       "HAS_AIR_CONDITIONING                                          \n",
       "No                        404811.444271                 247   \n",
       "Sí                        335305.937663                3872   \n",
       "nan                       345441.502730                5845   \n",
       "\n",
       "                      HAS_AIR_CONDITIONING  \n",
       "HAS_AIR_CONDITIONING                        \n",
       "No                                2.478924  \n",
       "Sí                               38.859896  \n",
       "nan                              58.661180  "
      ]
     },
     "metadata": {},
     "output_type": "display_data"
    }
   ],
   "source": [
    "condition_info = cars_dataset_df.groupby(feature_name,dropna=False).agg({\"Price_MXN\":[\"mean\",\"count\"]})\n",
    "norm_counts = cars_dataset_df[feature_name].value_counts(normalize=True,dropna=False) * 100\n",
    "condition_info =condition_info.join(norm_counts)\n",
    "display(condition_info)"
   ]
  },
  {
   "cell_type": "markdown",
   "metadata": {},
   "source": [
    "## ENGINE_DISPLACEMENT"
   ]
  },
  {
   "cell_type": "code",
   "execution_count": 44,
   "metadata": {},
   "outputs": [],
   "source": [
    "feature_name = \"ENGINE_DISPLACEMENT\""
   ]
  },
  {
   "cell_type": "code",
   "execution_count": 45,
   "metadata": {},
   "outputs": [],
   "source": [
    "cars_dataset_df[feature_name] =cars_dataset_df[feature_name].astype(\"str\")"
   ]
  },
  {
   "cell_type": "code",
   "execution_count": 46,
   "metadata": {},
   "outputs": [
    {
     "name": "stdout",
     "output_type": "stream",
     "text": [
      "Unique 'ENGINE_DISPLACEMENT' values ['1991 cc' '1997 cc' '650 cc' '3.6 L' '5.4 L' '1.8 L' 'nan' '3 L'\n",
      " '5663 cc' '4 L' '1.4 L' '1600 cc' '5.3 L' '3498 cc' '1.6 L' '1798 cc'\n",
      " '1497 cc' '2979 cc' '1799 cc' '2 L' '2.5 L' '1998 cc' '4.6 L' '1598 cc'\n",
      " '2.4 L' '4.7 L' '6162 cc' '2488 cc' '1984 cc' '999 cc' '3488 cc' '3.5 L'\n",
      " '1999 cc' '1395 cc' '2995 cc' '310 cc' '500 cc' '1498 cc' '5.7 L'\n",
      " '3604 cc' '2997 cc' '800 cc' '0.9 L' '1399 cc' '3640 cc' '1206 cc'\n",
      " '3.7 L' '1591 cc' '3496 cc' '3.2 L' '5.5 L' '4.3 L' '3982 cc' '1560 cc'\n",
      " '1197 cc' '2360 cc' '1 L' '2.3 L' '6.2 L' '1193 cc' '1.5 L' '1496 cc'\n",
      " '3471 cc' '2300 cc' '898 cc' '1390 cc' '883 cc' '3605 cc' '2694 cc'\n",
      " '3649 cc' '3597 cc' '2.2 L' '2359 cc' '1796 cc' '1580 cc' '3.8 L'\n",
      " '1499 cc' '1368 cc' '2489 cc' '3.3 L' '5700 cc' '400 cc' '5.6 L'\n",
      " '2996 cc' '250 cc' '4395 cc' '1200 cc' '1364 cc' '1495 cc' '750 cc'\n",
      " '1596 cc' '3497 cc' '5328 cc' '6700 cc' '1700 cc' '3456 cc' '5654 cc'\n",
      " '1599 cc' '200 cc' '900 cc' '4.4 L' '1797 cc' '1.2 L' '5552 cc' '1968 cc'\n",
      " '3727 cc' '1618 cc' '1 cc' '1781 cc' '2494 cc' '4.2 L' '3561 cc'\n",
      " '2000 cc' '4300 cc' '6400 cc' '1690 cc' '3590 cc' '225 cc' '3564 cc'\n",
      " '1000 cc' '1490 cc' '3598 cc' '2480 cc' '251 cc' '1996 cc' '50 cc'\n",
      " '3465 cc' '1595 cc' '6417 cc' '6 L' '313 cc' '1300 cc' '3.4 L' '1100 cc'\n",
      " '1500 cc' '150 cc' '2253 cc' '1372 cc' '1248 cc' '1290 cc' '47 cc'\n",
      " '321 cc' '950 cc' '1800 cc' '49 cc' '2.7 L' '1450 cc' '1586 cc' '125 cc'\n",
      " '3799 cc' '1742 cc' '110 cc' '600 cc' '135 cc' '300 cc' '3200 cc'\n",
      " '2693 cc' '4 cc' '1745 cc' '1988 cc' '2384 cc' '1584 cc' '821 cc'\n",
      " '2500 cc' '6211 cc' '3696 cc' '5 L' '1969 cc' '149 cc' '6.4 L' '5200 cc'\n",
      " '5461 cc' '450 cc' '1.1 L' '1687 cc' '3.1 L' '2356 cc' '1760 cc'\n",
      " '4951 cc' '390 cc' '6800 cc' '220 cc' '2457 cc' '4.8 L' '2.8 L' '350 cc'\n",
      " '2200 cc' '998 cc' '2477 cc' '700 cc' '3800 cc' '2 cc' '449 cc' '3996 cc'\n",
      " '2998 cc' '1198 cc' '5.2 L' '2497 cc' '803 cc' '6.1 L' '6166 cc' '155 cc'\n",
      " '5204 cc' '2266 cc' '2400 cc' '2981 cc' '35 cc' '160 cc' '3954 cc'\n",
      " '180 cc' '0 cc' '5 gal' '4799 cc' '8.4 L' '1090 cc' '689 cc' '471 cc'\n",
      " '745 cc' '850 cc' '249 cc' '4.5 L' '2993 cc' '3342 cc' '2967 cc'\n",
      " '1373 cc' '103 cc' '3993 cc' '111 cc' '6.3 L' '1400 cc' '4275 cc'\n",
      " '1330 cc' '1199 cc' '1389 cc' '636 cc' '1995 cc' '937 cc' '2198 cc'\n",
      " '3855 cc' '1750 cc' '3828 cc' '1262 cc' '4663 cc' '1170 cc' '1250 cc'\n",
      " '1299 cc' '1084 cc' '5967 cc' '790 cc' '1398 cc' '1340 cc' '1449 cc'\n",
      " '1680 cc' '1150 cc' '1172 cc' '320 cc' '895 cc' '230 cc' '1900 cc'\n",
      " '5195 cc' '1597 cc' '114 cc' '3.9 L' '796 cc' '3239 cc' '959 cc' '570 cc'\n",
      " '6 cc' '197.75 cc' '183 cc' '2393 cc' '3406 cc' '420 cc' '502 cc'\n",
      " '1130 cc' '675 cc' '175 cc' '1587 cc' '899 cc' '3726 cc' '4999 cc'\n",
      " '472 cc' '599 cc' '2143 cc' '80 cc' '853 cc' '948 cc']\n"
     ]
    }
   ],
   "source": [
    "print(\"Unique 'ENGINE_DISPLACEMENT' values\",cars_dataset_df[feature_name].unique())"
   ]
  },
  {
   "cell_type": "code",
   "execution_count": 47,
   "metadata": {},
   "outputs": [],
   "source": [
    "def engine_displacement_preprocessing(raw_power,conversion_dict):\n",
    "    try:\n",
    "        value,metric = raw_power.split()\n",
    "    except:\n",
    "        return float(raw_power)\n",
    "    factor = conversion_dict[metric]\n",
    "    return float(value)*factor"
   ]
  },
  {
   "cell_type": "code",
   "execution_count": 48,
   "metadata": {},
   "outputs": [],
   "source": [
    "conversion_dict_eng_dis={\"cc\":1,\"L\":1000,\"gal\":3785.41}\n",
    "cars_dataset_df[feature_name]= cars_dataset_df[feature_name].map(lambda x: engine_displacement_preprocessing(x, conversion_dict_eng_dis))"
   ]
  },
  {
   "cell_type": "code",
   "execution_count": 49,
   "metadata": {},
   "outputs": [
    {
     "name": "stdout",
     "output_type": "stream",
     "text": [
      "Número de ejemplos con 'LENGTH' 6150\n",
      "Número de ejemplos con 'NaN' 3814\n"
     ]
    }
   ],
   "source": [
    "print(\"Número de ejemplos con 'LENGTH'\",sum(~np.isnan(cars_dataset_df[feature_name])))\n",
    "print(\"Número de ejemplos con 'NaN'\",sum(np.isnan(cars_dataset_df[feature_name])))"
   ]
  },
  {
   "cell_type": "code",
   "execution_count": 50,
   "metadata": {},
   "outputs": [
    {
     "data": {
      "text/plain": [
       "<AxesSubplot:xlabel='ENGINE_DISPLACEMENT'>"
      ]
     },
     "execution_count": 50,
     "metadata": {},
     "output_type": "execute_result"
    },
    {
     "data": {
      "image/png": "[encoded data removed]",
      "text/plain": [
       "<Figure size 432x288 with 1 Axes>"
      ]
     },
     "metadata": {
      "needs_background": "light"
     },
     "output_type": "display_data"
    }
   ],
   "source": [
    "sns.distplot(cars_dataset_df[feature_name])"
   ]
  },
  {
   "cell_type": "code",
   "execution_count": 51,
   "metadata": {},
   "outputs": [
    {
     "data": {
      "image/png": "[encoded data removed]",
      "text/plain": [
       "<Figure size 360x360 with 1 Axes>"
      ]
     },
     "metadata": {
      "needs_background": "light"
     },
     "output_type": "display_data"
    }
   ],
   "source": [
    "sns.relplot(y=\"Price_MXN\", x=feature_name, data=cars_dataset_df);"
   ]
  },
  {
   "cell_type": "markdown",
   "metadata": {},
   "source": [
    "## BRAND"
   ]
  },
  {
   "cell_type": "code",
   "execution_count": 52,
   "metadata": {},
   "outputs": [],
   "source": [
    "feature_name = \"BRAND\"\n",
    "#cars_dataset_df[feature_name]"
   ]
  },
  {
   "cell_type": "code",
   "execution_count": 53,
   "metadata": {},
   "outputs": [],
   "source": [
    "cars_dataset_df[feature_name] =cars_dataset_df[feature_name].astype(\"str\")"
   ]
  },
  {
   "cell_type": "code",
   "execution_count": 54,
   "metadata": {},
   "outputs": [
    {
     "name": "stdout",
     "output_type": "stream",
     "text": [
      "UniqueBRANDvalues ['Mercedes-Benz' 'BMW' 'Can-Am' 'Porsche' 'Cadillac' 'Ford' 'Toyota'\n",
      " 'Dodge' 'SEAT' 'Kawasaki' 'Chevrolet' 'Chrysler' 'Volkswagen' 'Infiniti'\n",
      " 'Nissan' 'Lincoln' 'Honda' 'GMC' 'Mazda' 'Renault' 'Peugeot' 'Jeep'\n",
      " 'Suzuki' 'Audi' 'Smart' 'Jaguar' 'Mitsubishi' 'Buick' 'Hyundai' 'Fiat'\n",
      " 'Kia' 'RAM' 'Maserati' 'Land Rover' 'Mini' 'Harley-Davidson' 'nan'\n",
      " 'Alfa Romeo' 'Baic' 'International' 'Italika' 'Freightliner'\n",
      " 'Internacional' 'JAC' 'Hummer' 'Piaggio' 'Man' 'Peterbilt' 'Polaris'\n",
      " 'Bajaj' 'Plataforma' 'TVS' 'Muevetec' 'Caterpillar' 'DAZON 2020' 'Acura'\n",
      " 'Sunl' 'Keeway' 'Triumph' 'DAZON CON CABINA' 'DAZON' 'Benelli'\n",
      " 'Troy-Bilt' 'EKON' 'dodge ram' 'Vento' 'DON TORO' 'Yamaha' 'Hino' 'KTM'\n",
      " 'Otras Marcas' 'New Holland' 'FangPower' 'Indian' 'MOTO AVANZADA'\n",
      " 'DAZON CON VENTILADOR' 'Isuzu' 'oubike' 'Swissmex' 'remolques nacionales'\n",
      " 'Kenworth' 'Vespa' 'Olinko' 'DAZON 200 VENTILADO' 'SHI FENG' 'Club Car'\n",
      " 'HARLEY DAVIDSON y' 'Case' 'REFLECTION' 'John Deere' 'K.O.MOTO'\n",
      " 'MDEM TREC' 'PASER' 'Remolques Uno' 'Century' 'ARREOLA' 'Ferrari'\n",
      " 'Pontiac' 'Volvo' 'Thermo King' 'Starwind19' 'retro' 'Ducati' 'Subaru'\n",
      " 'GOLOVOLT' 'DOOSAN' 'Norte' 'ATRO' 'Foton' 'Haulotte' 'Bison' 'Cummins'\n",
      " 'LAY-MORE' 'CAT' 'CAB Mexico' 'Mercury' 'AVANZA' 'Hyster' 'Carabela'\n",
      " 'Qlink' 'Sea-Doo' 'KINGWAY' 'Nogueira' 'ECONTAINER MX' 'Bufalo' 'Shelby'\n",
      " 'Cagiva' 'Plataformas usadas' 'Massey Ferguson' 'Sea Ray'\n",
      " 'ALLIS CHAMBERS' 'Rambler' 'Trailers Tandems y Maquinas S.A de C.V.'\n",
      " 'Retroexcavadora case' 'Royal Enfield' 'JLG' 'Food Truck'\n",
      " 'CASE, BOBCAT, CAT' 'Bombardier' 'ORANGE COUNTY SHOPPER' 'SEA RAY'\n",
      " 'EVERUN' 'Atlas Copco BOBCAT TABE' 'ir atlas kaeser sullair doosan'\n",
      " 'ATRO  2021' 'John Deere 310D' 'Genie' 'Scout Boats' 'Shifeng'\n",
      " 'Lamborghini' 'KINGS  BUFALO' 'Moto Avanzada' 'London e moto'\n",
      " 'Seadoo Wake Pro 215' 'atro 2021' 'Fod Mustang  Fastback' 'Nacional'\n",
      " 'RDN' 'Tesla' 'CAN AM DEFENDER' 'SOILMEC' 'Four Winns' 'Ingersoll Rand'\n",
      " 'McLaren' 'FORD MUSTANG' 'STRUK' 'VELOCI' 'Don Toro' 'Compacto'\n",
      " 'BMW Enduro Coleccion' 'FST' 'DITCH WITCH' 'Mekatech' 'Taylor'\n",
      " 'LANCHA ALUMACRAFT' 'NORTE' 'Go Kart' 'sunl lifan' 'AUGUSTA' 'Lotus'\n",
      " 'Austin Mini Cooper' 'BOBCAT' 'Maverick' 'Taylor Dunn' 'Bentley' 'EOUGEM'\n",
      " 'INOX' 'Tres Torres TCM' 'Aprilia' 'NORTH POWER' 'ford thunderbird'\n",
      " 'Grua Internacional' 'Laguna' 'ATRO 2021' 'Irizar new century'\n",
      " 'CARROCERIAS JPT' 'Atlas Copco' 'BOBCAT S130' 'IRON Group' 'Ariel'\n",
      " 'Retroexcavadora JCB' 'Trailers, Tandems y Maquinas, S.A. de C.V.'\n",
      " 'load king' 'Motor kubota v3300' 'Rolls-Royce' 'Datsun' 'BIG JOE'\n",
      " 'Sterling' 'MG ROVER' 'Ford mustang' 'COMERCIAL HT' 'VELOAD' 'TADANO'\n",
      " 'NAVISTAR' 'Ford Disel standar' 'Caja refrigerada' 'Camiones de volteo,'\n",
      " 'Hummer h3 Limosina' 'McLanahan Rockmaster' 'Linkbelt' 'PALFINGER' 'Yale'\n",
      " 'Dinamo' 'Yamaha FZ' 'National' 'Malibu' 'Bayliner' 'GROVE'\n",
      " 'Comercial HT' 'Liebherr' 'IR DOOSAN' 'MV Agusta' 'Honda vtx'\n",
      " 'Beach Tech' 'Mini Cooper' 'TRANSCARGO' 'Wabash' 'Schopf'\n",
      " 'IR DOOSAN SULLAIR ATLAS KASESER SULLIVAN CHICAGO' 'Sandtec' 'RY'\n",
      " 'Autotanque' 'Plataforma de 40 pie' 'Plataformas de 40 ft' 'Praga' 'NPK'\n",
      " 'Moto acuática Yamaha' 'Aston Martin' 'SUIHE' 'Mega' 'RENTERIA'\n",
      " 'Vochobus 2009 volks' 'Link Belt' 'LINK BELT' 'Torton grúa pipas'\n",
      " 'CATERPILLAR 420E 4x4' 'ingersoll rand 185' 'Chrysler cordoba'\n",
      " 'CAT Y JOHN DEERE' 'Tafricon' 'NEKS' 'Universal' 'Remolques Don Toro'\n",
      " 'TORINO MOTORS' 'Casco 55 pies' 'HIAB' 'VW' 'CATERPILLAR 420E 4X4'\n",
      " 'Benelli mt' 'SCHMELZER' 'Magnum' 'WOLVERING' 'diamond city' 'Renteria'\n",
      " 'USM' 'Piba de compustible' 'URAL' 'MOTO GUZZI TRIUMPH' 'Riva'\n",
      " 'Plataforma cama baja' 'Kaeser' 'Rentería' 'Terex' 'Mariah' 'Raymond'\n",
      " 'lozano' 'stingray' 'John Deere 310 K' 'sterling terex'\n",
      " 'CASE 590 Súper M' 'Packard' 'MW' 'Gehl' 'Gami' 'FASSI' 'SANDBLASTER'\n",
      " 'AMC' 'oisa maquinaria' 'Gran Danes' 'Remolque  de carga' 'truimph'\n",
      " 'citycoco' 'Ritamo' 'CARROCERIAS MIRELES' 'TIARA' 'Caterpillar 928G'\n",
      " 'GRUA CANASTILLA ELEVACION DE PERSONAS ALTEC' 'Fehr' 'JCB' 'CARABALEA'\n",
      " 'KONECRANES' 'AIR POWER' 'KING BUFALO' 'SUNL-LIFAN' 'Don Toro caja seca'\n",
      " 'Clark' 'Hamm' 'servicio de arrastre' 'V.i.n. Remolque' 'Austin Healey'\n",
      " 'REMOLQUES Y CARROCERIAS RENTERIA' 'CIFA' 'Suzuki Ozark 250 CC'\n",
      " 'WESTENDORF' 'Pulsar' 'Ford Mustang' 'BAUMANN' 'CAJA MATERIALISTA'\n",
      " 'Susuki' 'Don Toro traila gde' 'Torino Motors' 'Freigthliner'\n",
      " 'IR SULLAIR ATLAS' 'CAB' 'Sedan' 'Lay Mor' 'MOTO GUZZI' 'LANDMAN'\n",
      " 'Chevrolet aveo' 'Sinotruk' 'lifan sunl' 'atro' 'Mustang' 'Kelly'\n",
      " 'VARIAS' 'C&A']\n"
     ]
    }
   ],
   "source": [
    "print(\"Unique\"+feature_name+\"values\",cars_dataset_df[feature_name].unique())"
   ]
  },
  {
   "cell_type": "code",
   "execution_count": 55,
   "metadata": {},
   "outputs": [
    {
     "name": "stderr",
     "output_type": "stream",
     "text": [
      "/home/sergio/miniconda3/envs/carpricepred/lib/python3.7/site-packages/pandas/core/reshape/merge.py:643: UserWarning: merging between different levels can give an unintended result (2 levels on the left,1 on the right)\n",
      "  warnings.warn(msg, UserWarning)\n"
     ]
    },
    {
     "data": {
      "text/html": [
       "<div>\n",
       "<style scoped>\n",
       "    .dataframe tbody tr th:only-of-type {\n",
       "        vertical-align: middle;\n",
       "    }\n",
       "\n",
       "    .dataframe tbody tr th {\n",
       "        vertical-align: top;\n",
       "    }\n",
       "\n",
       "    .dataframe thead th {\n",
       "        text-align: right;\n",
       "    }\n",
       "</style>\n",
       "<table border=\"1\" class=\"dataframe\">\n",
       "  <thead>\n",
       "    <tr style=\"text-align: right;\">\n",
       "      <th></th>\n",
       "      <th>Mean MXN Price</th>\n",
       "      <th>Cunts</th>\n",
       "      <th>%</th>\n",
       "    </tr>\n",
       "    <tr>\n",
       "      <th>BRAND</th>\n",
       "      <th></th>\n",
       "      <th></th>\n",
       "      <th></th>\n",
       "    </tr>\n",
       "  </thead>\n",
       "  <tbody>\n",
       "    <tr>\n",
       "      <th>Chevrolet</th>\n",
       "      <td>2.818769e+05</td>\n",
       "      <td>1075</td>\n",
       "      <td>10.788840</td>\n",
       "    </tr>\n",
       "    <tr>\n",
       "      <th>Volkswagen</th>\n",
       "      <td>2.551987e+05</td>\n",
       "      <td>1070</td>\n",
       "      <td>10.738659</td>\n",
       "    </tr>\n",
       "    <tr>\n",
       "      <th>Nissan</th>\n",
       "      <td>2.359663e+05</td>\n",
       "      <td>836</td>\n",
       "      <td>8.390205</td>\n",
       "    </tr>\n",
       "    <tr>\n",
       "      <th>Ford</th>\n",
       "      <td>3.534994e+05</td>\n",
       "      <td>623</td>\n",
       "      <td>6.252509</td>\n",
       "    </tr>\n",
       "    <tr>\n",
       "      <th>BMW</th>\n",
       "      <td>4.233909e+05</td>\n",
       "      <td>537</td>\n",
       "      <td>5.389402</td>\n",
       "    </tr>\n",
       "    <tr>\n",
       "      <th>...</th>\n",
       "      <td>...</td>\n",
       "      <td>...</td>\n",
       "      <td>...</td>\n",
       "    </tr>\n",
       "    <tr>\n",
       "      <th>K.O.MOTO</th>\n",
       "      <td>5.900000e+03</td>\n",
       "      <td>1</td>\n",
       "      <td>0.010036</td>\n",
       "    </tr>\n",
       "    <tr>\n",
       "      <th>KING BUFALO</th>\n",
       "      <td>2.350000e+04</td>\n",
       "      <td>1</td>\n",
       "      <td>0.010036</td>\n",
       "    </tr>\n",
       "    <tr>\n",
       "      <th>KINGS  BUFALO</th>\n",
       "      <td>2.230000e+04</td>\n",
       "      <td>1</td>\n",
       "      <td>0.010036</td>\n",
       "    </tr>\n",
       "    <tr>\n",
       "      <th>KONECRANES</th>\n",
       "      <td>1.850000e+06</td>\n",
       "      <td>1</td>\n",
       "      <td>0.010036</td>\n",
       "    </tr>\n",
       "    <tr>\n",
       "      <th>truimph</th>\n",
       "      <td>2.680000e+05</td>\n",
       "      <td>1</td>\n",
       "      <td>0.010036</td>\n",
       "    </tr>\n",
       "  </tbody>\n",
       "</table>\n",
       "<p>346 rows × 3 columns</p>\n",
       "</div>"
      ],
      "text/plain": [
       "               Mean MXN Price  Cunts          %\n",
       "BRAND                                          \n",
       "Chevrolet        2.818769e+05   1075  10.788840\n",
       "Volkswagen       2.551987e+05   1070  10.738659\n",
       "Nissan           2.359663e+05    836   8.390205\n",
       "Ford             3.534994e+05    623   6.252509\n",
       "BMW              4.233909e+05    537   5.389402\n",
       "...                       ...    ...        ...\n",
       "K.O.MOTO         5.900000e+03      1   0.010036\n",
       "KING BUFALO      2.350000e+04      1   0.010036\n",
       "KINGS  BUFALO    2.230000e+04      1   0.010036\n",
       "KONECRANES       1.850000e+06      1   0.010036\n",
       "truimph          2.680000e+05      1   0.010036\n",
       "\n",
       "[346 rows x 3 columns]"
      ]
     },
     "execution_count": 55,
     "metadata": {},
     "output_type": "execute_result"
    }
   ],
   "source": [
    "condition_info = cars_dataset_df.groupby(feature_name,dropna=False).agg({\"Price_MXN\":[\"mean\",\"count\"]})\n",
    "norm_counts = cars_dataset_df[feature_name].value_counts(normalize=True,dropna=False) * 100\n",
    "condition_info =condition_info.join(norm_counts)\n",
    "condition_info.columns=[\"Mean MXN Price\",\"Cunts\",\"%\"]\n",
    "condition_info.sort_values(by=\"%\",ascending=False)"
   ]
  },
  {
   "cell_type": "code",
   "execution_count": 56,
   "metadata": {},
   "outputs": [
    {
     "data": {
      "text/plain": [
       "Index(['Condition', 'State', 'City', 'ITEM_CONDITION', 'LENGTH',\n",
       "       'PASSENGER_CAPACITY', 'POWER', 'TRACTION_CONTROL',\n",
       "       'HAS_AIR_CONDITIONING', 'ENGINE_DISPLACEMENT', 'BRAND', 'DOORS',\n",
       "       'ENGINE', 'FUEL_TYPE', 'KILOMETERS', 'MODEL', 'TRANSMISSION', 'TRIM',\n",
       "       'VEHICLE_YEAR', 'SINGLE_OWNER', 'ENGINE_MANUFACTURER', 'MOTO_TYPE',\n",
       "       'CYLINDERS', 'LOADING_CAPACITY', 'HOURS_OF_USE', 'FORKLIFT_TYPE',\n",
       "       'HAS_POWER_TRIM', 'ENGINE_QUANTITY', 'BEAM', 'OPERATING_WEIGHT', 'LINE',\n",
       "       'WEIGHT', 'DRAFT', 'INTERNAL_DIAMETER', 'MAX_POWER', 'Price_MXN'],\n",
       "      dtype='object')"
      ]
     },
     "execution_count": 56,
     "metadata": {},
     "output_type": "execute_result"
    }
   ],
   "source": [
    "cars_dataset_df.columns"
   ]
  },
  {
   "cell_type": "markdown",
   "metadata": {},
   "source": [
    "## DOORS"
   ]
  },
  {
   "cell_type": "code",
   "execution_count": 57,
   "metadata": {},
   "outputs": [],
   "source": [
    "feature_name = \"DOORS\"\n",
    "#cars_dataset_df[feature_name]"
   ]
  },
  {
   "cell_type": "code",
   "execution_count": 58,
   "metadata": {},
   "outputs": [],
   "source": [
    "cars_dataset_df[feature_name] =cars_dataset_df[feature_name].astype(\"str\")"
   ]
  },
  {
   "cell_type": "code",
   "execution_count": 59,
   "metadata": {},
   "outputs": [
    {
     "name": "stdout",
     "output_type": "stream",
     "text": [
      "UniqueDOORSvalues ['4.0' '2.0' 'nan' '5.0' '3.0' '0.0' '6.0' '7.0']\n"
     ]
    }
   ],
   "source": [
    "print(\"Unique\"+feature_name+\"values\",cars_dataset_df[feature_name].unique())"
   ]
  },
  {
   "cell_type": "code",
   "execution_count": 60,
   "metadata": {},
   "outputs": [
    {
     "name": "stderr",
     "output_type": "stream",
     "text": [
      "/home/sergio/miniconda3/envs/carpricepred/lib/python3.7/site-packages/pandas/core/reshape/merge.py:643: UserWarning: merging between different levels can give an unintended result (2 levels on the left,1 on the right)\n",
      "  warnings.warn(msg, UserWarning)\n"
     ]
    },
    {
     "data": {
      "text/html": [
       "<div>\n",
       "<style scoped>\n",
       "    .dataframe tbody tr th:only-of-type {\n",
       "        vertical-align: middle;\n",
       "    }\n",
       "\n",
       "    .dataframe tbody tr th {\n",
       "        vertical-align: top;\n",
       "    }\n",
       "\n",
       "    .dataframe thead th {\n",
       "        text-align: right;\n",
       "    }\n",
       "</style>\n",
       "<table border=\"1\" class=\"dataframe\">\n",
       "  <thead>\n",
       "    <tr style=\"text-align: right;\">\n",
       "      <th></th>\n",
       "      <th>Mean MXN Price</th>\n",
       "      <th>Cunts</th>\n",
       "      <th>%</th>\n",
       "    </tr>\n",
       "    <tr>\n",
       "      <th>DOORS</th>\n",
       "      <th></th>\n",
       "      <th></th>\n",
       "      <th></th>\n",
       "    </tr>\n",
       "  </thead>\n",
       "  <tbody>\n",
       "    <tr>\n",
       "      <th>5.0</th>\n",
       "      <td>3.619945e+05</td>\n",
       "      <td>3667</td>\n",
       "      <td>36.802489</td>\n",
       "    </tr>\n",
       "    <tr>\n",
       "      <th>4.0</th>\n",
       "      <td>2.848856e+05</td>\n",
       "      <td>3321</td>\n",
       "      <td>33.329988</td>\n",
       "    </tr>\n",
       "    <tr>\n",
       "      <th>nan</th>\n",
       "      <td>3.334490e+05</td>\n",
       "      <td>1509</td>\n",
       "      <td>15.144520</td>\n",
       "    </tr>\n",
       "    <tr>\n",
       "      <th>2.0</th>\n",
       "      <td>4.866804e+05</td>\n",
       "      <td>1069</td>\n",
       "      <td>10.728623</td>\n",
       "    </tr>\n",
       "    <tr>\n",
       "      <th>3.0</th>\n",
       "      <td>2.922350e+05</td>\n",
       "      <td>282</td>\n",
       "      <td>2.830189</td>\n",
       "    </tr>\n",
       "    <tr>\n",
       "      <th>0.0</th>\n",
       "      <td>2.886638e+05</td>\n",
       "      <td>110</td>\n",
       "      <td>1.103974</td>\n",
       "    </tr>\n",
       "    <tr>\n",
       "      <th>6.0</th>\n",
       "      <td>1.222465e+06</td>\n",
       "      <td>5</td>\n",
       "      <td>0.050181</td>\n",
       "    </tr>\n",
       "    <tr>\n",
       "      <th>7.0</th>\n",
       "      <td>1.480000e+05</td>\n",
       "      <td>1</td>\n",
       "      <td>0.010036</td>\n",
       "    </tr>\n",
       "  </tbody>\n",
       "</table>\n",
       "</div>"
      ],
      "text/plain": [
       "       Mean MXN Price  Cunts          %\n",
       "DOORS                                  \n",
       "5.0      3.619945e+05   3667  36.802489\n",
       "4.0      2.848856e+05   3321  33.329988\n",
       "nan      3.334490e+05   1509  15.144520\n",
       "2.0      4.866804e+05   1069  10.728623\n",
       "3.0      2.922350e+05    282   2.830189\n",
       "0.0      2.886638e+05    110   1.103974\n",
       "6.0      1.222465e+06      5   0.050181\n",
       "7.0      1.480000e+05      1   0.010036"
      ]
     },
     "execution_count": 60,
     "metadata": {},
     "output_type": "execute_result"
    }
   ],
   "source": [
    "condition_info = cars_dataset_df.groupby(feature_name,dropna=False).agg({\"Price_MXN\":[\"mean\",\"count\"]})\n",
    "norm_counts = cars_dataset_df[feature_name].value_counts(normalize=True,dropna=False) * 100\n",
    "condition_info =condition_info.join(norm_counts)\n",
    "condition_info.columns=[\"Mean MXN Price\",\"Cunts\",\"%\"]\n",
    "condition_info.sort_values(by=\"%\",ascending=False)"
   ]
  },
  {
   "cell_type": "code",
   "execution_count": 61,
   "metadata": {},
   "outputs": [
    {
     "data": {
      "image/png": "[encoded data removed]",
      "text/plain": [
       "<Figure size 360x360 with 1 Axes>"
      ]
     },
     "metadata": {
      "needs_background": "light"
     },
     "output_type": "display_data"
    }
   ],
   "source": [
    "sns.relplot(y=\"Price_MXN\", x=feature_name, data=cars_dataset_df);"
   ]
  },
  {
   "cell_type": "markdown",
   "metadata": {},
   "source": [
    "## ENGINE"
   ]
  },
  {
   "cell_type": "code",
   "execution_count": 62,
   "metadata": {},
   "outputs": [],
   "source": [
    "def categorical_preprocessing(dataframe,feature_name):\n",
    "    cars_dataset_df[feature_name] =dataframe[feature_name].astype(\"str\")\n",
    "    print(\"Unique\"+feature_name+\"values\",dataframe[feature_name].unique())\n",
    "    \n",
    "    condition_info = dataframe.groupby(feature_name,dropna=False).agg({\"Price_MXN\":[\"mean\",\"count\"]})\n",
    "    norm_counts = dataframe[feature_name].value_counts(normalize=True,dropna=False) * 100\n",
    "    condition_info =condition_info.join(norm_counts)\n",
    "    condition_info.columns=[\"Mean MXN Price\",\"Cunts\",\"%\"]\n",
    "    condition_info= condition_info.sort_values(by=\"%\",ascending=False)\n",
    "    \n",
    "    return condition_info"
   ]
  },
  {
   "cell_type": "code",
   "execution_count": 63,
   "metadata": {},
   "outputs": [
    {
     "name": "stdout",
     "output_type": "stream",
     "text": [
      "UniqueENGINEvalues ['2.0' 'nan' '3.6' '5.4' '1.8' '3.0' '5.7' '4.0' '1.4' '5.3' '3.5' '1.6'\n",
      " '1.5' '2.5' '4.6' '2.4' '4.7' '6.2' '1.0' '3.7' '2 tiempos' '0.9' '1.3'\n",
      " '3.2' '5.5' '4.3' '1.2' '2.3' '8.9' '2.7' '4 CIL 2.0 TURBO 300 HP' '2.2'\n",
      " 'V6 BITURBO' '1.4LT' '3.8' '3.3' '5.6' '4.' 'Turbo 3 Cilindros 1.0'\n",
      " '1600' '4 tiempos' '3.5 Biturbo' 'V8 HEMI' '4.2' 'V8' '2.0 lt'\n",
      " '1.5 TURBO' '6.5' '5.7 HEMI' '1.6 LITROS' '2.0L' '2.4  16 válvulas' '3.4'\n",
      " '1.5L Turbo' 'V6' '6.4' 'L4 DOHC' 'Shelby' '4 CILINDROS 2.0 190 HP TURBO'\n",
      " '1.4 TURBO' '350' 'L4 2.0L 150HP' 'v6' '5.0' '8CL 5.7LT' '2.0 turbo'\n",
      " '1.6 4cil' '4 cilindros 1.8L' 'L4 Gas Elec' '5.2' 'M6G' '1800cc'\n",
      " 'Motor 1500' '4 cilindros, 1.6L-16V S0HC' '1.1' '3.1' '4.4' '1.8L'\n",
      " 'V6  3L.' 'Motor Hecho en México' '6.8' '2.0 LT' '4.8'\n",
      " '6 cilindros en línea' '6 CILINDROS' '6.7' 'V8 Supercargado' 'AKE401852'\n",
      " '4CL 2.0LT' '6' '6 cilindros' '3.0 Turbo' '4 CIL' '5.7 V8' '1600cc'\n",
      " '2.0 Turbo' '2.4 LITROS' '4CL 2.4LT' '6.1' '4 cilindros' '1.4 Turbo'\n",
      " '1.7' 'Big block 460 pulgadas  cúbicas (7.5 litros)' '2.5 T' '8' '3500'\n",
      " '4 cilindros, 1.6-16V S0HC' '351 ORIGINAL'\n",
      " '3.0L 6 cilindros Ecoboost Turbo 400HP' '6.3' '1.60' '8.4' 'V6 3.0LT'\n",
      " 'ROVER' '2.o turbo TSI' '1275cc' 'Bóxer 4 cil. 2.7 l.' 'TURBO 2.0 4 CIL'\n",
      " 'BOBCAT D24NAP' '8 cilindros' 'V8 5.7L' '1.6 LTS' 'W12 6.0L' '4.5'\n",
      " '1.5 lts' '4 CILINDROS' '3.6 L V6' '1.8 L' '1.0 tsi 3cil' 'kubota v2203'\n",
      " '1.6 L' '2.8' 'Sedán' '6 cilindos' 'L4' 'V12 6.7L' 'V6 3.0 TURBO' '3.5l'\n",
      " '1.6 Litros 16 Válvulas' '3.3 L TWIN TURBO' '1.0 L Turbo' '1.2 TURBO'\n",
      " '1.6 litros 101 HP' '2.4L' '5.0l supercargado' '3.9' '6.0' '2.4l'\n",
      " '4 CIL 2.0 TURBO' '2.0T' 'Boxer 2.5 lts' '1600 cc' '351' '103 HP'\n",
      " 'V8 4.0 605 HP BITURBO' '6.7L  cummins' '2.0 T' '5.0 V8 500 HP SC'\n",
      " 'GASOLINA' '1300' '6.6 LTS' '8 CILINDROS' '6.7 Lts CUMMINS DISEL'\n",
      " '3.OL CON 376 HP' '6.0L V8' '6 Cilindros' '400' '2.0TDI' '3.6 LTS' '1.5L'\n",
      " 'V10' '2.5L 4 I' '6CL 3.6LT' '5.7LTS 360HP'\n",
      " '3,27 pulgadas (8 centímetros) de diámetr' '8CL 5.7' '2.0 TURBO'\n",
      " '2.5T 4 CIL' '113-1500' '1.6 HDI' 'L4 2.2 LTS TURBO DIESEL DIESEL'\n",
      " '2.0L 300HP' '2.0 TDI' '1.6 MPI' 'YANMAR' 'L4 TURBO 2.0 258HP'\n",
      " '3.0L V6 Ecoboost 400HP y 415Lb-pie' '1.8 Turbo' '2.2 L'\n",
      " 'NAFTERO 6V,16 VALVULAS, 1.6 LITROS' '6.4 Diesel turbo' '3.6LTS' '4 cil'\n",
      " '3.7 litros v6' 'V12 850 24V.' '3.6 v6' '1.4 L turbo']\n"
     ]
    },
    {
     "name": "stderr",
     "output_type": "stream",
     "text": [
      "/home/sergio/miniconda3/envs/carpricepred/lib/python3.7/site-packages/pandas/core/reshape/merge.py:643: UserWarning: merging between different levels can give an unintended result (2 levels on the left,1 on the right)\n",
      "  warnings.warn(msg, UserWarning)\n"
     ]
    },
    {
     "data": {
      "text/html": [
       "<div>\n",
       "<style scoped>\n",
       "    .dataframe tbody tr th:only-of-type {\n",
       "        vertical-align: middle;\n",
       "    }\n",
       "\n",
       "    .dataframe tbody tr th {\n",
       "        vertical-align: top;\n",
       "    }\n",
       "\n",
       "    .dataframe thead th {\n",
       "        text-align: right;\n",
       "    }\n",
       "</style>\n",
       "<table border=\"1\" class=\"dataframe\">\n",
       "  <thead>\n",
       "    <tr style=\"text-align: right;\">\n",
       "      <th></th>\n",
       "      <th>Mean MXN Price</th>\n",
       "      <th>Cunts</th>\n",
       "      <th>%</th>\n",
       "    </tr>\n",
       "    <tr>\n",
       "      <th>ENGINE</th>\n",
       "      <th></th>\n",
       "      <th></th>\n",
       "      <th></th>\n",
       "    </tr>\n",
       "  </thead>\n",
       "  <tbody>\n",
       "    <tr>\n",
       "      <th>nan</th>\n",
       "      <td>352744.306089</td>\n",
       "      <td>6328</td>\n",
       "      <td>63.508631</td>\n",
       "    </tr>\n",
       "    <tr>\n",
       "      <th>2.0</th>\n",
       "      <td>325812.689655</td>\n",
       "      <td>609</td>\n",
       "      <td>6.112003</td>\n",
       "    </tr>\n",
       "    <tr>\n",
       "      <th>1.6</th>\n",
       "      <td>182549.785703</td>\n",
       "      <td>573</td>\n",
       "      <td>5.750703</td>\n",
       "    </tr>\n",
       "    <tr>\n",
       "      <th>2.5</th>\n",
       "      <td>270076.584416</td>\n",
       "      <td>308</td>\n",
       "      <td>3.091128</td>\n",
       "    </tr>\n",
       "    <tr>\n",
       "      <th>3.5</th>\n",
       "      <td>398478.325688</td>\n",
       "      <td>218</td>\n",
       "      <td>2.187876</td>\n",
       "    </tr>\n",
       "    <tr>\n",
       "      <th>...</th>\n",
       "      <td>...</td>\n",
       "      <td>...</td>\n",
       "      <td>...</td>\n",
       "    </tr>\n",
       "    <tr>\n",
       "      <th>4 cilindros, 1.6-16V S0HC</th>\n",
       "      <td>241900.000000</td>\n",
       "      <td>1</td>\n",
       "      <td>0.010036</td>\n",
       "    </tr>\n",
       "    <tr>\n",
       "      <th>4 cilindros 1.8L</th>\n",
       "      <td>259000.000000</td>\n",
       "      <td>1</td>\n",
       "      <td>0.010036</td>\n",
       "    </tr>\n",
       "    <tr>\n",
       "      <th>2.0 LT</th>\n",
       "      <td>299500.000000</td>\n",
       "      <td>1</td>\n",
       "      <td>0.010036</td>\n",
       "    </tr>\n",
       "    <tr>\n",
       "      <th>4 cil</th>\n",
       "      <td>176500.000000</td>\n",
       "      <td>1</td>\n",
       "      <td>0.010036</td>\n",
       "    </tr>\n",
       "    <tr>\n",
       "      <th>4 CIL 2.0 TURBO 300 HP</th>\n",
       "      <td>649900.000000</td>\n",
       "      <td>1</td>\n",
       "      <td>0.010036</td>\n",
       "    </tr>\n",
       "  </tbody>\n",
       "</table>\n",
       "<p>197 rows × 3 columns</p>\n",
       "</div>"
      ],
      "text/plain": [
       "                           Mean MXN Price  Cunts          %\n",
       "ENGINE                                                     \n",
       "nan                         352744.306089   6328  63.508631\n",
       "2.0                         325812.689655    609   6.112003\n",
       "1.6                         182549.785703    573   5.750703\n",
       "2.5                         270076.584416    308   3.091128\n",
       "3.5                         398478.325688    218   2.187876\n",
       "...                                   ...    ...        ...\n",
       "4 cilindros, 1.6-16V S0HC   241900.000000      1   0.010036\n",
       "4 cilindros 1.8L            259000.000000      1   0.010036\n",
       "2.0 LT                      299500.000000      1   0.010036\n",
       "4 cil                       176500.000000      1   0.010036\n",
       "4 CIL 2.0 TURBO 300 HP      649900.000000      1   0.010036\n",
       "\n",
       "[197 rows x 3 columns]"
      ]
     },
     "execution_count": 63,
     "metadata": {},
     "output_type": "execute_result"
    }
   ],
   "source": [
    "categorical_preprocessing(cars_dataset_df,\"ENGINE\")"
   ]
  },
  {
   "cell_type": "markdown",
   "metadata": {},
   "source": [
    "## FUEL_TYPE"
   ]
  },
  {
   "cell_type": "code",
   "execution_count": 64,
   "metadata": {},
   "outputs": [
    {
     "name": "stdout",
     "output_type": "stream",
     "text": [
      "UniqueFUEL_TYPEvalues ['Gasolina' 'nan' 'Diésel' 'Eléctrico' 'Híbrido/Gasolina' 'Híbrido'\n",
      " 'Magna' 'Premium']\n"
     ]
    },
    {
     "name": "stderr",
     "output_type": "stream",
     "text": [
      "/home/sergio/miniconda3/envs/carpricepred/lib/python3.7/site-packages/pandas/core/reshape/merge.py:643: UserWarning: merging between different levels can give an unintended result (2 levels on the left,1 on the right)\n",
      "  warnings.warn(msg, UserWarning)\n"
     ]
    },
    {
     "data": {
      "text/html": [
       "<div>\n",
       "<style scoped>\n",
       "    .dataframe tbody tr th:only-of-type {\n",
       "        vertical-align: middle;\n",
       "    }\n",
       "\n",
       "    .dataframe tbody tr th {\n",
       "        vertical-align: top;\n",
       "    }\n",
       "\n",
       "    .dataframe thead th {\n",
       "        text-align: right;\n",
       "    }\n",
       "</style>\n",
       "<table border=\"1\" class=\"dataframe\">\n",
       "  <thead>\n",
       "    <tr style=\"text-align: right;\">\n",
       "      <th></th>\n",
       "      <th>Mean MXN Price</th>\n",
       "      <th>Cunts</th>\n",
       "      <th>%</th>\n",
       "    </tr>\n",
       "    <tr>\n",
       "      <th>FUEL_TYPE</th>\n",
       "      <th></th>\n",
       "      <th></th>\n",
       "      <th></th>\n",
       "    </tr>\n",
       "  </thead>\n",
       "  <tbody>\n",
       "    <tr>\n",
       "      <th>Gasolina</th>\n",
       "      <td>332425.192975</td>\n",
       "      <td>8478</td>\n",
       "      <td>85.086311</td>\n",
       "    </tr>\n",
       "    <tr>\n",
       "      <th>nan</th>\n",
       "      <td>346416.067301</td>\n",
       "      <td>1079</td>\n",
       "      <td>10.828984</td>\n",
       "    </tr>\n",
       "    <tr>\n",
       "      <th>Diésel</th>\n",
       "      <td>548499.199540</td>\n",
       "      <td>304</td>\n",
       "      <td>3.050984</td>\n",
       "    </tr>\n",
       "    <tr>\n",
       "      <th>Eléctrico</th>\n",
       "      <td>553736.465014</td>\n",
       "      <td>49</td>\n",
       "      <td>0.491770</td>\n",
       "    </tr>\n",
       "    <tr>\n",
       "      <th>Híbrido/Gasolina</th>\n",
       "      <td>665846.392857</td>\n",
       "      <td>28</td>\n",
       "      <td>0.281012</td>\n",
       "    </tr>\n",
       "    <tr>\n",
       "      <th>Híbrido</th>\n",
       "      <td>535794.631579</td>\n",
       "      <td>19</td>\n",
       "      <td>0.190686</td>\n",
       "    </tr>\n",
       "    <tr>\n",
       "      <th>Magna</th>\n",
       "      <td>507250.000000</td>\n",
       "      <td>4</td>\n",
       "      <td>0.040145</td>\n",
       "    </tr>\n",
       "    <tr>\n",
       "      <th>Premium</th>\n",
       "      <td>195079.237741</td>\n",
       "      <td>3</td>\n",
       "      <td>0.030108</td>\n",
       "    </tr>\n",
       "  </tbody>\n",
       "</table>\n",
       "</div>"
      ],
      "text/plain": [
       "                  Mean MXN Price  Cunts          %\n",
       "FUEL_TYPE                                         \n",
       "Gasolina           332425.192975   8478  85.086311\n",
       "nan                346416.067301   1079  10.828984\n",
       "Diésel             548499.199540    304   3.050984\n",
       "Eléctrico          553736.465014     49   0.491770\n",
       "Híbrido/Gasolina   665846.392857     28   0.281012\n",
       "Híbrido            535794.631579     19   0.190686\n",
       "Magna              507250.000000      4   0.040145\n",
       "Premium            195079.237741      3   0.030108"
      ]
     },
     "execution_count": 64,
     "metadata": {},
     "output_type": "execute_result"
    }
   ],
   "source": [
    "categorical_preprocessing(cars_dataset_df,\"FUEL_TYPE\")"
   ]
  },
  {
   "cell_type": "markdown",
   "metadata": {},
   "source": [
    "## KILOMETERS"
   ]
  },
  {
   "cell_type": "code",
   "execution_count": 65,
   "metadata": {},
   "outputs": [],
   "source": [
    "feature_name=\"KILOMETERS\""
   ]
  },
  {
   "cell_type": "code",
   "execution_count": 82,
   "metadata": {},
   "outputs": [],
   "source": [
    "conversion_dict_kilometers = {\"km\":1}\n",
    "\n",
    "def kilometers_conversion(raw_power,conversion_dict):\n",
    "    try:\n",
    "        value,metric = raw_power.split()\n",
    "    except:\n",
    "        return float(raw_power)\n",
    "    factor = conversion_dict[metric]\n",
    "    return float(value)*factor\n",
    "\n",
    "\n",
    "def numerical_preprocessing(dataframe,feature_name,conv_function=None,conv_dict=None):\n",
    "    \n",
    "    if conv_function!= None:\n",
    "        cars_dataset_df[feature_name] =cars_dataset_df[feature_name].astype(\"str\")\n",
    "    else:\n",
    "        cars_dataset_df[feature_name] =cars_dataset_df[feature_name].astype(\"float\")\n",
    "    #print(\"Unique \"+feature_name+\" values\",cars_dataset_df[feature_name].unique())\n",
    "    \n",
    "    if conv_function!= None:\n",
    "        dataframe[feature_name]= dataframe[feature_name].map(lambda x: conv_function(x, conv_dict))\n",
    "    else:\n",
    "        pass\n",
    "    print(\"Número de ejemplos con 'LENGTH'\",sum(~np.isnan(cars_dataset_df[feature_name])))\n",
    "    print(\"Número de ejemplos con 'NaN'\",sum(np.isnan(cars_dataset_df[feature_name])))\n",
    "    \n",
    "    return dataframe[feature_name]"
   ]
  },
  {
   "cell_type": "code",
   "execution_count": null,
   "metadata": {},
   "outputs": [],
   "source": []
  },
  {
   "cell_type": "code",
   "execution_count": 67,
   "metadata": {},
   "outputs": [
    {
     "name": "stdout",
     "output_type": "stream",
     "text": [
      "Unique KILOMETERS values ['43145 km' '78000 km' '1350 km' ... '7138 km' '97300 km' '70220 km']\n",
      "Número de ejemplos con 'LENGTH' 9430\n",
      "Número de ejemplos con 'NaN' 534\n"
     ]
    }
   ],
   "source": [
    "cars_dataset_df[feature_name] = numerical_preprocessing(cars_dataset_df,\"KILOMETERS\",kilometers_conversion,conversion_dict_kilometers)"
   ]
  },
  {
   "cell_type": "code",
   "execution_count": 68,
   "metadata": {},
   "outputs": [
    {
     "data": {
      "text/plain": [
       "<AxesSubplot:xlabel='KILOMETERS'>"
      ]
     },
     "execution_count": 68,
     "metadata": {},
     "output_type": "execute_result"
    },
    {
     "data": {
      "image/png": "[encoded data removed]",
      "text/plain": [
       "<Figure size 432x288 with 1 Axes>"
      ]
     },
     "metadata": {
      "needs_background": "light"
     },
     "output_type": "display_data"
    }
   ],
   "source": [
    "sns.distplot(cars_dataset_df[feature_name])"
   ]
  },
  {
   "cell_type": "code",
   "execution_count": 69,
   "metadata": {},
   "outputs": [
    {
     "data": {
      "image/png": "[encoded data removed]",
      "text/plain": [
       "<Figure size 360x360 with 1 Axes>"
      ]
     },
     "metadata": {
      "needs_background": "light"
     },
     "output_type": "display_data"
    }
   ],
   "source": [
    "sns.relplot(y=\"Price_MXN\", x=feature_name, data=cars_dataset_df);"
   ]
  },
  {
   "cell_type": "markdown",
   "metadata": {},
   "source": [
    "## MODEL"
   ]
  },
  {
   "cell_type": "code",
   "execution_count": 70,
   "metadata": {},
   "outputs": [
    {
     "name": "stdout",
     "output_type": "stream",
     "text": [
      "UniqueMODELvalues ['Clase E' 'Serie 2' 'Outlander' ... 'RT' 'Sportster SuperLow 883' '2']\n"
     ]
    },
    {
     "name": "stderr",
     "output_type": "stream",
     "text": [
      "/home/sergio/miniconda3/envs/carpricepred/lib/python3.7/site-packages/pandas/core/reshape/merge.py:643: UserWarning: merging between different levels can give an unintended result (2 levels on the left,1 on the right)\n",
      "  warnings.warn(msg, UserWarning)\n"
     ]
    },
    {
     "data": {
      "text/html": [
       "<div>\n",
       "<style scoped>\n",
       "    .dataframe tbody tr th:only-of-type {\n",
       "        vertical-align: middle;\n",
       "    }\n",
       "\n",
       "    .dataframe tbody tr th {\n",
       "        vertical-align: top;\n",
       "    }\n",
       "\n",
       "    .dataframe thead th {\n",
       "        text-align: right;\n",
       "    }\n",
       "</style>\n",
       "<table border=\"1\" class=\"dataframe\">\n",
       "  <thead>\n",
       "    <tr style=\"text-align: right;\">\n",
       "      <th></th>\n",
       "      <th>Mean MXN Price</th>\n",
       "      <th>Cunts</th>\n",
       "      <th>%</th>\n",
       "    </tr>\n",
       "    <tr>\n",
       "      <th>MODEL</th>\n",
       "      <th></th>\n",
       "      <th></th>\n",
       "      <th></th>\n",
       "    </tr>\n",
       "  </thead>\n",
       "  <tbody>\n",
       "    <tr>\n",
       "      <th>Jetta</th>\n",
       "      <td>241044.305556</td>\n",
       "      <td>252</td>\n",
       "      <td>2.529105</td>\n",
       "    </tr>\n",
       "    <tr>\n",
       "      <th>nan</th>\n",
       "      <td>282298.276156</td>\n",
       "      <td>239</td>\n",
       "      <td>2.398635</td>\n",
       "    </tr>\n",
       "    <tr>\n",
       "      <th>Aveo</th>\n",
       "      <td>137762.634409</td>\n",
       "      <td>186</td>\n",
       "      <td>1.866720</td>\n",
       "    </tr>\n",
       "    <tr>\n",
       "      <th>Versa</th>\n",
       "      <td>179004.778443</td>\n",
       "      <td>167</td>\n",
       "      <td>1.676034</td>\n",
       "    </tr>\n",
       "    <tr>\n",
       "      <th>Vento</th>\n",
       "      <td>174291.957143</td>\n",
       "      <td>140</td>\n",
       "      <td>1.405058</td>\n",
       "    </tr>\n",
       "    <tr>\n",
       "      <th>...</th>\n",
       "      <td>...</td>\n",
       "      <td>...</td>\n",
       "      <td>...</td>\n",
       "    </tr>\n",
       "    <tr>\n",
       "      <th>G30GP</th>\n",
       "      <td>592810.547205</td>\n",
       "      <td>1</td>\n",
       "      <td>0.010036</td>\n",
       "    </tr>\n",
       "    <tr>\n",
       "      <th>G25G-PLUS</th>\n",
       "      <td>579876.498903</td>\n",
       "      <td>1</td>\n",
       "      <td>0.010036</td>\n",
       "    </tr>\n",
       "    <tr>\n",
       "      <th>G-YA8G-XL</th>\n",
       "      <td>76999.000000</td>\n",
       "      <td>1</td>\n",
       "      <td>0.010036</td>\n",
       "    </tr>\n",
       "    <tr>\n",
       "      <th>G-YA8C-XL</th>\n",
       "      <td>71999.000000</td>\n",
       "      <td>1</td>\n",
       "      <td>0.010036</td>\n",
       "    </tr>\n",
       "    <tr>\n",
       "      <th>África Twin Adv</th>\n",
       "      <td>370000.000000</td>\n",
       "      <td>1</td>\n",
       "      <td>0.010036</td>\n",
       "    </tr>\n",
       "  </tbody>\n",
       "</table>\n",
       "<p>1514 rows × 3 columns</p>\n",
       "</div>"
      ],
      "text/plain": [
       "                 Mean MXN Price  Cunts         %\n",
       "MODEL                                           \n",
       "Jetta             241044.305556    252  2.529105\n",
       "nan               282298.276156    239  2.398635\n",
       "Aveo              137762.634409    186  1.866720\n",
       "Versa             179004.778443    167  1.676034\n",
       "Vento             174291.957143    140  1.405058\n",
       "...                         ...    ...       ...\n",
       "G30GP             592810.547205      1  0.010036\n",
       "G25G-PLUS         579876.498903      1  0.010036\n",
       "G-YA8G-XL          76999.000000      1  0.010036\n",
       "G-YA8C-XL          71999.000000      1  0.010036\n",
       "África Twin Adv   370000.000000      1  0.010036\n",
       "\n",
       "[1514 rows x 3 columns]"
      ]
     },
     "execution_count": 70,
     "metadata": {},
     "output_type": "execute_result"
    }
   ],
   "source": [
    "categorical_preprocessing(cars_dataset_df,\"MODEL\")"
   ]
  },
  {
   "cell_type": "code",
   "execution_count": 71,
   "metadata": {},
   "outputs": [
    {
     "data": {
      "text/plain": [
       "\"\\n'TRANSMISSION', 'TRIM',\\n       'VEHICLE_YEAR', 'SINGLE_OWNER', 'ENGINE_MANUFACTURER', 'MOTO_TYPE',\\n       'CYLINDERS', 'LOADING_CAPACITY', 'HOURS_OF_USE', 'FORKLIFT_TYPE',\\n       'HAS_POWER_TRIM', 'ENGINE_QUANTITY', 'BEAM', 'OPERATING_WEIGHT', 'LINE',\\n       'WEIGHT', 'DRAFT', 'INTERNAL_DIAMETER', 'MAX_POWER', 'Price_MXN'],\\n\""
      ]
     },
     "execution_count": 71,
     "metadata": {},
     "output_type": "execute_result"
    }
   ],
   "source": []
  },
  {
   "cell_type": "markdown",
   "metadata": {},
   "source": [
    "## TRANSMISSION"
   ]
  },
  {
   "cell_type": "code",
   "execution_count": 74,
   "metadata": {},
   "outputs": [
    {
     "name": "stdout",
     "output_type": "stream",
     "text": [
      "UniqueTRANSMISSIONvalues ['Automática' 'nan' 'Manual' 'Secuencial' 'Automática secuencial'\n",
      " 'Semiautomática']\n"
     ]
    },
    {
     "name": "stderr",
     "output_type": "stream",
     "text": [
      "/home/sergio/miniconda3/envs/carpricepred/lib/python3.7/site-packages/pandas/core/reshape/merge.py:643: UserWarning: merging between different levels can give an unintended result (2 levels on the left,1 on the right)\n",
      "  warnings.warn(msg, UserWarning)\n"
     ]
    },
    {
     "data": {
      "text/html": [
       "<div>\n",
       "<style scoped>\n",
       "    .dataframe tbody tr th:only-of-type {\n",
       "        vertical-align: middle;\n",
       "    }\n",
       "\n",
       "    .dataframe tbody tr th {\n",
       "        vertical-align: top;\n",
       "    }\n",
       "\n",
       "    .dataframe thead th {\n",
       "        text-align: right;\n",
       "    }\n",
       "</style>\n",
       "<table border=\"1\" class=\"dataframe\">\n",
       "  <thead>\n",
       "    <tr style=\"text-align: right;\">\n",
       "      <th></th>\n",
       "      <th>Mean MXN Price</th>\n",
       "      <th>Cunts</th>\n",
       "      <th>%</th>\n",
       "    </tr>\n",
       "    <tr>\n",
       "      <th>TRANSMISSION</th>\n",
       "      <th></th>\n",
       "      <th></th>\n",
       "      <th></th>\n",
       "    </tr>\n",
       "  </thead>\n",
       "  <tbody>\n",
       "    <tr>\n",
       "      <th>Automática</th>\n",
       "      <td>385745.857197</td>\n",
       "      <td>5341</td>\n",
       "      <td>53.602971</td>\n",
       "    </tr>\n",
       "    <tr>\n",
       "      <th>Manual</th>\n",
       "      <td>279146.852340</td>\n",
       "      <td>2746</td>\n",
       "      <td>27.559213</td>\n",
       "    </tr>\n",
       "    <tr>\n",
       "      <th>nan</th>\n",
       "      <td>308237.159053</td>\n",
       "      <td>1846</td>\n",
       "      <td>18.526696</td>\n",
       "    </tr>\n",
       "    <tr>\n",
       "      <th>Automática secuencial</th>\n",
       "      <td>694400.000000</td>\n",
       "      <td>15</td>\n",
       "      <td>0.150542</td>\n",
       "    </tr>\n",
       "    <tr>\n",
       "      <th>Semiautomática</th>\n",
       "      <td>891108.288511</td>\n",
       "      <td>11</td>\n",
       "      <td>0.110397</td>\n",
       "    </tr>\n",
       "    <tr>\n",
       "      <th>Secuencial</th>\n",
       "      <td>273746.844283</td>\n",
       "      <td>5</td>\n",
       "      <td>0.050181</td>\n",
       "    </tr>\n",
       "  </tbody>\n",
       "</table>\n",
       "</div>"
      ],
      "text/plain": [
       "                       Mean MXN Price  Cunts          %\n",
       "TRANSMISSION                                           \n",
       "Automática              385745.857197   5341  53.602971\n",
       "Manual                  279146.852340   2746  27.559213\n",
       "nan                     308237.159053   1846  18.526696\n",
       "Automática secuencial   694400.000000     15   0.150542\n",
       "Semiautomática          891108.288511     11   0.110397\n",
       "Secuencial              273746.844283      5   0.050181"
      ]
     },
     "execution_count": 74,
     "metadata": {},
     "output_type": "execute_result"
    }
   ],
   "source": [
    "categorical_preprocessing(cars_dataset_df,\"TRANSMISSION\")"
   ]
  },
  {
   "cell_type": "markdown",
   "metadata": {},
   "source": [
    "## TRIM"
   ]
  },
  {
   "cell_type": "code",
   "execution_count": 75,
   "metadata": {},
   "outputs": [
    {
     "name": "stdout",
     "output_type": "stream",
     "text": [
      "UniqueTRIMvalues ['2.0 200 Cgi Avantgarde At' '2.0 220ia Sport Line At' 'nan' ...\n",
      " '1.4 ST Style 5p Dsg' '1.4 Cool 5p At' '1.4 Urban 5p At']\n"
     ]
    },
    {
     "name": "stderr",
     "output_type": "stream",
     "text": [
      "/home/sergio/miniconda3/envs/carpricepred/lib/python3.7/site-packages/pandas/core/reshape/merge.py:643: UserWarning: merging between different levels can give an unintended result (2 levels on the left,1 on the right)\n",
      "  warnings.warn(msg, UserWarning)\n"
     ]
    },
    {
     "data": {
      "text/html": [
       "<div>\n",
       "<style scoped>\n",
       "    .dataframe tbody tr th:only-of-type {\n",
       "        vertical-align: middle;\n",
       "    }\n",
       "\n",
       "    .dataframe tbody tr th {\n",
       "        vertical-align: top;\n",
       "    }\n",
       "\n",
       "    .dataframe thead th {\n",
       "        text-align: right;\n",
       "    }\n",
       "</style>\n",
       "<table border=\"1\" class=\"dataframe\">\n",
       "  <thead>\n",
       "    <tr style=\"text-align: right;\">\n",
       "      <th></th>\n",
       "      <th>Mean MXN Price</th>\n",
       "      <th>Cunts</th>\n",
       "      <th>%</th>\n",
       "    </tr>\n",
       "    <tr>\n",
       "      <th>TRIM</th>\n",
       "      <th></th>\n",
       "      <th></th>\n",
       "      <th></th>\n",
       "    </tr>\n",
       "  </thead>\n",
       "  <tbody>\n",
       "    <tr>\n",
       "      <th>nan</th>\n",
       "      <td>334416.726443</td>\n",
       "      <td>1572</td>\n",
       "      <td>15.776796</td>\n",
       "    </tr>\n",
       "    <tr>\n",
       "      <th>1.6 Advance Mt</th>\n",
       "      <td>170379.037736</td>\n",
       "      <td>53</td>\n",
       "      <td>0.531915</td>\n",
       "    </tr>\n",
       "    <tr>\n",
       "      <th>1.6 Lt Mt</th>\n",
       "      <td>141691.176471</td>\n",
       "      <td>34</td>\n",
       "      <td>0.341228</td>\n",
       "    </tr>\n",
       "    <tr>\n",
       "      <th>1.6 Sense At</th>\n",
       "      <td>155058.344828</td>\n",
       "      <td>29</td>\n",
       "      <td>0.291048</td>\n",
       "    </tr>\n",
       "    <tr>\n",
       "      <th>1.6 Sense Mt</th>\n",
       "      <td>156928.571429</td>\n",
       "      <td>28</td>\n",
       "      <td>0.281012</td>\n",
       "    </tr>\n",
       "    <tr>\n",
       "      <th>...</th>\n",
       "      <td>...</td>\n",
       "      <td>...</td>\n",
       "      <td>...</td>\n",
       "    </tr>\n",
       "    <tr>\n",
       "      <th>3.5 Exclusive 4x4 At</th>\n",
       "      <td>340000.000000</td>\n",
       "      <td>1</td>\n",
       "      <td>0.010036</td>\n",
       "    </tr>\n",
       "    <tr>\n",
       "      <th>3.5 Exl Mt</th>\n",
       "      <td>185000.000000</td>\n",
       "      <td>1</td>\n",
       "      <td>0.010036</td>\n",
       "    </tr>\n",
       "    <tr>\n",
       "      <th>3.5 Exl Sedan V6 At</th>\n",
       "      <td>215000.000000</td>\n",
       "      <td>1</td>\n",
       "      <td>0.010036</td>\n",
       "    </tr>\n",
       "    <tr>\n",
       "      <th>3.5 Exl Sedán V6 At</th>\n",
       "      <td>268500.000000</td>\n",
       "      <td>1</td>\n",
       "      <td>0.010036</td>\n",
       "    </tr>\n",
       "    <tr>\n",
       "      <th>xL</th>\n",
       "      <td>78000.000000</td>\n",
       "      <td>1</td>\n",
       "      <td>0.010036</td>\n",
       "    </tr>\n",
       "  </tbody>\n",
       "</table>\n",
       "<p>3951 rows × 3 columns</p>\n",
       "</div>"
      ],
      "text/plain": [
       "                      Mean MXN Price  Cunts          %\n",
       "TRIM                                                  \n",
       "nan                    334416.726443   1572  15.776796\n",
       "1.6 Advance Mt         170379.037736     53   0.531915\n",
       "1.6 Lt Mt              141691.176471     34   0.341228\n",
       "1.6 Sense At           155058.344828     29   0.291048\n",
       "1.6 Sense Mt           156928.571429     28   0.281012\n",
       "...                              ...    ...        ...\n",
       "3.5 Exclusive 4x4 At   340000.000000      1   0.010036\n",
       "3.5 Exl Mt             185000.000000      1   0.010036\n",
       "3.5 Exl Sedan V6 At    215000.000000      1   0.010036\n",
       "3.5 Exl Sedán V6 At    268500.000000      1   0.010036\n",
       "xL                      78000.000000      1   0.010036\n",
       "\n",
       "[3951 rows x 3 columns]"
      ]
     },
     "execution_count": 75,
     "metadata": {},
     "output_type": "execute_result"
    }
   ],
   "source": [
    "categorical_preprocessing(cars_dataset_df,\"TRIM\")"
   ]
  },
  {
   "cell_type": "markdown",
   "metadata": {},
   "source": [
    "## VEHICLE_YEAR"
   ]
  },
  {
   "cell_type": "code",
   "execution_count": 83,
   "metadata": {},
   "outputs": [
    {
     "name": "stdout",
     "output_type": "stream",
     "text": [
      "Número de ejemplos con 'LENGTH' 9962\n",
      "Número de ejemplos con 'NaN' 2\n"
     ]
    },
    {
     "data": {
      "text/plain": [
       "MLM805152052    2016.0\n",
       "MLM804194237    2016.0\n",
       "MLM810635258    2018.0\n",
       "MLM805511847    2008.0\n",
       "MLM796882323    2016.0\n",
       "                 ...  \n",
       "MLM812412908    2016.0\n",
       "MLM812404163    2018.0\n",
       "MLM812399606    2017.0\n",
       "MLM812395158    2012.0\n",
       "MLM812354996    2015.0\n",
       "Name: VEHICLE_YEAR, Length: 9964, dtype: float64"
      ]
     },
     "execution_count": 83,
     "metadata": {},
     "output_type": "execute_result"
    }
   ],
   "source": [
    "feature_name = \"VEHICLE_YEAR\"\n",
    "numerical_preprocessing(cars_dataset_df,feature_name)"
   ]
  },
  {
   "cell_type": "code",
   "execution_count": 84,
   "metadata": {},
   "outputs": [
    {
     "data": {
      "image/png": "[encoded data removed]",
      "text/plain": [
       "<Figure size 360x360 with 1 Axes>"
      ]
     },
     "metadata": {
      "needs_background": "light"
     },
     "output_type": "display_data"
    }
   ],
   "source": [
    "sns.relplot(y=\"Price_MXN\", x=feature_name, data=cars_dataset_df);"
   ]
  },
  {
   "cell_type": "markdown",
   "metadata": {},
   "source": [
    "## SINGLE_OWNER"
   ]
  },
  {
   "cell_type": "code",
   "execution_count": 86,
   "metadata": {},
   "outputs": [
    {
     "name": "stdout",
     "output_type": "stream",
     "text": [
      "UniqueSINGLE_OWNERvalues ['nan' 'No' 'Sí']\n"
     ]
    },
    {
     "name": "stderr",
     "output_type": "stream",
     "text": [
      "/home/sergio/miniconda3/envs/carpricepred/lib/python3.7/site-packages/pandas/core/reshape/merge.py:643: UserWarning: merging between different levels can give an unintended result (2 levels on the left,1 on the right)\n",
      "  warnings.warn(msg, UserWarning)\n"
     ]
    },
    {
     "data": {
      "text/html": [
       "<div>\n",
       "<style scoped>\n",
       "    .dataframe tbody tr th:only-of-type {\n",
       "        vertical-align: middle;\n",
       "    }\n",
       "\n",
       "    .dataframe tbody tr th {\n",
       "        vertical-align: top;\n",
       "    }\n",
       "\n",
       "    .dataframe thead th {\n",
       "        text-align: right;\n",
       "    }\n",
       "</style>\n",
       "<table border=\"1\" class=\"dataframe\">\n",
       "  <thead>\n",
       "    <tr style=\"text-align: right;\">\n",
       "      <th></th>\n",
       "      <th>Mean MXN Price</th>\n",
       "      <th>Cunts</th>\n",
       "      <th>%</th>\n",
       "    </tr>\n",
       "    <tr>\n",
       "      <th>SINGLE_OWNER</th>\n",
       "      <th></th>\n",
       "      <th></th>\n",
       "      <th></th>\n",
       "    </tr>\n",
       "  </thead>\n",
       "  <tbody>\n",
       "    <tr>\n",
       "      <th>nan</th>\n",
       "      <td>341596.178818</td>\n",
       "      <td>8256</td>\n",
       "      <td>82.858290</td>\n",
       "    </tr>\n",
       "    <tr>\n",
       "      <th>No</th>\n",
       "      <td>333402.827528</td>\n",
       "      <td>1091</td>\n",
       "      <td>10.949418</td>\n",
       "    </tr>\n",
       "    <tr>\n",
       "      <th>Sí</th>\n",
       "      <td>378343.701249</td>\n",
       "      <td>617</td>\n",
       "      <td>6.192292</td>\n",
       "    </tr>\n",
       "  </tbody>\n",
       "</table>\n",
       "</div>"
      ],
      "text/plain": [
       "              Mean MXN Price  Cunts          %\n",
       "SINGLE_OWNER                                  \n",
       "nan            341596.178818   8256  82.858290\n",
       "No             333402.827528   1091  10.949418\n",
       "Sí             378343.701249    617   6.192292"
      ]
     },
     "execution_count": 86,
     "metadata": {},
     "output_type": "execute_result"
    }
   ],
   "source": [
    "categorical_preprocessing(cars_dataset_df,\"SINGLE_OWNER\")"
   ]
  },
  {
   "cell_type": "markdown",
   "metadata": {},
   "source": [
    "## ENGINE_MANUFACTURER"
   ]
  },
  {
   "cell_type": "code",
   "execution_count": 89,
   "metadata": {},
   "outputs": [
    {
     "name": "stdout",
     "output_type": "stream",
     "text": [
      "UniqueENGINE_MANUFACTURERvalues ['nan' 'can -am' '.' 'BMW' 'BMW 400' 'Italika' 'BMW 1200' 'PIAGGIO'\n",
      " 'HARLEY DAVIDSON' 'TVS' 'bajaj' 'MAn' 'Muevetec' 'DAZON 2019 CAJA GRANDE'\n",
      " 'TVS KIN DE LUX' 'BAJAJ' 'Keeway'\n",
      " 'POLARIS RAZER RZR 1000 XP 2015  SIMPLEMENTE ESTA NUEVO' 'POLARIS'\n",
      " 'DAZON' 'KAWASAKI TVS DURALIFE' 'VENTO' 'Honda' 'MOTO AVANZADA'\n",
      " 'vento aventura' 'MUEVETEC' 'dazon' 'Yamaha bolt' 'AVANZADA' 'MITSUBICHI'\n",
      " 'Yamaha' 'Harley Davidson' 'DAZON 200 REFRIGERADO' 'SHIFENG' '-'\n",
      " 'JUNGHEINRICH' 'Suzuki' 'CUMMINS' 'TVS king de lux' 'indian' 'ELECTRICO'\n",
      " 'cummins' 'DOOSAN' 'KIMTEC' 'euro 4'\n",
      " '4 tiempos, Enfriado por Aire TECNOLOGÍA Bi2 TYPE ®' 'harley Davidson'\n",
      " 'Mitsubishi' 'NISSAN' 'Can Am' 'screaming eagle' 'KINGWAY' 'sunl'\n",
      " 'Volkswagen' 'Harley davidson' 'Hecho en mexico' 'Navistar DT466' 'Bajaj'\n",
      " 'Kandi Motor Group' 'Royal Enfield' 'CAN- AM' 'DUCATI' 'Cummins' 'Ducati'\n",
      " 'Detroit DD15' 'Japan' 'Vento' 'Yanmar' 'cummins isx 450' 'ROTAX'\n",
      " 'kawasaki' 'HONDA 1000' 'Kawasaki' 'CUMMINS ISX' '4HK1-TCN'\n",
      " 'BMW Enduro G 450 X' 'QSMOTO' 'Johnson' 'Paccar MX' 'Boxer' 'Cummins ISX'\n",
      " 'Bmw' 'NAVISTAR 200HP' 'MN347390' 'Ktm' 'KTM' 'V twin' 'KAWASAKI'\n",
      " 'navistar de 230 hp' 'cummins ide 325 hp' 'lifan' 'paccar px6' 'INDIAN'\n",
      " 'MERCEDES BENZ' 'keeway' 'Triumph' 'polaris' 'Detroit Diesel' 'bmw'\n",
      " 'Cumins ISX' 'isuzu' 'Milwaukee Eight' 'PACCAR' 'TRIUMPH'\n",
      " 'navistar maxxforce' 'LIFAN' 'NAVISTAR' 'agusta' 'MAXX FORCE'\n",
      " 'POLARIS RZR' 'Vortec 6 cil.' 'Cummins 400' 'BENELLI' 'NISSAN K25'\n",
      " 'SIZUKI' 'VOLVO' 'harley davidson' 'ducati' 'triumph' 'Benelli'\n",
      " 'Mercedes Benz' 'MERCEDES' 'ural' 'MOTO GUZZI TRIUMPH' 'VOLVO D13'\n",
      " 'Polaris' 'Hd' 'Paccar' 'Citycoco' 'Prostar' 'Vespa' 'YALE' 'HD'\n",
      " 'PACCAR PX-6' 'CAT C12' 'LT-F250 CC 4 tiempos' 'Mack MP8' 'Rotax'\n",
      " 'CUMMINS ISX 15' 'PERKINS' 'can am' 'MAXXFORCE' 'bóxer' 'k1000 rt' 'hino'\n",
      " 'Maxxforce DT466' 'Bicilíndrico' 'caterpillar' 'ISUZU']\n"
     ]
    },
    {
     "name": "stderr",
     "output_type": "stream",
     "text": [
      "/home/sergio/miniconda3/envs/carpricepred/lib/python3.7/site-packages/pandas/core/reshape/merge.py:643: UserWarning: merging between different levels can give an unintended result (2 levels on the left,1 on the right)\n",
      "  warnings.warn(msg, UserWarning)\n"
     ]
    },
    {
     "data": {
      "text/html": [
       "<div>\n",
       "<style scoped>\n",
       "    .dataframe tbody tr th:only-of-type {\n",
       "        vertical-align: middle;\n",
       "    }\n",
       "\n",
       "    .dataframe tbody tr th {\n",
       "        vertical-align: top;\n",
       "    }\n",
       "\n",
       "    .dataframe thead th {\n",
       "        text-align: right;\n",
       "    }\n",
       "</style>\n",
       "<table border=\"1\" class=\"dataframe\">\n",
       "  <thead>\n",
       "    <tr style=\"text-align: right;\">\n",
       "      <th></th>\n",
       "      <th>Mean MXN Price</th>\n",
       "      <th>Cunts</th>\n",
       "      <th>%</th>\n",
       "    </tr>\n",
       "    <tr>\n",
       "      <th>ENGINE_MANUFACTURER</th>\n",
       "      <th></th>\n",
       "      <th></th>\n",
       "      <th></th>\n",
       "    </tr>\n",
       "  </thead>\n",
       "  <tbody>\n",
       "    <tr>\n",
       "      <th>nan</th>\n",
       "      <td>346950.323388</td>\n",
       "      <td>9602</td>\n",
       "      <td>96.366921</td>\n",
       "    </tr>\n",
       "    <tr>\n",
       "      <th>Yamaha</th>\n",
       "      <td>224143.888889</td>\n",
       "      <td>27</td>\n",
       "      <td>0.270976</td>\n",
       "    </tr>\n",
       "    <tr>\n",
       "      <th>Honda</th>\n",
       "      <td>83038.518519</td>\n",
       "      <td>27</td>\n",
       "      <td>0.270976</td>\n",
       "    </tr>\n",
       "    <tr>\n",
       "      <th>BMW</th>\n",
       "      <td>204116.000000</td>\n",
       "      <td>25</td>\n",
       "      <td>0.250903</td>\n",
       "    </tr>\n",
       "    <tr>\n",
       "      <th>Suzuki</th>\n",
       "      <td>95326.533333</td>\n",
       "      <td>15</td>\n",
       "      <td>0.150542</td>\n",
       "    </tr>\n",
       "    <tr>\n",
       "      <th>...</th>\n",
       "      <td>...</td>\n",
       "      <td>...</td>\n",
       "      <td>...</td>\n",
       "    </tr>\n",
       "    <tr>\n",
       "      <th>LT-F250 CC 4 tiempos</th>\n",
       "      <td>45000.000000</td>\n",
       "      <td>1</td>\n",
       "      <td>0.010036</td>\n",
       "    </tr>\n",
       "    <tr>\n",
       "      <th>LIFAN</th>\n",
       "      <td>5900.000000</td>\n",
       "      <td>1</td>\n",
       "      <td>0.010036</td>\n",
       "    </tr>\n",
       "    <tr>\n",
       "      <th>Ktm</th>\n",
       "      <td>88500.000000</td>\n",
       "      <td>1</td>\n",
       "      <td>0.010036</td>\n",
       "    </tr>\n",
       "    <tr>\n",
       "      <th>Keeway</th>\n",
       "      <td>37500.000000</td>\n",
       "      <td>1</td>\n",
       "      <td>0.010036</td>\n",
       "    </tr>\n",
       "    <tr>\n",
       "      <th>Milwaukee Eight</th>\n",
       "      <td>399000.000000</td>\n",
       "      <td>1</td>\n",
       "      <td>0.010036</td>\n",
       "    </tr>\n",
       "  </tbody>\n",
       "</table>\n",
       "<p>149 rows × 3 columns</p>\n",
       "</div>"
      ],
      "text/plain": [
       "                      Mean MXN Price  Cunts          %\n",
       "ENGINE_MANUFACTURER                                   \n",
       "nan                    346950.323388   9602  96.366921\n",
       "Yamaha                 224143.888889     27   0.270976\n",
       "Honda                   83038.518519     27   0.270976\n",
       "BMW                    204116.000000     25   0.250903\n",
       "Suzuki                  95326.533333     15   0.150542\n",
       "...                              ...    ...        ...\n",
       "LT-F250 CC 4 tiempos    45000.000000      1   0.010036\n",
       "LIFAN                    5900.000000      1   0.010036\n",
       "Ktm                     88500.000000      1   0.010036\n",
       "Keeway                  37500.000000      1   0.010036\n",
       "Milwaukee Eight        399000.000000      1   0.010036\n",
       "\n",
       "[149 rows x 3 columns]"
      ]
     },
     "execution_count": 89,
     "metadata": {},
     "output_type": "execute_result"
    }
   ],
   "source": [
    "categorical_preprocessing(cars_dataset_df,\"ENGINE_MANUFACTURER\")"
   ]
  },
  {
   "cell_type": "markdown",
   "metadata": {},
   "source": [
    "## MOTO_TYPE"
   ]
  },
  {
   "cell_type": "code",
   "execution_count": 90,
   "metadata": {},
   "outputs": [
    {
     "name": "stdout",
     "output_type": "stream",
     "text": [
      "UniqueMOTO_TYPEvalues ['nan' 'Cuatrimotos' 'Chopper' 'Bmw' '.' 'Doble propósito' 'Scooters'\n",
      " 'Cuatrimoto' 'Deportivas' 'Motocarros' 'Crucero' 'Scooter' 'Scrambler'\n",
      " 'Mini Motos' 'Goldwing 1500' 'Naked' 'Cafe Racer' 'Ninja' 'Custom'\n",
      " 'Tracker' 'Shopper' 'Yamaha bolt' 'Vespa' 'Cross' 'MONETA' 'Sport'\n",
      " 'ITALIKA WS 150 SPORT  2020' 'harley Sposter súper Low 883'\n",
      " 'Sposter Harley Davidson 883' 'MOTONETA' 'Motocross' 'URBANA'\n",
      " 'KTM RC 390 2020' 'Choper' 'Motoneta italika g125' 'Naket' 'Turismo'\n",
      " 'Touring' 'Enduro' 'BMW 310 GS 2019' 'MULTI-PROPOSITO' 'motocicleta'\n",
      " 'CAFE RACE' 'Pista' 'Motocroos' 'Cuatrimotos ATV'\n",
      " 'Moto Scooter eléctrico' 'Moto BMW tipo ADV, 800cc.'\n",
      " 'CAN AM DEFENDER MAX XT HD10' 'Slingshot 3 Ruedas' 'Suzuki'\n",
      " 'Moto estandar' 'Deportiva' 'Yamaha ybr 125cc' 'BMW'\n",
      " 'Enduro BMW G450X offroad/calle' 'Fat-Boy' 'standar' 'Crossover'\n",
      " 'Trabajo' 'Street' 'HARLEY DAVIDSON' 'M50' 'ULTRA ELECTRA GLIDE LIMITED'\n",
      " 'honda cbr 1000 rr 2011' 'Sport touring' 'CBR 600 F2' 'Chopoer'\n",
      " 'SPYDER LIMITED' '4 tiempos' 'SCOTTER' 'TRIGLIDE' 'Ducati Supersport'\n",
      " 'gs' 'Suzuki boulevard' 'Clasica moderna' 'Harley davison' 'Rzr'\n",
      " 'Off Road' 'KTM 790' 'softail' 'HARLEY DAVIDSON  FORTY EIGHT'\n",
      " 'Multifuncional' 'mv agusta rivale 800cc' 'RZR' 'GS 310'\n",
      " 'BMW SCRAMBLER SPECIAL' 'YW125XCG' 'pista' 'viajera'\n",
      " 'STREET 750cc. chooper' 'Honda crf230 enduro 2020' 'Kawasaki zx6r 2010'\n",
      " 'STREET GLIDE. HARLEY DAVIDSON' 'Moto proyecto 750 cc Yamaha' 'Calle'\n",
      " 'cuatrimoto motor 800' 'rzr ace 570' 'BMW G 310 R 2017' 'YzfR1'\n",
      " 'Triciclos' 'Gl 150' 'MOTO GUZZI V7' 'k1300s' 'CUATRIMOTO' 'scooter'\n",
      " 'Crosstourer' 'citycoco' 'Chooper' 'SEMIAUTOMATICA' 'DEPORTIVA'\n",
      " 'R 1150 Gs' 'Motoneta' 'Harley-Davidson' 'URBAN SPORT'\n",
      " 'Cuatrimoto Suzuki Ozark 250 CC' 'Ns 200' '900cc' 'BMW GS 700'\n",
      " 'Bajaj trabajo' 'tri moto' 'Bmw R nineT' 'Ducati' 'CAFÉ RACER'\n",
      " 'Harley Davidson' '200cc']\n"
     ]
    },
    {
     "name": "stderr",
     "output_type": "stream",
     "text": [
      "/home/sergio/miniconda3/envs/carpricepred/lib/python3.7/site-packages/pandas/core/reshape/merge.py:643: UserWarning: merging between different levels can give an unintended result (2 levels on the left,1 on the right)\n",
      "  warnings.warn(msg, UserWarning)\n"
     ]
    },
    {
     "data": {
      "text/html": [
       "<div>\n",
       "<style scoped>\n",
       "    .dataframe tbody tr th:only-of-type {\n",
       "        vertical-align: middle;\n",
       "    }\n",
       "\n",
       "    .dataframe tbody tr th {\n",
       "        vertical-align: top;\n",
       "    }\n",
       "\n",
       "    .dataframe thead th {\n",
       "        text-align: right;\n",
       "    }\n",
       "</style>\n",
       "<table border=\"1\" class=\"dataframe\">\n",
       "  <thead>\n",
       "    <tr style=\"text-align: right;\">\n",
       "      <th></th>\n",
       "      <th>Mean MXN Price</th>\n",
       "      <th>Cunts</th>\n",
       "      <th>%</th>\n",
       "    </tr>\n",
       "    <tr>\n",
       "      <th>MOTO_TYPE</th>\n",
       "      <th></th>\n",
       "      <th></th>\n",
       "      <th></th>\n",
       "    </tr>\n",
       "  </thead>\n",
       "  <tbody>\n",
       "    <tr>\n",
       "      <th>nan</th>\n",
       "      <td>356758.984619</td>\n",
       "      <td>9357</td>\n",
       "      <td>93.908069</td>\n",
       "    </tr>\n",
       "    <tr>\n",
       "      <th>Chopper</th>\n",
       "      <td>154359.265523</td>\n",
       "      <td>108</td>\n",
       "      <td>1.083902</td>\n",
       "    </tr>\n",
       "    <tr>\n",
       "      <th>Doble propósito</th>\n",
       "      <td>174433.894366</td>\n",
       "      <td>71</td>\n",
       "      <td>0.712565</td>\n",
       "    </tr>\n",
       "    <tr>\n",
       "      <th>Motocarros</th>\n",
       "      <td>52399.575758</td>\n",
       "      <td>66</td>\n",
       "      <td>0.662385</td>\n",
       "    </tr>\n",
       "    <tr>\n",
       "      <th>Deportivas</th>\n",
       "      <td>131026.769231</td>\n",
       "      <td>65</td>\n",
       "      <td>0.652348</td>\n",
       "    </tr>\n",
       "    <tr>\n",
       "      <th>...</th>\n",
       "      <td>...</td>\n",
       "      <td>...</td>\n",
       "      <td>...</td>\n",
       "    </tr>\n",
       "    <tr>\n",
       "      <th>Harley davison</th>\n",
       "      <td>420000.000000</td>\n",
       "      <td>1</td>\n",
       "      <td>0.010036</td>\n",
       "    </tr>\n",
       "    <tr>\n",
       "      <th>Harley Davidson</th>\n",
       "      <td>130000.000000</td>\n",
       "      <td>1</td>\n",
       "      <td>0.010036</td>\n",
       "    </tr>\n",
       "    <tr>\n",
       "      <th>HARLEY DAVIDSON  FORTY EIGHT</th>\n",
       "      <td>180000.000000</td>\n",
       "      <td>1</td>\n",
       "      <td>0.010036</td>\n",
       "    </tr>\n",
       "    <tr>\n",
       "      <th>Goldwing 1500</th>\n",
       "      <td>89000.000000</td>\n",
       "      <td>1</td>\n",
       "      <td>0.010036</td>\n",
       "    </tr>\n",
       "    <tr>\n",
       "      <th>viajera</th>\n",
       "      <td>75000.000000</td>\n",
       "      <td>1</td>\n",
       "      <td>0.010036</td>\n",
       "    </tr>\n",
       "  </tbody>\n",
       "</table>\n",
       "<p>126 rows × 3 columns</p>\n",
       "</div>"
      ],
      "text/plain": [
       "                              Mean MXN Price  Cunts          %\n",
       "MOTO_TYPE                                                     \n",
       "nan                            356758.984619   9357  93.908069\n",
       "Chopper                        154359.265523    108   1.083902\n",
       "Doble propósito                174433.894366     71   0.712565\n",
       "Motocarros                      52399.575758     66   0.662385\n",
       "Deportivas                     131026.769231     65   0.652348\n",
       "...                                      ...    ...        ...\n",
       "Harley davison                 420000.000000      1   0.010036\n",
       "Harley Davidson                130000.000000      1   0.010036\n",
       "HARLEY DAVIDSON  FORTY EIGHT   180000.000000      1   0.010036\n",
       "Goldwing 1500                   89000.000000      1   0.010036\n",
       "viajera                         75000.000000      1   0.010036\n",
       "\n",
       "[126 rows x 3 columns]"
      ]
     },
     "execution_count": 90,
     "metadata": {},
     "output_type": "execute_result"
    }
   ],
   "source": [
    "categorical_preprocessing(cars_dataset_df,\"MOTO_TYPE\")"
   ]
  },
  {
   "cell_type": "code",
   "execution_count": 91,
   "metadata": {},
   "outputs": [],
   "source": [
    "## CYLINDERS"
   ]
  },
  {
   "cell_type": "code",
   "execution_count": 92,
   "metadata": {},
   "outputs": [
    {
     "name": "stdout",
     "output_type": "stream",
     "text": [
      "UniqueCYLINDERSvalues ['nan' '4.0']\n"
     ]
    },
    {
     "name": "stderr",
     "output_type": "stream",
     "text": [
      "/home/sergio/miniconda3/envs/carpricepred/lib/python3.7/site-packages/pandas/core/reshape/merge.py:643: UserWarning: merging between different levels can give an unintended result (2 levels on the left,1 on the right)\n",
      "  warnings.warn(msg, UserWarning)\n"
     ]
    },
    {
     "data": {
      "text/html": [
       "<div>\n",
       "<style scoped>\n",
       "    .dataframe tbody tr th:only-of-type {\n",
       "        vertical-align: middle;\n",
       "    }\n",
       "\n",
       "    .dataframe tbody tr th {\n",
       "        vertical-align: top;\n",
       "    }\n",
       "\n",
       "    .dataframe thead th {\n",
       "        text-align: right;\n",
       "    }\n",
       "</style>\n",
       "<table border=\"1\" class=\"dataframe\">\n",
       "  <thead>\n",
       "    <tr style=\"text-align: right;\">\n",
       "      <th></th>\n",
       "      <th>Mean MXN Price</th>\n",
       "      <th>Cunts</th>\n",
       "      <th>%</th>\n",
       "    </tr>\n",
       "    <tr>\n",
       "      <th>CYLINDERS</th>\n",
       "      <th></th>\n",
       "      <th></th>\n",
       "      <th></th>\n",
       "    </tr>\n",
       "  </thead>\n",
       "  <tbody>\n",
       "    <tr>\n",
       "      <th>nan</th>\n",
       "      <td>343555.103357</td>\n",
       "      <td>9925</td>\n",
       "      <td>99.608591</td>\n",
       "    </tr>\n",
       "    <tr>\n",
       "      <th>4.0</th>\n",
       "      <td>195235.897436</td>\n",
       "      <td>39</td>\n",
       "      <td>0.391409</td>\n",
       "    </tr>\n",
       "  </tbody>\n",
       "</table>\n",
       "</div>"
      ],
      "text/plain": [
       "           Mean MXN Price  Cunts          %\n",
       "CYLINDERS                                  \n",
       "nan         343555.103357   9925  99.608591\n",
       "4.0         195235.897436     39   0.391409"
      ]
     },
     "execution_count": 92,
     "metadata": {},
     "output_type": "execute_result"
    }
   ],
   "source": [
    "categorical_preprocessing(cars_dataset_df,\"CYLINDERS\")"
   ]
  },
  {
   "cell_type": "code",
   "execution_count": 93,
   "metadata": {},
   "outputs": [
    {
     "data": {
      "text/plain": [
       "\"\\n'TRANSMISSION', 'TRIM',\\n       'VEHICLE_YEAR', 'SINGLE_OWNER', 'ENGINE_MANUFACTURER', 'MOTO_TYPE',\\n       'CYLINDERS', 'LOADING_CAPACITY', 'HOURS_OF_USE', 'FORKLIFT_TYPE',\\n       'HAS_POWER_TRIM', 'ENGINE_QUANTITY', 'BEAM', 'OPERATING_WEIGHT', 'LINE',\\n       'WEIGHT', 'DRAFT', 'INTERNAL_DIAMETER', 'MAX_POWER', 'Price_MXN'],\\n\""
      ]
     },
     "execution_count": 93,
     "metadata": {},
     "output_type": "execute_result"
    }
   ],
   "source": []
  },
  {
   "cell_type": "code",
   "execution_count": 94,
   "metadata": {},
   "outputs": [],
   "source": [
    "## LOADING_CAPACITY"
   ]
  },
  {
   "cell_type": "code",
   "execution_count": 107,
   "metadata": {},
   "outputs": [],
   "source": [
    "feature_name=\"LOADING_CAPACITY\""
   ]
  },
  {
   "cell_type": "code",
   "execution_count": 108,
   "metadata": {},
   "outputs": [
    {
     "name": "stdout",
     "output_type": "stream",
     "text": [
      "Número de ejemplos con 'LENGTH' 70\n",
      "Número de ejemplos con 'NaN' 9894\n"
     ]
    }
   ],
   "source": [
    "weight_conversion_dict = {\"kg\":1,\"t\":1000,\"lb\":1/2.20462}\n",
    "\n",
    "def weights_conversion(raw_power,conversion_dict):\n",
    "    try:\n",
    "        value,metric = raw_power.split()\n",
    "    except:\n",
    "        return float(raw_power)\n",
    "    factor = conversion_dict[metric]\n",
    "    return float(value)*factor\n",
    "\n",
    "cars_dataset_df[\"LOADING_CAPACITY\"]=numerical_preprocessing(cars_dataset_df,\"LOADING_CAPACITY\",weights_conversion,weight_conversion_dict)"
   ]
  },
  {
   "cell_type": "code",
   "execution_count": 109,
   "metadata": {},
   "outputs": [
    {
     "data": {
      "image/png": "[encoded data removed]",
      "text/plain": [
       "<Figure size 360x360 with 1 Axes>"
      ]
     },
     "metadata": {
      "needs_background": "light"
     },
     "output_type": "display_data"
    }
   ],
   "source": [
    "sns.relplot(y=\"Price_MXN\", x=feature_name, data=cars_dataset_df);"
   ]
  },
  {
   "cell_type": "markdown",
   "metadata": {},
   "source": [
    "## HOURS_OF_USE"
   ]
  },
  {
   "cell_type": "code",
   "execution_count": 114,
   "metadata": {},
   "outputs": [],
   "source": [
    "feature_name=\"HOURS_OF_USE\""
   ]
  },
  {
   "cell_type": "code",
   "execution_count": 115,
   "metadata": {},
   "outputs": [
    {
     "name": "stdout",
     "output_type": "stream",
     "text": [
      "Número de ejemplos con 'LENGTH' 19\n",
      "Número de ejemplos con 'NaN' 9945\n"
     ]
    }
   ],
   "source": [
    "time_conversion_dict = {\"h\":1,\"días\":24,\"meses\":730}\n",
    "\n",
    "def time_conversion(raw_power,conversion_dict):\n",
    "    try:\n",
    "        value,metric = raw_power.split()\n",
    "    except:\n",
    "        return float(raw_power)\n",
    "    factor = conversion_dict[metric]\n",
    "    return float(value)*factor\n",
    "\n",
    "\n",
    "cars_dataset_df[\"HOURS_OF_USE\"]=numerical_preprocessing(cars_dataset_df,\"HOURS_OF_USE\",time_conversion,time_conversion_dict)"
   ]
  },
  {
   "cell_type": "code",
   "execution_count": 116,
   "metadata": {},
   "outputs": [
    {
     "data": {
      "image/png": "[encoded data removed]",
      "text/plain": [
       "<Figure size 360x360 with 1 Axes>"
      ]
     },
     "metadata": {
      "needs_background": "light"
     },
     "output_type": "display_data"
    }
   ],
   "source": [
    "sns.relplot(y=\"Price_MXN\", x=feature_name, data=cars_dataset_df);"
   ]
  },
  {
   "cell_type": "markdown",
   "metadata": {},
   "source": [
    "## FORKLIFT_TYPE"
   ]
  },
  {
   "cell_type": "code",
   "execution_count": 118,
   "metadata": {},
   "outputs": [
    {
     "name": "stdout",
     "output_type": "stream",
     "text": [
      "UniqueFORKLIFT_TYPEvalues ['nan' 'Montacarga' 'Minicargadora']\n"
     ]
    },
    {
     "name": "stderr",
     "output_type": "stream",
     "text": [
      "/home/sergio/miniconda3/envs/carpricepred/lib/python3.7/site-packages/pandas/core/reshape/merge.py:643: UserWarning: merging between different levels can give an unintended result (2 levels on the left,1 on the right)\n",
      "  warnings.warn(msg, UserWarning)\n"
     ]
    },
    {
     "data": {
      "text/html": [
       "<div>\n",
       "<style scoped>\n",
       "    .dataframe tbody tr th:only-of-type {\n",
       "        vertical-align: middle;\n",
       "    }\n",
       "\n",
       "    .dataframe tbody tr th {\n",
       "        vertical-align: top;\n",
       "    }\n",
       "\n",
       "    .dataframe thead th {\n",
       "        text-align: right;\n",
       "    }\n",
       "</style>\n",
       "<table border=\"1\" class=\"dataframe\">\n",
       "  <thead>\n",
       "    <tr style=\"text-align: right;\">\n",
       "      <th></th>\n",
       "      <th>Mean MXN Price</th>\n",
       "      <th>Cunts</th>\n",
       "      <th>%</th>\n",
       "    </tr>\n",
       "    <tr>\n",
       "      <th>FORKLIFT_TYPE</th>\n",
       "      <th></th>\n",
       "      <th></th>\n",
       "      <th></th>\n",
       "    </tr>\n",
       "  </thead>\n",
       "  <tbody>\n",
       "    <tr>\n",
       "      <th>nan</th>\n",
       "      <td>342680.261002</td>\n",
       "      <td>9949</td>\n",
       "      <td>99.849458</td>\n",
       "    </tr>\n",
       "    <tr>\n",
       "      <th>Montacarga</th>\n",
       "      <td>562691.722260</td>\n",
       "      <td>14</td>\n",
       "      <td>0.140506</td>\n",
       "    </tr>\n",
       "    <tr>\n",
       "      <th>Minicargadora</th>\n",
       "      <td>195000.000000</td>\n",
       "      <td>1</td>\n",
       "      <td>0.010036</td>\n",
       "    </tr>\n",
       "  </tbody>\n",
       "</table>\n",
       "</div>"
      ],
      "text/plain": [
       "               Mean MXN Price  Cunts          %\n",
       "FORKLIFT_TYPE                                  \n",
       "nan             342680.261002   9949  99.849458\n",
       "Montacarga      562691.722260     14   0.140506\n",
       "Minicargadora   195000.000000      1   0.010036"
      ]
     },
     "execution_count": 118,
     "metadata": {},
     "output_type": "execute_result"
    }
   ],
   "source": [
    "feature_name = \"FORKLIFT_TYPE\"\n",
    "categorical_preprocessing(cars_dataset_df,feature_name)"
   ]
  },
  {
   "cell_type": "code",
   "execution_count": 119,
   "metadata": {},
   "outputs": [
    {
     "data": {
      "image/png": "[encoded data removed]",
      "text/plain": [
       "<Figure size 360x360 with 1 Axes>"
      ]
     },
     "metadata": {
      "needs_background": "light"
     },
     "output_type": "display_data"
    }
   ],
   "source": [
    "sns.relplot(y=\"Price_MXN\", x=feature_name, data=cars_dataset_df);"
   ]
  },
  {
   "cell_type": "markdown",
   "metadata": {},
   "source": [
    "## HAS_POWER_TRIM"
   ]
  },
  {
   "cell_type": "code",
   "execution_count": 120,
   "metadata": {},
   "outputs": [
    {
     "name": "stdout",
     "output_type": "stream",
     "text": [
      "UniqueHAS_POWER_TRIMvalues ['nan' 'Sí' 'No']\n"
     ]
    },
    {
     "name": "stderr",
     "output_type": "stream",
     "text": [
      "/home/sergio/miniconda3/envs/carpricepred/lib/python3.7/site-packages/pandas/core/reshape/merge.py:643: UserWarning: merging between different levels can give an unintended result (2 levels on the left,1 on the right)\n",
      "  warnings.warn(msg, UserWarning)\n"
     ]
    },
    {
     "data": {
      "text/html": [
       "<div>\n",
       "<style scoped>\n",
       "    .dataframe tbody tr th:only-of-type {\n",
       "        vertical-align: middle;\n",
       "    }\n",
       "\n",
       "    .dataframe tbody tr th {\n",
       "        vertical-align: top;\n",
       "    }\n",
       "\n",
       "    .dataframe thead th {\n",
       "        text-align: right;\n",
       "    }\n",
       "</style>\n",
       "<table border=\"1\" class=\"dataframe\">\n",
       "  <thead>\n",
       "    <tr style=\"text-align: right;\">\n",
       "      <th></th>\n",
       "      <th>Mean MXN Price</th>\n",
       "      <th>Cunts</th>\n",
       "      <th>%</th>\n",
       "    </tr>\n",
       "    <tr>\n",
       "      <th>HAS_POWER_TRIM</th>\n",
       "      <th></th>\n",
       "      <th></th>\n",
       "      <th></th>\n",
       "    </tr>\n",
       "  </thead>\n",
       "  <tbody>\n",
       "    <tr>\n",
       "      <th>nan</th>\n",
       "      <td>3.418183e+05</td>\n",
       "      <td>9955</td>\n",
       "      <td>99.909675</td>\n",
       "    </tr>\n",
       "    <tr>\n",
       "      <th>No</th>\n",
       "      <td>1.857435e+06</td>\n",
       "      <td>5</td>\n",
       "      <td>0.050181</td>\n",
       "    </tr>\n",
       "    <tr>\n",
       "      <th>Sí</th>\n",
       "      <td>1.327522e+06</td>\n",
       "      <td>4</td>\n",
       "      <td>0.040145</td>\n",
       "    </tr>\n",
       "  </tbody>\n",
       "</table>\n",
       "</div>"
      ],
      "text/plain": [
       "                Mean MXN Price  Cunts          %\n",
       "HAS_POWER_TRIM                                  \n",
       "nan               3.418183e+05   9955  99.909675\n",
       "No                1.857435e+06      5   0.050181\n",
       "Sí                1.327522e+06      4   0.040145"
      ]
     },
     "execution_count": 120,
     "metadata": {},
     "output_type": "execute_result"
    }
   ],
   "source": [
    "feature_name = \"HAS_POWER_TRIM\"\n",
    "categorical_preprocessing(cars_dataset_df,feature_name)"
   ]
  },
  {
   "cell_type": "code",
   "execution_count": 121,
   "metadata": {},
   "outputs": [
    {
     "data": {
      "text/plain": [
       "\"\\n'TRANSMISSION', 'TRIM',\\n       'VEHICLE_YEAR', 'SINGLE_OWNER', 'ENGINE_MANUFACTURER', 'MOTO_TYPE',\\n       'CYLINDERS', 'LOADING_CAPACITY', 'HOURS_OF_USE', 'FORKLIFT_TYPE',\\n       'HAS_POWER_TRIM', 'ENGINE_QUANTITY', 'BEAM', 'OPERATING_WEIGHT', 'LINE',\\n       'WEIGHT', 'DRAFT', 'INTERNAL_DIAMETER', 'MAX_POWER', 'Price_MXN'],\\n\""
      ]
     },
     "execution_count": 121,
     "metadata": {},
     "output_type": "execute_result"
    }
   ],
   "source": [
    "'''\n",
    "'TRANSMISSION', 'TRIM',\n",
    "       'VEHICLE_YEAR', 'SINGLE_OWNER', 'ENGINE_MANUFACTURER', 'MOTO_TYPE',\n",
    "       'CYLINDERS', 'LOADING_CAPACITY', 'HOURS_OF_USE', 'FORKLIFT_TYPE',\n",
    "       'HAS_POWER_TRIM', 'ENGINE_QUANTITY', 'BEAM', 'OPERATING_WEIGHT', 'LINE',\n",
    "       'WEIGHT', 'DRAFT', 'INTERNAL_DIAMETER', 'MAX_POWER', 'Price_MXN'],\n",
    "'''"
   ]
  },
  {
   "cell_type": "markdown",
   "metadata": {},
   "source": [
    "##  ENGINE_QUANTITY"
   ]
  },
  {
   "cell_type": "code",
   "execution_count": 126,
   "metadata": {},
   "outputs": [
    {
     "name": "stdout",
     "output_type": "stream",
     "text": [
      "Número de ejemplos con 'LENGTH' 3\n",
      "Número de ejemplos con 'NaN' 9961\n"
     ]
    },
    {
     "data": {
      "text/plain": [
       "MLM805152052   NaN\n",
       "MLM804194237   NaN\n",
       "MLM810635258   NaN\n",
       "MLM805511847   NaN\n",
       "MLM796882323   NaN\n",
       "                ..\n",
       "MLM812412908   NaN\n",
       "MLM812404163   NaN\n",
       "MLM812399606   NaN\n",
       "MLM812395158   NaN\n",
       "MLM812354996   NaN\n",
       "Name: ENGINE_QUANTITY, Length: 9964, dtype: float64"
      ]
     },
     "execution_count": 126,
     "metadata": {},
     "output_type": "execute_result"
    }
   ],
   "source": [
    "feature_name=\"ENGINE_QUANTITY\"\n",
    "numerical_preprocessing(cars_dataset_df,feature_name)"
   ]
  },
  {
   "cell_type": "markdown",
   "metadata": {},
   "source": [
    "## BEAM"
   ]
  },
  {
   "cell_type": "code",
   "execution_count": 127,
   "metadata": {},
   "outputs": [
    {
     "name": "stdout",
     "output_type": "stream",
     "text": [
      "UniqueBEAMvalues ['nan' '25 ft' '9 ft' '3.5 ']\n"
     ]
    },
    {
     "name": "stderr",
     "output_type": "stream",
     "text": [
      "/home/sergio/miniconda3/envs/carpricepred/lib/python3.7/site-packages/pandas/core/reshape/merge.py:643: UserWarning: merging between different levels can give an unintended result (2 levels on the left,1 on the right)\n",
      "  warnings.warn(msg, UserWarning)\n"
     ]
    },
    {
     "data": {
      "text/html": [
       "<div>\n",
       "<style scoped>\n",
       "    .dataframe tbody tr th:only-of-type {\n",
       "        vertical-align: middle;\n",
       "    }\n",
       "\n",
       "    .dataframe tbody tr th {\n",
       "        vertical-align: top;\n",
       "    }\n",
       "\n",
       "    .dataframe thead th {\n",
       "        text-align: right;\n",
       "    }\n",
       "</style>\n",
       "<table border=\"1\" class=\"dataframe\">\n",
       "  <thead>\n",
       "    <tr style=\"text-align: right;\">\n",
       "      <th></th>\n",
       "      <th>Mean MXN Price</th>\n",
       "      <th>Cunts</th>\n",
       "      <th>%</th>\n",
       "    </tr>\n",
       "    <tr>\n",
       "      <th>BEAM</th>\n",
       "      <th></th>\n",
       "      <th></th>\n",
       "      <th></th>\n",
       "    </tr>\n",
       "  </thead>\n",
       "  <tbody>\n",
       "    <tr>\n",
       "      <th>nan</th>\n",
       "      <td>3.426773e+05</td>\n",
       "      <td>9961</td>\n",
       "      <td>99.969892</td>\n",
       "    </tr>\n",
       "    <tr>\n",
       "      <th>25 ft</th>\n",
       "      <td>2.400000e+05</td>\n",
       "      <td>1</td>\n",
       "      <td>0.010036</td>\n",
       "    </tr>\n",
       "    <tr>\n",
       "      <th>3.5</th>\n",
       "      <td>6.500000e+05</td>\n",
       "      <td>1</td>\n",
       "      <td>0.010036</td>\n",
       "    </tr>\n",
       "    <tr>\n",
       "      <th>9 ft</th>\n",
       "      <td>3.100000e+06</td>\n",
       "      <td>1</td>\n",
       "      <td>0.010036</td>\n",
       "    </tr>\n",
       "  </tbody>\n",
       "</table>\n",
       "</div>"
      ],
      "text/plain": [
       "       Mean MXN Price  Cunts          %\n",
       "BEAM                                   \n",
       "nan      3.426773e+05   9961  99.969892\n",
       "25 ft    2.400000e+05      1   0.010036\n",
       "3.5      6.500000e+05      1   0.010036\n",
       "9 ft     3.100000e+06      1   0.010036"
      ]
     },
     "execution_count": 127,
     "metadata": {},
     "output_type": "execute_result"
    }
   ],
   "source": [
    "feature_name=\"BEAM\"\n",
    "categorical_preprocessing(cars_dataset_df,feature_name)"
   ]
  },
  {
   "cell_type": "markdown",
   "metadata": {},
   "source": [
    "## OPERATING_WEIGHT"
   ]
  },
  {
   "cell_type": "code",
   "execution_count": 130,
   "metadata": {},
   "outputs": [
    {
     "name": "stdout",
     "output_type": "stream",
     "text": [
      "Número de ejemplos con 'LENGTH' 4\n",
      "Número de ejemplos con 'NaN' 9960\n"
     ]
    },
    {
     "data": {
      "text/plain": [
       "MLM805152052   NaN\n",
       "MLM804194237   NaN\n",
       "MLM810635258   NaN\n",
       "MLM805511847   NaN\n",
       "MLM796882323   NaN\n",
       "                ..\n",
       "MLM812412908   NaN\n",
       "MLM812404163   NaN\n",
       "MLM812399606   NaN\n",
       "MLM812395158   NaN\n",
       "MLM812354996   NaN\n",
       "Name: OPERATING_WEIGHT, Length: 9964, dtype: float64"
      ]
     },
     "execution_count": 130,
     "metadata": {},
     "output_type": "execute_result"
    }
   ],
   "source": [
    "feature_name=\"OPERATING_WEIGHT\"\n",
    "numerical_preprocessing(cars_dataset_df,feature_name,weights_conversion,weight_conversion_dict)"
   ]
  },
  {
   "cell_type": "code",
   "execution_count": 131,
   "metadata": {},
   "outputs": [
    {
     "data": {
      "image/png": "[encoded data removed]",
      "text/plain": [
       "<Figure size 360x360 with 1 Axes>"
      ]
     },
     "metadata": {
      "needs_background": "light"
     },
     "output_type": "display_data"
    }
   ],
   "source": [
    "sns.relplot(y=\"Price_MXN\", x=feature_name, data=cars_dataset_df);"
   ]
  },
  {
   "cell_type": "markdown",
   "metadata": {},
   "source": [
    "## LINE"
   ]
  },
  {
   "cell_type": "code",
   "execution_count": 132,
   "metadata": {},
   "outputs": [
    {
     "name": "stdout",
     "output_type": "stream",
     "text": [
      "UniqueLINEvalues ['nan' 'l20']\n"
     ]
    },
    {
     "name": "stderr",
     "output_type": "stream",
     "text": [
      "/home/sergio/miniconda3/envs/carpricepred/lib/python3.7/site-packages/pandas/core/reshape/merge.py:643: UserWarning: merging between different levels can give an unintended result (2 levels on the left,1 on the right)\n",
      "  warnings.warn(msg, UserWarning)\n"
     ]
    },
    {
     "data": {
      "text/html": [
       "<div>\n",
       "<style scoped>\n",
       "    .dataframe tbody tr th:only-of-type {\n",
       "        vertical-align: middle;\n",
       "    }\n",
       "\n",
       "    .dataframe tbody tr th {\n",
       "        vertical-align: top;\n",
       "    }\n",
       "\n",
       "    .dataframe thead th {\n",
       "        text-align: right;\n",
       "    }\n",
       "</style>\n",
       "<table border=\"1\" class=\"dataframe\">\n",
       "  <thead>\n",
       "    <tr style=\"text-align: right;\">\n",
       "      <th></th>\n",
       "      <th>Mean MXN Price</th>\n",
       "      <th>Cunts</th>\n",
       "      <th>%</th>\n",
       "    </tr>\n",
       "    <tr>\n",
       "      <th>LINE</th>\n",
       "      <th></th>\n",
       "      <th></th>\n",
       "      <th></th>\n",
       "    </tr>\n",
       "  </thead>\n",
       "  <tbody>\n",
       "    <tr>\n",
       "      <th>nan</th>\n",
       "      <td>342970.350379</td>\n",
       "      <td>9963</td>\n",
       "      <td>99.989964</td>\n",
       "    </tr>\n",
       "    <tr>\n",
       "      <th>l20</th>\n",
       "      <td>385000.000000</td>\n",
       "      <td>1</td>\n",
       "      <td>0.010036</td>\n",
       "    </tr>\n",
       "  </tbody>\n",
       "</table>\n",
       "</div>"
      ],
      "text/plain": [
       "      Mean MXN Price  Cunts          %\n",
       "LINE                                  \n",
       "nan    342970.350379   9963  99.989964\n",
       "l20    385000.000000      1   0.010036"
      ]
     },
     "execution_count": 132,
     "metadata": {},
     "output_type": "execute_result"
    }
   ],
   "source": [
    "categorical_preprocessing(cars_dataset_df,\"LINE\")"
   ]
  },
  {
   "cell_type": "markdown",
   "metadata": {},
   "source": [
    "## WEIGHT"
   ]
  },
  {
   "cell_type": "code",
   "execution_count": 134,
   "metadata": {},
   "outputs": [
    {
     "name": "stdout",
     "output_type": "stream",
     "text": [
      "UniqueWEIGHTvalues ['nan' '2150 kg' '3240 kg']\n"
     ]
    },
    {
     "name": "stderr",
     "output_type": "stream",
     "text": [
      "/home/sergio/miniconda3/envs/carpricepred/lib/python3.7/site-packages/pandas/core/reshape/merge.py:643: UserWarning: merging between different levels can give an unintended result (2 levels on the left,1 on the right)\n",
      "  warnings.warn(msg, UserWarning)\n"
     ]
    },
    {
     "data": {
      "text/html": [
       "<div>\n",
       "<style scoped>\n",
       "    .dataframe tbody tr th:only-of-type {\n",
       "        vertical-align: middle;\n",
       "    }\n",
       "\n",
       "    .dataframe tbody tr th {\n",
       "        vertical-align: top;\n",
       "    }\n",
       "\n",
       "    .dataframe thead th {\n",
       "        text-align: right;\n",
       "    }\n",
       "</style>\n",
       "<table border=\"1\" class=\"dataframe\">\n",
       "  <thead>\n",
       "    <tr style=\"text-align: right;\">\n",
       "      <th></th>\n",
       "      <th>Mean MXN Price</th>\n",
       "      <th>Cunts</th>\n",
       "      <th>%</th>\n",
       "    </tr>\n",
       "    <tr>\n",
       "      <th>WEIGHT</th>\n",
       "      <th></th>\n",
       "      <th></th>\n",
       "      <th></th>\n",
       "    </tr>\n",
       "  </thead>\n",
       "  <tbody>\n",
       "    <tr>\n",
       "      <th>nan</th>\n",
       "      <td>342937.121143</td>\n",
       "      <td>9962</td>\n",
       "      <td>99.979928</td>\n",
       "    </tr>\n",
       "    <tr>\n",
       "      <th>2150 kg</th>\n",
       "      <td>580000.000000</td>\n",
       "      <td>1</td>\n",
       "      <td>0.010036</td>\n",
       "    </tr>\n",
       "    <tr>\n",
       "      <th>3240 kg</th>\n",
       "      <td>479000.000000</td>\n",
       "      <td>1</td>\n",
       "      <td>0.010036</td>\n",
       "    </tr>\n",
       "  </tbody>\n",
       "</table>\n",
       "</div>"
      ],
      "text/plain": [
       "         Mean MXN Price  Cunts          %\n",
       "WEIGHT                                   \n",
       "nan       342937.121143   9962  99.979928\n",
       "2150 kg   580000.000000      1   0.010036\n",
       "3240 kg   479000.000000      1   0.010036"
      ]
     },
     "execution_count": 134,
     "metadata": {},
     "output_type": "execute_result"
    }
   ],
   "source": [
    "categorical_preprocessing(cars_dataset_df,\"WEIGHT\")"
   ]
  },
  {
   "cell_type": "markdown",
   "metadata": {},
   "source": [
    "## DRAFT"
   ]
  },
  {
   "cell_type": "code",
   "execution_count": 135,
   "metadata": {},
   "outputs": [
    {
     "name": "stdout",
     "output_type": "stream",
     "text": [
      "UniqueDRAFTvalues ['nan' '1.0']\n"
     ]
    },
    {
     "name": "stderr",
     "output_type": "stream",
     "text": [
      "/home/sergio/miniconda3/envs/carpricepred/lib/python3.7/site-packages/pandas/core/reshape/merge.py:643: UserWarning: merging between different levels can give an unintended result (2 levels on the left,1 on the right)\n",
      "  warnings.warn(msg, UserWarning)\n"
     ]
    },
    {
     "data": {
      "text/html": [
       "<div>\n",
       "<style scoped>\n",
       "    .dataframe tbody tr th:only-of-type {\n",
       "        vertical-align: middle;\n",
       "    }\n",
       "\n",
       "    .dataframe tbody tr th {\n",
       "        vertical-align: top;\n",
       "    }\n",
       "\n",
       "    .dataframe thead th {\n",
       "        text-align: right;\n",
       "    }\n",
       "</style>\n",
       "<table border=\"1\" class=\"dataframe\">\n",
       "  <thead>\n",
       "    <tr style=\"text-align: right;\">\n",
       "      <th></th>\n",
       "      <th>Mean MXN Price</th>\n",
       "      <th>Cunts</th>\n",
       "      <th>%</th>\n",
       "    </tr>\n",
       "    <tr>\n",
       "      <th>DRAFT</th>\n",
       "      <th></th>\n",
       "      <th></th>\n",
       "      <th></th>\n",
       "    </tr>\n",
       "  </thead>\n",
       "  <tbody>\n",
       "    <tr>\n",
       "      <th>nan</th>\n",
       "      <td>342943.751964</td>\n",
       "      <td>9963</td>\n",
       "      <td>99.989964</td>\n",
       "    </tr>\n",
       "    <tr>\n",
       "      <th>1.0</th>\n",
       "      <td>650000.000000</td>\n",
       "      <td>1</td>\n",
       "      <td>0.010036</td>\n",
       "    </tr>\n",
       "  </tbody>\n",
       "</table>\n",
       "</div>"
      ],
      "text/plain": [
       "       Mean MXN Price  Cunts          %\n",
       "DRAFT                                  \n",
       "nan     342943.751964   9963  99.989964\n",
       "1.0     650000.000000      1   0.010036"
      ]
     },
     "execution_count": 135,
     "metadata": {},
     "output_type": "execute_result"
    }
   ],
   "source": [
    "categorical_preprocessing(cars_dataset_df,\"DRAFT\")"
   ]
  },
  {
   "cell_type": "markdown",
   "metadata": {},
   "source": [
    "## INTERNAL_DIAMETER"
   ]
  },
  {
   "cell_type": "code",
   "execution_count": 136,
   "metadata": {},
   "outputs": [
    {
     "name": "stdout",
     "output_type": "stream",
     "text": [
      "UniqueINTERNAL_DIAMETERvalues ['nan' '14.0']\n"
     ]
    },
    {
     "name": "stderr",
     "output_type": "stream",
     "text": [
      "/home/sergio/miniconda3/envs/carpricepred/lib/python3.7/site-packages/pandas/core/reshape/merge.py:643: UserWarning: merging between different levels can give an unintended result (2 levels on the left,1 on the right)\n",
      "  warnings.warn(msg, UserWarning)\n"
     ]
    },
    {
     "data": {
      "text/html": [
       "<div>\n",
       "<style scoped>\n",
       "    .dataframe tbody tr th:only-of-type {\n",
       "        vertical-align: middle;\n",
       "    }\n",
       "\n",
       "    .dataframe tbody tr th {\n",
       "        vertical-align: top;\n",
       "    }\n",
       "\n",
       "    .dataframe thead th {\n",
       "        text-align: right;\n",
       "    }\n",
       "</style>\n",
       "<table border=\"1\" class=\"dataframe\">\n",
       "  <thead>\n",
       "    <tr style=\"text-align: right;\">\n",
       "      <th></th>\n",
       "      <th>Mean MXN Price</th>\n",
       "      <th>Cunts</th>\n",
       "      <th>%</th>\n",
       "    </tr>\n",
       "    <tr>\n",
       "      <th>INTERNAL_DIAMETER</th>\n",
       "      <th></th>\n",
       "      <th></th>\n",
       "      <th></th>\n",
       "    </tr>\n",
       "  </thead>\n",
       "  <tbody>\n",
       "    <tr>\n",
       "      <th>nan</th>\n",
       "      <td>3.428389e+05</td>\n",
       "      <td>9963</td>\n",
       "      <td>99.989964</td>\n",
       "    </tr>\n",
       "    <tr>\n",
       "      <th>14.0</th>\n",
       "      <td>1.695000e+06</td>\n",
       "      <td>1</td>\n",
       "      <td>0.010036</td>\n",
       "    </tr>\n",
       "  </tbody>\n",
       "</table>\n",
       "</div>"
      ],
      "text/plain": [
       "                   Mean MXN Price  Cunts          %\n",
       "INTERNAL_DIAMETER                                  \n",
       "nan                  3.428389e+05   9963  99.989964\n",
       "14.0                 1.695000e+06      1   0.010036"
      ]
     },
     "execution_count": 136,
     "metadata": {},
     "output_type": "execute_result"
    }
   ],
   "source": [
    "categorical_preprocessing(cars_dataset_df,\"INTERNAL_DIAMETER\")"
   ]
  },
  {
   "cell_type": "markdown",
   "metadata": {},
   "source": [
    "## MAX_POWER"
   ]
  },
  {
   "cell_type": "code",
   "execution_count": 137,
   "metadata": {},
   "outputs": [
    {
     "name": "stdout",
     "output_type": "stream",
     "text": [
      "UniqueMAX_POWERvalues ['nan' '2050 W' '1450 W']\n"
     ]
    },
    {
     "name": "stderr",
     "output_type": "stream",
     "text": [
      "/home/sergio/miniconda3/envs/carpricepred/lib/python3.7/site-packages/pandas/core/reshape/merge.py:643: UserWarning: merging between different levels can give an unintended result (2 levels on the left,1 on the right)\n",
      "  warnings.warn(msg, UserWarning)\n"
     ]
    },
    {
     "data": {
      "text/html": [
       "<div>\n",
       "<style scoped>\n",
       "    .dataframe tbody tr th:only-of-type {\n",
       "        vertical-align: middle;\n",
       "    }\n",
       "\n",
       "    .dataframe tbody tr th {\n",
       "        vertical-align: top;\n",
       "    }\n",
       "\n",
       "    .dataframe thead th {\n",
       "        text-align: right;\n",
       "    }\n",
       "</style>\n",
       "<table border=\"1\" class=\"dataframe\">\n",
       "  <thead>\n",
       "    <tr style=\"text-align: right;\">\n",
       "      <th></th>\n",
       "      <th>Mean MXN Price</th>\n",
       "      <th>Cunts</th>\n",
       "      <th>%</th>\n",
       "    </tr>\n",
       "    <tr>\n",
       "      <th>MAX_POWER</th>\n",
       "      <th></th>\n",
       "      <th></th>\n",
       "      <th></th>\n",
       "    </tr>\n",
       "  </thead>\n",
       "  <tbody>\n",
       "    <tr>\n",
       "      <th>nan</th>\n",
       "      <td>3.427786e+05</td>\n",
       "      <td>9962</td>\n",
       "      <td>99.979928</td>\n",
       "    </tr>\n",
       "    <tr>\n",
       "      <th>1450 W</th>\n",
       "      <td>1.269000e+06</td>\n",
       "      <td>1</td>\n",
       "      <td>0.010036</td>\n",
       "    </tr>\n",
       "    <tr>\n",
       "      <th>2050 W</th>\n",
       "      <td>1.369000e+06</td>\n",
       "      <td>1</td>\n",
       "      <td>0.010036</td>\n",
       "    </tr>\n",
       "  </tbody>\n",
       "</table>\n",
       "</div>"
      ],
      "text/plain": [
       "           Mean MXN Price  Cunts          %\n",
       "MAX_POWER                                  \n",
       "nan          3.427786e+05   9962  99.979928\n",
       "1450 W       1.269000e+06      1   0.010036\n",
       "2050 W       1.369000e+06      1   0.010036"
      ]
     },
     "execution_count": 137,
     "metadata": {},
     "output_type": "execute_result"
    }
   ],
   "source": [
    "categorical_preprocessing(cars_dataset_df,\"MAX_POWER\")"
   ]
  },
  {
   "cell_type": "markdown",
   "metadata": {},
   "source": [
    "## SAVE DATASET"
   ]
  },
  {
   "cell_type": "code",
   "execution_count": 138,
   "metadata": {},
   "outputs": [
    {
     "data": {
      "text/html": [
       "<div>\n",
       "<style scoped>\n",
       "    .dataframe tbody tr th:only-of-type {\n",
       "        vertical-align: middle;\n",
       "    }\n",
       "\n",
       "    .dataframe tbody tr th {\n",
       "        vertical-align: top;\n",
       "    }\n",
       "\n",
       "    .dataframe thead th {\n",
       "        text-align: right;\n",
       "    }\n",
       "</style>\n",
       "<table border=\"1\" class=\"dataframe\">\n",
       "  <thead>\n",
       "    <tr style=\"text-align: right;\">\n",
       "      <th></th>\n",
       "      <th>Condition</th>\n",
       "      <th>State</th>\n",
       "      <th>City</th>\n",
       "      <th>ITEM_CONDITION</th>\n",
       "      <th>LENGTH</th>\n",
       "      <th>PASSENGER_CAPACITY</th>\n",
       "      <th>POWER</th>\n",
       "      <th>TRACTION_CONTROL</th>\n",
       "      <th>HAS_AIR_CONDITIONING</th>\n",
       "      <th>ENGINE_DISPLACEMENT</th>\n",
       "      <th>...</th>\n",
       "      <th>HAS_POWER_TRIM</th>\n",
       "      <th>ENGINE_QUANTITY</th>\n",
       "      <th>BEAM</th>\n",
       "      <th>OPERATING_WEIGHT</th>\n",
       "      <th>LINE</th>\n",
       "      <th>WEIGHT</th>\n",
       "      <th>DRAFT</th>\n",
       "      <th>INTERNAL_DIAMETER</th>\n",
       "      <th>MAX_POWER</th>\n",
       "      <th>Price_MXN</th>\n",
       "    </tr>\n",
       "  </thead>\n",
       "  <tbody>\n",
       "    <tr>\n",
       "      <th>MLM805152052</th>\n",
       "      <td>used</td>\n",
       "      <td>Hidalgo</td>\n",
       "      <td>Pachuca De Soto</td>\n",
       "      <td>Usado</td>\n",
       "      <td>4923.0</td>\n",
       "      <td>5.0</td>\n",
       "      <td>185.0</td>\n",
       "      <td>Trasera</td>\n",
       "      <td>Sí</td>\n",
       "      <td>1991.0</td>\n",
       "      <td>...</td>\n",
       "      <td>nan</td>\n",
       "      <td>NaN</td>\n",
       "      <td>nan</td>\n",
       "      <td>NaN</td>\n",
       "      <td>nan</td>\n",
       "      <td>nan</td>\n",
       "      <td>nan</td>\n",
       "      <td>nan</td>\n",
       "      <td>nan</td>\n",
       "      <td>329000.0</td>\n",
       "    </tr>\n",
       "    <tr>\n",
       "      <th>MLM804194237</th>\n",
       "      <td>used</td>\n",
       "      <td>Hidalgo</td>\n",
       "      <td>Pachuca De Soto</td>\n",
       "      <td>Usado</td>\n",
       "      <td>4432.0</td>\n",
       "      <td>2.0</td>\n",
       "      <td>184.0</td>\n",
       "      <td>Trasera</td>\n",
       "      <td>Sí</td>\n",
       "      <td>1997.0</td>\n",
       "      <td>...</td>\n",
       "      <td>nan</td>\n",
       "      <td>NaN</td>\n",
       "      <td>nan</td>\n",
       "      <td>NaN</td>\n",
       "      <td>nan</td>\n",
       "      <td>nan</td>\n",
       "      <td>nan</td>\n",
       "      <td>nan</td>\n",
       "      <td>nan</td>\n",
       "      <td>295000.0</td>\n",
       "    </tr>\n",
       "    <tr>\n",
       "      <th>MLM810635258</th>\n",
       "      <td>used</td>\n",
       "      <td>Hidalgo</td>\n",
       "      <td>Pachuca De Soto</td>\n",
       "      <td>Usado</td>\n",
       "      <td>NaN</td>\n",
       "      <td>NaN</td>\n",
       "      <td>NaN</td>\n",
       "      <td>nan</td>\n",
       "      <td>nan</td>\n",
       "      <td>650.0</td>\n",
       "      <td>...</td>\n",
       "      <td>nan</td>\n",
       "      <td>NaN</td>\n",
       "      <td>nan</td>\n",
       "      <td>NaN</td>\n",
       "      <td>nan</td>\n",
       "      <td>nan</td>\n",
       "      <td>nan</td>\n",
       "      <td>nan</td>\n",
       "      <td>nan</td>\n",
       "      <td>189000.0</td>\n",
       "    </tr>\n",
       "    <tr>\n",
       "      <th>MLM805511847</th>\n",
       "      <td>used</td>\n",
       "      <td>Hidalgo</td>\n",
       "      <td>Pachuca De Soto</td>\n",
       "      <td>Usado</td>\n",
       "      <td>NaN</td>\n",
       "      <td>5.0</td>\n",
       "      <td>NaN</td>\n",
       "      <td>4x4</td>\n",
       "      <td>Sí</td>\n",
       "      <td>3600.0</td>\n",
       "      <td>...</td>\n",
       "      <td>nan</td>\n",
       "      <td>NaN</td>\n",
       "      <td>nan</td>\n",
       "      <td>NaN</td>\n",
       "      <td>nan</td>\n",
       "      <td>nan</td>\n",
       "      <td>nan</td>\n",
       "      <td>nan</td>\n",
       "      <td>nan</td>\n",
       "      <td>259000.0</td>\n",
       "    </tr>\n",
       "    <tr>\n",
       "      <th>MLM796882323</th>\n",
       "      <td>used</td>\n",
       "      <td>Puebla</td>\n",
       "      <td>Puebla</td>\n",
       "      <td>Usado</td>\n",
       "      <td>4834.0</td>\n",
       "      <td>5.0</td>\n",
       "      <td>NaN</td>\n",
       "      <td>4x4</td>\n",
       "      <td>Sí</td>\n",
       "      <td>3600.0</td>\n",
       "      <td>...</td>\n",
       "      <td>nan</td>\n",
       "      <td>NaN</td>\n",
       "      <td>nan</td>\n",
       "      <td>NaN</td>\n",
       "      <td>nan</td>\n",
       "      <td>nan</td>\n",
       "      <td>nan</td>\n",
       "      <td>nan</td>\n",
       "      <td>nan</td>\n",
       "      <td>349900.0</td>\n",
       "    </tr>\n",
       "  </tbody>\n",
       "</table>\n",
       "<p>5 rows × 36 columns</p>\n",
       "</div>"
      ],
      "text/plain": [
       "             Condition    State             City ITEM_CONDITION  LENGTH  \\\n",
       "MLM805152052      used  Hidalgo  Pachuca De Soto          Usado  4923.0   \n",
       "MLM804194237      used  Hidalgo  Pachuca De Soto          Usado  4432.0   \n",
       "MLM810635258      used  Hidalgo  Pachuca De Soto          Usado     NaN   \n",
       "MLM805511847      used  Hidalgo  Pachuca De Soto          Usado     NaN   \n",
       "MLM796882323      used   Puebla           Puebla          Usado  4834.0   \n",
       "\n",
       "              PASSENGER_CAPACITY  POWER TRACTION_CONTROL HAS_AIR_CONDITIONING  \\\n",
       "MLM805152052                 5.0  185.0          Trasera                   Sí   \n",
       "MLM804194237                 2.0  184.0          Trasera                   Sí   \n",
       "MLM810635258                 NaN    NaN              nan                  nan   \n",
       "MLM805511847                 5.0    NaN              4x4                   Sí   \n",
       "MLM796882323                 5.0    NaN              4x4                   Sí   \n",
       "\n",
       "              ENGINE_DISPLACEMENT  ... HAS_POWER_TRIM ENGINE_QUANTITY BEAM  \\\n",
       "MLM805152052               1991.0  ...            nan             NaN  nan   \n",
       "MLM804194237               1997.0  ...            nan             NaN  nan   \n",
       "MLM810635258                650.0  ...            nan             NaN  nan   \n",
       "MLM805511847               3600.0  ...            nan             NaN  nan   \n",
       "MLM796882323               3600.0  ...            nan             NaN  nan   \n",
       "\n",
       "             OPERATING_WEIGHT  LINE WEIGHT DRAFT INTERNAL_DIAMETER  MAX_POWER  \\\n",
       "MLM805152052              NaN   nan    nan   nan               nan        nan   \n",
       "MLM804194237              NaN   nan    nan   nan               nan        nan   \n",
       "MLM810635258              NaN   nan    nan   nan               nan        nan   \n",
       "MLM805511847              NaN   nan    nan   nan               nan        nan   \n",
       "MLM796882323              NaN   nan    nan   nan               nan        nan   \n",
       "\n",
       "             Price_MXN  \n",
       "MLM805152052  329000.0  \n",
       "MLM804194237  295000.0  \n",
       "MLM810635258  189000.0  \n",
       "MLM805511847  259000.0  \n",
       "MLM796882323  349900.0  \n",
       "\n",
       "[5 rows x 36 columns]"
      ]
     },
     "execution_count": 138,
     "metadata": {},
     "output_type": "execute_result"
    }
   ],
   "source": [
    "cars_dataset_df.head()"
   ]
  },
  {
   "cell_type": "code",
   "execution_count": 139,
   "metadata": {},
   "outputs": [],
   "source": [
    "cars_dataset_df.to_csv(\"car_price_dataset.csv\",index=True)"
   ]
  },
  {
   "cell_type": "code",
   "execution_count": null,
   "metadata": {},
   "outputs": [],
   "source": []
  }
 ],
 "metadata": {
  "kernelspec": {
   "display_name": "Python 3",
   "language": "python",
   "name": "python3"
  },
  "language_info": {
   "codemirror_mode": {
    "name": "ipython",
    "version": 3
   },
   "file_extension": ".py",
   "mimetype": "text/x-python",
   "name": "python",
   "nbconvert_exporter": "python",
   "pygments_lexer": "ipython3",
   "version": "3.7.9"
  }
 },
 "nbformat": 4,
 "nbformat_minor": 4
}
